{
 "cells": [
  {
   "cell_type": "markdown",
   "id": "dceec5fc-3331-4b7e-b549-ba50b7b0b02e",
   "metadata": {},
   "source": [
    "### Distribution of obtainable sums"
   ]
  },
  {
   "cell_type": "code",
   "execution_count": 116,
   "id": "0a575b03-33b8-493f-9ec4-3d6306bd9220",
   "metadata": {
    "tags": []
   },
   "outputs": [],
   "source": [
    "import numpy as np\n",
    "from collections import defaultdict\n",
    "from itertools import product, combinations\n",
    "\n",
    "def modinv(a, q):\n",
    "    \"\"\"Modular inverse in F_q.\"\"\"\n",
    "    a = int(a)\n",
    "    if a == 0:\n",
    "        raise ValueError(\"No inverse for zero\")\n",
    "    try:\n",
    "        return pow(a, -1, q)\n",
    "    except:\n",
    "        print(a,q)\n",
    "\n",
    "def classify_columns_by_type(A, q):\n",
    "    \"\"\"Classify columns in A by their types.\"\"\"\n",
    "    types = {'00': [], '10': [], '01': [], '11': defaultdict(list)}\n",
    "    for i in range(A.shape[1]):\n",
    "        a0, a1 = int(A[0, i]), int(A[1, i])\n",
    "        key = ('0' if a0 == 0 else '1') + ('0' if a1 == 0 else '1')\n",
    "        if key == '11':\n",
    "            ratio = (a0 * modinv(a1, q)) % q\n",
    "            types['11'][ratio].append(i)\n",
    "        else:\n",
    "            types[key].append(i)\n",
    "    return types\n",
    "\n",
    "def do(B,k,q):\n",
    "    types_B = classify_columns_by_type(B, q)\n",
    "    z=[len(types_B[\"11\"][i]) for i in types_B[\"11\"].keys()]\n",
    "    z+= [len(types_B[\"00\"]),len(types_B[\"01\"]),len(types_B[\"10\"])]\n",
    "    # print(z)\n",
    "    return subset_sum_dp(z,k)\n",
    "    \n",
    "import random\n",
    "\n",
    "def subset_sum_dp(nums, target):\n",
    "    n = len(nums)\n",
    "    total = sum(nums)\n",
    "    dp = [[False] * (total + 1) for _ in range(n + 1)]\n",
    "    dp[0][0] = True\n",
    "\n",
    "    for i in range(1, n + 1):\n",
    "        num = nums[i - 1]\n",
    "        for t in range(total + 1):\n",
    "            if t >= num:\n",
    "                dp[i][t] = dp[i - 1][t] or dp[i - 1][t - num]\n",
    "            else:\n",
    "                dp[i][t] = dp[i - 1][t]\n",
    "    return dp[n]\n",
    "\n"
   ]
  },
  {
   "cell_type": "code",
   "execution_count": 117,
   "id": "dcb306b5-9970-4fba-861c-f4dde383bd24",
   "metadata": {
    "tags": []
   },
   "outputs": [],
   "source": [
    "import matplotlib.pyplot as plt\n",
    "def plot(L,label_list):\n",
    "    \"\"\"\n",
    "    function to plot list of lists of the form L=[L1,L2,...] with Li=[[x1,y1],[x2,y2],...]\n",
    "    \"\"\"\n",
    "    c=0\n",
    "    for Li in L:\n",
    "        x,y=zip(*Li)\n",
    "        if c%2==0:\n",
    "            color=\"blue\"\n",
    "            s=1\n",
    "        else:\n",
    "            color=\"red\"\n",
    "            s=1\n",
    "        plt.scatter(x,y, label=label_list[c],s=s,color=color)\n",
    "        c+=1\n",
    "    plt.legend(bbox_to_anchor=(1.05, 1), loc='upper left')"
   ]
  },
  {
   "cell_type": "code",
   "execution_count": 118,
   "id": "81716af2-fc23-48aa-ab10-1f1eb4e3a656",
   "metadata": {
    "tags": []
   },
   "outputs": [],
   "source": [
    "import random\n",
    "from typing import List, Tuple\n",
    "\n",
    "def generate_two_vectors(n: int, q: int, w: int) -> Tuple[List[int], List[int]]:\n",
    "    \"\"\"Generate two random vectors in Fq^n with Hamming weight w.\"\"\"\n",
    "    if not (0 <= w <= n):\n",
    "        raise ValueError(\"Weight w must be between 0 and n.\")\n",
    "    if q <= 1:\n",
    "        raise ValueError(\"Field size q must be at least 2.\")\n",
    "\n",
    "    def random_vector() -> List[int]:\n",
    "        vec = [0] * n\n",
    "        positions = random.sample(range(n), w)\n",
    "        for pos in positions:\n",
    "            vec[pos] = random.randint(1, q - 1)  # non-zero in Fq\n",
    "        return vec\n",
    "\n",
    "    return random_vector(), random_vector()"
   ]
  },
  {
   "cell_type": "code",
   "execution_count": 119,
   "id": "f86ede0e-844e-40b8-be00-2c0bc158c295",
   "metadata": {
    "tags": []
   },
   "outputs": [],
   "source": [
    "from math import comb as binom\n",
    "def gv_distance(n,k,q):\n",
    "    \"\"\"\n",
    "    Gilbert - Varshamov distance of a code over Fq, with length n and dimension k\n",
    "    \"\"\"\n",
    "    d = 1\n",
    "    right_term = q**(n-k)\n",
    "    left_term = 0\n",
    "    while left_term <= right_term:\n",
    "        left_term += binom(n,d)*(q-1)**d\n",
    "        d+=1\n",
    "\n",
    "    return d"
   ]
  },
  {
   "cell_type": "code",
   "execution_count": 125,
   "id": "8adc12c7-465f-4052-a645-991946fa510a",
   "metadata": {
    "tags": []
   },
   "outputs": [],
   "source": [
    "RATE= 0.4\n",
    "n=1000\n",
    "\n",
    "first_x_primes = 100\n",
    "weight_scaling=1"
   ]
  },
  {
   "cell_type": "code",
   "execution_count": 128,
   "id": "5357b960-506b-41da-8f8c-7e556c3c6a5b",
   "metadata": {
    "tags": []
   },
   "outputs": [
    {
     "name": "stdout",
     "output_type": "stream",
     "text": [
      "For q=2 sum k was not reachable\n",
      "For q=3 sum k was not reachable\n",
      "For q=5 sum k was not reachable\n",
      "For q=7 sum k was not reachable\n",
      "For q=11 sum k was not reachable\n",
      "For q=13 sum k was not reachable\n",
      "done\n"
     ]
    }
   ],
   "source": [
    "from sympy import isprime\n",
    "\n",
    "def random_row(n, w, q):\n",
    "    row = np.zeros(n, dtype=int)\n",
    "    idx = np.random.choice(n, w, replace=False)\n",
    "    row[idx] = np.random.randint(1, q, size=w)\n",
    "    return row\n",
    "L=[]\n",
    "k=int(n*RATE)\n",
    "y=0\n",
    "for q in range(2,20000):\n",
    "    if not(isprime(q)):\n",
    "        continue\n",
    "\n",
    "    w=int(weight_scaling*gv_distance(n,k,q))\n",
    "    deviation=0\n",
    "    while True:\n",
    "        v1,v2=generate_two_vectors(n,q,w)\n",
    "        A = np.vstack([np.array(v1),np.array(v2)])\n",
    "        B = np.vstack([np.array(v1),np.array(v2)])\n",
    "\n",
    "        test = classify_columns_by_type(B,q)\n",
    "        sumi =sum([len(test[\"11\"][i]) for i in test[\"11\"].keys()])\n",
    "        if sumi>=w**2/n:\n",
    "             break\n",
    "\n",
    "    test_arr=do(B,k,q)\n",
    "    \n",
    "    c=0\n",
    "    L1=[]\n",
    "    L2=[]\n",
    "    for i in test_arr:\n",
    "        # test_arr includes the obtainable subset sums as a dictonary\n",
    "        # if a sum is reachable we add it to L1 otherwise to L2. \n",
    "        # here I use y as the y-coordinate instead of q, where q is the y-th prime (so we have no gaps in the plot when there are gaps between consecutive primes)\n",
    "        if i:\n",
    "            L1.append([c,y])\n",
    "            \n",
    "        else:\n",
    "            L2.append([c,y])\n",
    "            if c==k:\n",
    "                # this means for the given q, k was not reachable as a sum, which means we only got an approx solution\n",
    "                print(\"For q=\"+str(q)+\" sum k was not reachable\")\n",
    "        c+=1\n",
    "    y+=1\n",
    "    \n",
    "    if y==first_x_primes:\n",
    "        break\n",
    "    L.append(L1)\n",
    "    if len(L2)==0:\n",
    "        #to avoid errors\n",
    "        L2.append([0,0])\n",
    "    L.append(L2)\n",
    "    \n",
    "print(\"done\")"
   ]
  },
  {
   "cell_type": "code",
   "execution_count": 127,
   "id": "e27c49e0-ce6f-4a22-9874-d10e0f9d1a9b",
   "metadata": {
    "tags": []
   },
   "outputs": [
    {
     "name": "stderr",
     "output_type": "stream",
     "text": [
      "No artists with labels found to put in legend.  Note that artists whose label start with an underscore are ignored when legend() is called with no argument.\n"
     ]
    },
    {
     "data": {
      "image/png": "[encoded data removed]",
      "text/plain": [
       "<Figure size 640x480 with 1 Axes>"
      ]
     },
     "metadata": {},
     "output_type": "display_data"
    }
   ],
   "source": [
    "plot([*L],[\"\" for i in range(len(L))])"
   ]
  },
  {
   "cell_type": "code",
   "execution_count": null,
   "id": "a6825b4f-b27d-4bf9-93fd-dc120c8794d0",
   "metadata": {},
   "outputs": [],
   "source": []
  }
 ],
 "metadata": {
  "kernelspec": {
   "display_name": "Python 3 (ipykernel)",
   "language": "python",
   "name": "python3"
  },
  "language_info": {
   "codemirror_mode": {
    "name": "ipython",
    "version": 3
   },
   "file_extension": ".py",
   "mimetype": "text/x-python",
   "name": "python",
   "nbconvert_exporter": "python",
   "pygments_lexer": "ipython3",
   "version": "3.11.4"
  }
 },
 "nbformat": 4,
 "nbformat_minor": 5
}
