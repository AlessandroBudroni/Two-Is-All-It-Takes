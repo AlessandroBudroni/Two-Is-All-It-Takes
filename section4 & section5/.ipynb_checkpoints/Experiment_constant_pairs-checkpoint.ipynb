{
 "cells": [
  {
   "cell_type": "code",
   "execution_count": 15,
   "id": "cdbe2566-3db8-4425-8ab7-7471357da6c9",
   "metadata": {
    "tags": []
   },
   "outputs": [],
   "source": [
    "import matplotlib.pyplot as plt\n",
    "\n",
    "def plot(L,label_list):\n",
    "    \"\"\"\n",
    "    function to plot list of lists of the form L=[L1,L2,...] with Li=[[x1,y1],[x2,y2],...]\n",
    "    \"\"\"\n",
    "    c=0\n",
    "    for Li in L:\n",
    "        x,y=zip(*Li)\n",
    "        plt.scatter(x,y, label=label_list[c],s=1)\n",
    "        c+=1\n",
    "    plt.legend(bbox_to_anchor=(1.05, 1), loc='upper left')"
   ]
  },
  {
   "cell_type": "code",
   "execution_count": 16,
   "id": "c07cf52c-902a-481b-886c-2f9cb478d777",
   "metadata": {
    "tags": []
   },
   "outputs": [],
   "source": [
    "def find_min_T(w, n, R, q_mod, T_max=10**20, tol=1e-10, X=3):\n",
    "    \"\"\"\n",
    "    Find the smallest integer T such that\n",
    "    Pr[Binomial(T, w/n) ≥ X] ≥ R\n",
    "    \"\"\"\n",
    "    from math import comb\n",
    "\n",
    "\n",
    "    if not (0 < w <= n and 0 < R < 1 and X >= 0):\n",
    "        raise ValueError(\"Check: 0 < w ≤ n, 0 < R < 1, X ≥ 0\")\n",
    "\n",
    "    p = w / n  # use float\n",
    "    q = 1 - p\n",
    "\n",
    "    def tail_prob(T):\n",
    "        # P[Bin(T, p) ≥ X] = 1 - sum_{k=0}^{X-1} C(T,k)p^k(1-p)^{T-k}\n",
    "        return 1 - sum(comb(T, k) * (p ** k) * (q ** (T - k)) for k in range(min(X, T+1)))\n",
    "\n",
    "    for T in range(X, T_max):\n",
    "        if tail_prob(T) >= R - tol:\n",
    "            return T\n",
    "\n",
    "    raise RuntimeError(f\"T not found up to T_max={T_max}\")\n"
   ]
  },
  {
   "cell_type": "code",
   "execution_count": 17,
   "id": "619e7578-83bb-4cd7-9c4f-9c9157fff488",
   "metadata": {
    "tags": []
   },
   "outputs": [
    {
     "name": "stdout",
     "output_type": "stream",
     "text": [
      "Average number of draws: 7.1,8,7\n"
     ]
    },
    {
     "data": {
      "image/png": "[encoded data removed]",
      "text/plain": [
       "<Figure size 640x480 with 1 Axes>"
      ]
     },
     "metadata": {},
     "output_type": "display_data"
    }
   ],
   "source": [
    "import random\n",
    "import numpy as np\n",
    "from math import comb as binom, log, log2\n",
    "\n",
    "def gv_distance(n,k,q):\n",
    "    \"\"\"\n",
    "    Gilbert - Varshamov distance of a code over Fq, with length n and dimension k\n",
    "    \"\"\"\n",
    "    d = 1\n",
    "    right_term = q**(n-k)\n",
    "    left_term = 0\n",
    "    while left_term <= right_term:\n",
    "        left_term += binom(n,d)*(q-1)**d\n",
    "        d+=1\n",
    "\n",
    "    return d\n",
    "\n",
    "def draw_elements(n, w, k, X, num_trials=1000):\n",
    "    # Store the results of the trials\n",
    "    results = []\n",
    "    \n",
    "    for _ in range(num_trials):\n",
    "        # Initialize counters for each element\n",
    "        counts = [0] * n\n",
    "        draws = 0\n",
    "        \n",
    "        # Run the experiment until at least k elements have been drawn at least X times\n",
    "        while True:\n",
    "            # Draw w elements randomly\n",
    "            drawn = random.sample(range(n), w)\n",
    "        \n",
    "            for d in drawn:\n",
    "                counts[d] += 1\n",
    "                \n",
    "            draws += 1\n",
    "            \n",
    "            # Check if at least k elements have been drawn at least X times\n",
    "            if sum(1 for count in counts if count >= X) >= k:\n",
    "                break\n",
    "                \n",
    "        results.append(draws)\n",
    "    \n",
    "    # Calculate the average number of draws\n",
    "    average_draws = np.mean(results)\n",
    "    return average_draws,max(results),min(results)\n",
    "\n",
    "n = 252   # Total number of elements\n",
    "q = 127\n",
    "X = 3\n",
    "Lapprox=[]\n",
    "Lexp=[]\n",
    "\n",
    "for i in range(2,51):\n",
    "    # Parameters\n",
    "         # Minimum number of times each element needs to be drawn\n",
    "    num_trials = 100  # Number of trials to run\n",
    "    k = n*i//100    # Minimum number of elements that need to be drawn at least X times\n",
    "    w = gv_distance(n,k,q)#int(Hqi(1-k/n,q)*n)#gv_distance(n,k,q)    # Number of elements to draw per round\n",
    "\n",
    "    c2=k/n\n",
    "    # Run the experiment and output the result\n",
    "    average_draws,max_draws,min_draws = draw_elements(n, w, k, X, num_trials)\n",
    "\n",
    "    T=find_min_T(w,n,k/n,q,X=X)\n",
    "    Lapprox.append([k/n,T])\n",
    "    Lexp.append([k/n,average_draws])\n",
    "\n",
    "\n",
    "print(f\"Average number of draws: {average_draws},{max_draws},{min_draws}\")\n",
    "plot([Lexp,Lapprox],[\"exp\",\"approx\"])"
   ]
  }
 ],
 "metadata": {
  "kernelspec": {
   "display_name": "Python 3 (ipykernel)",
   "language": "python",
   "name": "python3"
  },
  "language_info": {
   "codemirror_mode": {
    "name": "ipython",
    "version": 3
   },
   "file_extension": ".py",
   "mimetype": "text/x-python",
   "name": "python",
   "nbconvert_exporter": "python",
   "pygments_lexer": "ipython3",
   "version": "3.11.4"
  }
 },
 "nbformat": 4,
 "nbformat_minor": 5
}
