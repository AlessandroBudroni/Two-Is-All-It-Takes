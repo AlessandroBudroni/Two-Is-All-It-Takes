{
 "cells": [
  {
   "cell_type": "markdown",
   "id": "b86fa515-1150-4b06-94c8-f2fe46bea188",
   "metadata": {},
   "source": [
    "# Concrete Complexities"
   ]
  },
  {
   "cell_type": "code",
   "execution_count": 2,
   "id": "8cd923c1-f092-4560-9768-3fd3ff48f3de",
   "metadata": {
    "tags": []
   },
   "outputs": [
    {
     "data": {
      "text/plain": [
       "47.1295929499467"
      ]
     },
     "execution_count": 2,
     "metadata": {},
     "output_type": "execute_result"
    }
   ],
   "source": [
    "n=3488\n",
    "k=2720\n",
    "ell=115\n",
    "w=64\n",
    "p=24\n",
    "\n",
    "from math import comb as binom,log2\n",
    "\n",
    "log2(binom(n,w))-log2(binom(n-k-ell,w-p)*binom(k+ell,p))"
   ]
  },
  {
   "cell_type": "code",
   "execution_count": 732,
   "id": "ed1de0c6-608a-459e-9632-e3968c1c57e9",
   "metadata": {
    "tags": []
   },
   "outputs": [],
   "source": [
    "A=SDFqEstimator(100,50,10,7)"
   ]
  },
  {
   "cell_type": "code",
   "execution_count": 1413,
   "id": "a9a022e9-409a-4056-b35f-444029d7ea9c",
   "metadata": {},
   "outputs": [
    {
     "name": "stdout",
     "output_type": "stream",
     "text": [
      "107.54221137804389 (107.11307760511767, 107.54221137804389) 85\n",
      "(37.24526248502298, 36.687871515059946, -26.919889570606998, 46.455853459512895)\n"
     ]
    },
    {
     "data": {
      "text/plain": [
       "107.54221137804389"
      ]
     },
     "execution_count": 1413,
     "metadata": {},
     "output_type": "execute_result"
    }
   ],
   "source": [
    "time_new(252,126,23)"
   ]
  },
  {
   "cell_type": "code",
   "execution_count": 81,
   "id": "75c39319-8836-4061-b1ec-62027c093cc8",
   "metadata": {
    "tags": []
   },
   "outputs": [],
   "source": [
    "from math import inf, comb as binom, log2, factorial\n",
    "from cryptographic_estimators.SDFqEstimator import SDFqEstimator\n",
    "\n",
    "def gv_distance(n,k,q):\n",
    "    \"\"\"\n",
    "    Gilbert - Varshamov distance of a code over Fq, with length n and dimension k\n",
    "    \"\"\"\n",
    "    d = 1\n",
    "    right_term = q**(n-k)\n",
    "    left_term = 0\n",
    "    while left_term <= right_term:\n",
    "        left_term += binom(n,d)*(q-1)**d\n",
    "        d+=1\n",
    "\n",
    "    return d\n",
    "\n",
    "def avg_expect(n,d):\n",
    "    \"\"\"\n",
    "    Value of the sum from Lemma 3\n",
    "    \"\"\"\n",
    "    return [round(float(d*binom(n,k)*(d-1)**(n-k)/d**n),3) for k in range(n+1)]\n",
    "\n",
    "\n",
    "def compute_exp_cols(n,w,ell,q):\n",
    "    \"\"\"\n",
    "    Expected number of columns of Ared (defining the reduced linear system)\n",
    "    \"\"\"\n",
    "    v = avg_expect(ell,q-1)\n",
    "    indeterminate = 0\n",
    "    for i in range(2,ell):\n",
    "        indeterminate += i**2 * v[i]\n",
    "\n",
    "    return 2*(w-ell)**2 + (n-2*w+ell)**2 + indeterminate\n",
    "\n",
    "def prob(n,k,w,ell):\n",
    "    \"\"\"\n",
    "    probability of intersection of the support of two random weight w codwors beeing larger than ell\n",
    "    \"\"\"\n",
    "    return log2(sum([binom(w,i)*binom(n-w,w-i)/binom(n,w) for i in range(ell,ell+20)]))\n",
    "\n",
    "def time_new(n,k,q, verbose=1, lowerbound=-1, output_all_data=0):\n",
    "    \"\"\"\n",
    "    Concrete time complexity of \n",
    "    - Algorithm 4 (lowerbound=-1)\n",
    "    - Lowerbound for codeword-finding based algorithms(lowerbound=1)\n",
    "    - Semi-Lowerbound assuming |Z|<|V| (lowerbound = 0)    \n",
    "    \"\"\"\n",
    "    mini=100000000\n",
    "    prev=2**12\n",
    "    wmin=gv_distance(n,k,q)\n",
    "    for w in range(wmin,n-k):\n",
    "        ell=int(w**2/n)  \n",
    "        Nw =log2(binom(n,w))+log2(q-1)*w-log2(q)*(n-k)\n",
    "        pr=prob(n,k,w,ell)\n",
    "        \n",
    "        # required number of codewords\n",
    "        codewords = Nw/2+0.5-log2(q-1)/2-pr/2 \n",
    "        \n",
    "        # time to find codewords\n",
    "        time_codeword_finding = SDFqEstimator(n,k,w,q).fastest_algorithm().time_complexity()+codewords+1\n",
    "        \n",
    "        # list size of all pairs\n",
    "        list_of_pairs =2*codewords\n",
    "        \n",
    "        # meet in the middle on scalar\n",
    "        list_of_pairs +=  log2(q-1)/2\n",
    "\n",
    "        # upper bound on Z\n",
    "        perms = log2(factorial(ell))\n",
    "        result_list =max(0,2*list_of_pairs+perms-ell*log2(q-1))\n",
    "\n",
    "        # number of columns of Ared\n",
    "        exp_cols = compute_exp_cols(n,w,ell,q)\n",
    "\n",
    "        \n",
    "        time_monomial_reconstruction = log2(n)*4\n",
    "        field_operation = log2(log2(q))*2\n",
    "        time_per_pair = log2(2*(n+ell))\n",
    "        if lowerbound == -1:\n",
    "            #regular algorithm\n",
    "            time_recovery =  field_operation + max(result_list + time_monomial_reconstruction,list_of_pairs+ time_per_pair)\n",
    "            # print(time_recovery)\n",
    "        elif lowerbound ==0:\n",
    "            #compatibility linear\n",
    "            time_recovery = field_operation + list_of_pairs+ time_per_pair\n",
    "        elif lowerbound ==1:\n",
    "            #lower bound\n",
    "            time_recovery = field_operation + codewords + log2(n)\n",
    "                                                             \n",
    "        tmp = max(time_codeword_finding,time_recovery)\n",
    "        \n",
    "        #early abort\n",
    "        if tmp>prev:\n",
    "            break\n",
    "        else:\n",
    "            prev=tmp\n",
    "            \n",
    "        if tmp<mini:\n",
    "            mini=tmp\n",
    "            par=w\n",
    "            times = time_codeword_finding,time_recovery,result_list+time_monomial_reconstruction,result_list\n",
    "            paramint=w,codewords,list_of_pairs,result_list,time_monomial_reconstruction,time_per_pair, SDFqEstimator(n,k,w,q,nsolutions=0).stern.time_complexity()-Nw,list_of_pairs+ time_per_pair,mini\n",
    "    t = True\n",
    "    if output_all_data:\n",
    "        for i in paramint:\n",
    "            if t:\n",
    "                print(\"LESS-\\t&\\t\",i,\"\\t&\\t\",end=\"\")\n",
    "                t=False\n",
    "            else:\n",
    "                print(round(i,2),\"\\t&\\t\",end=\"\")\n",
    "\n",
    "        print(\"\\\\\\\\\")\n",
    "    else:\n",
    "        if verbose:\n",
    "            print(mini,times, par)\n",
    "        return mini"
   ]
  },
  {
   "cell_type": "code",
   "execution_count": null,
   "id": "3120ab79-c103-4c6b-825e-d39372d42689",
   "metadata": {},
   "outputs": [],
   "source": []
  },
  {
   "cell_type": "code",
   "execution_count": 72,
   "id": "90d9f701-26de-4a54-a869-d90ee648d844",
   "metadata": {
    "jupyter": {
     "source_hidden": true
    },
    "tags": []
   },
   "outputs": [],
   "source": [
    "from math import inf, comb as binom, log2, factorial\n",
    "from cryptographic_estimators.SDFqEstimator import SDFqEstimator\n",
    "\n",
    "def gv_distance(n,k,q):\n",
    "    \"\"\"\n",
    "    Gilbert - Varshamov distance of a code over Fq, with length n and dimension k\n",
    "    \"\"\"\n",
    "    d = 1\n",
    "    right_term = q**(n-k)\n",
    "    left_term = 0\n",
    "    while left_term <= right_term:\n",
    "        left_term += binom(n,d)*(q-1)**d\n",
    "        d+=1\n",
    "\n",
    "    return d\n",
    "\n",
    "def avg_expect(n,d):\n",
    "    \"\"\"\n",
    "    Value of the sum from Lemma 3\n",
    "    \"\"\"\n",
    "    return [round(float(d*binom(n,k)*(d-1)**(n-k)/d**n),3) for k in range(n+1)]\n",
    "\n",
    "\n",
    "def compute_exp_cols(n,w,ell,q):\n",
    "    \"\"\"\n",
    "    Expected number of columns of Ared (defining the reduced linear system)\n",
    "    \"\"\"\n",
    "    v = avg_expect(ell,q-1)\n",
    "    indeterminate = 0\n",
    "    for i in range(2,ell):\n",
    "        indeterminate += i**2 * v[i]\n",
    "\n",
    "    return 2*(w-ell)**2 + (n-2*w+ell)**2 + indeterminate\n",
    "\n",
    "def prob(n,k,w,ell):\n",
    "    \"\"\"\n",
    "    probability of intersection of the support of two random weight w codwors beeing larger than ell\n",
    "    \"\"\"\n",
    "    return log2(sum([binom(w,i)*binom(n-w,w-i)/binom(n,w) for i in range(ell,min(w+1,ell+20))]))\n",
    "\n",
    "def time_new(n,k,q, verbose=1, lowerbound=-1,params=0,w_pre=0):\n",
    "    \"\"\"\n",
    "    Concrete time complexity of \n",
    "    - Algorithm 4 (lowerbound=-1)\n",
    "    - Lowerbound for codeword-finding based algorithms(lowerbound=1)\n",
    "    - Semi-Lowerbound assuming |Z|<|V| (lowerbound = 0)    \n",
    "    \"\"\"\n",
    "    mini=2**25\n",
    "    prev=2**12\n",
    "    count=0\n",
    "    # wmin_save=wmin=int(Hqi(1-k/n,q)*n)#\n",
    "    wmin_save=wmin=gv_distance(n,k,q)\n",
    "\n",
    "\n",
    "    for w in range(max(int(wmin),w_pre),n-k):\n",
    "        ell=int(w**2/n)  \n",
    "        Nw =log2(binom(n,w))+log2(q-1)*w-log2(q)*(n-k)\n",
    "        pr=prob(n,k,w,ell)\n",
    "        \n",
    "        # required number of codewords\n",
    "        codewords = max(Nw/2+0.5-log2(q-1)/2-pr/2,0)\n",
    "        \n",
    "        # time to find codewords\n",
    "        time_codeword_finding = max(SDFqEstimator(n,k,w,q,nsolutions=0).stern.time_complexity()-Nw+codewords,codewords)#max(log2(binom(n,w))-log2(binom(n-k,w))-Nw+codewords,codewords)#\n",
    "        \n",
    "        # list size of all pairs\n",
    "        list_of_pairs =2*codewords\n",
    "        \n",
    "        # meet in the middle on scalar\n",
    "        list_of_pairs +=  log2(q-1)/2\n",
    "\n",
    "        # upper bound on Z\n",
    "        perms = log2(factorial(ell))\n",
    "        list_minus = min(0,perms-ell*log2(q-1))\n",
    "        # list_minus = log2(factorial(ell)/(factorial(ell//(q-1))**(q-1)*(q-1)**ell))\n",
    "        # list_minus=0\n",
    "        result_list =max(0,2*list_of_pairs+list_minus)\n",
    "\n",
    "        # number of columns of Ared\n",
    "        exp_cols = compute_exp_cols(n,w,ell,q)\n",
    "\n",
    "        \n",
    "        time_monomial_reconstruction = log2(k)*3#log2(exp_cols)*4#\n",
    "        field_operation = log2(log2(q))*2\n",
    "        time_per_pair = log2(2*(n+ell))\n",
    "        time_recovery =  field_operation + max(result_list + time_monomial_reconstruction,list_of_pairs+ time_per_pair)\n",
    "        T_compatible_pairs = max(list_of_pairs+ time_per_pair,resultlist)\n",
    "        if lowerbound == -1:\n",
    "            #regular algorithm\n",
    "            pass\n",
    "        elif lowerbound ==0:\n",
    "            #compatibility linear\n",
    "            time_recovery = min(time_recovery,field_operation + list_of_pairs + max(time_per_pair, time_monomial_reconstruction))\n",
    "        elif lowerbound ==1:\n",
    "            #lower bound\n",
    "            time_recovery = field_operation + codewords + log2(n)\n",
    "                                                             \n",
    "        tmp = max(time_codeword_finding,time_recovery)\n",
    "        \n",
    "        #early abort\n",
    "        if tmp>mini+100:\n",
    "            count+=1\n",
    "            break\n",
    "        \n",
    "        if tmp<mini:\n",
    "            mini=tmp\n",
    "            par=w\n",
    "            paramint=w,codewords,list_of_pairs,result_list,time_monomial_reconstruction,time_per_pair, SDFqEstimator(n,k,w,q,nsolutions=0).stern.time_complexity()-Nw,time_recovery,mini\n",
    "            times = time_codeword_finding,time_recovery#,SDFqEstimator(n,k,w,q).fastest_algorithm().time_complexity(),codewords\n",
    "            lists = Nw,list_of_pairs,perms-ell*log2(q-1),result_list\n",
    "            prange=max(log2(binom(n,w))-log2(binom(n-k,w))-codewords/2,0)#\n",
    "\n",
    "    if verbose:\n",
    "        print(mini,times, par)\n",
    "        print(lists)\n",
    "    \n",
    "    t=True\n",
    "    for i in paramint:\n",
    "        if t:\n",
    "            print(\"LESS-\\t&\\t\",i,\"\\t&\\t\",end=\"\")\n",
    "            t=False\n",
    "        else:\n",
    "            print(round(i,2),\"\\t&\\t\",end=\"\")\n",
    "\n",
    "    print(\"\\\\\\\\\")\n",
    "    # prange_wmin=SDFqEstimator(n,k,w,q).prange.time_complexity()+codewords\n",
    "    # stern_wmin=SDFqEstimator(n,k,w,q).stern.time_complexity()+codewords\n",
    "    # print((prange-time_codeword_finding)/n,(prange_wmin-stern_wmin)/n)\n",
    "    # print(int(wmin_save*1.1),par)\n",
    "    # print(par/n)\n",
    "    if params:\n",
    "        return par\n",
    "    return mini,par"
   ]
  },
  {
   "cell_type": "code",
   "execution_count": 82,
   "id": "f225544a-04f5-4fd3-84c1-81b5153bd3c3",
   "metadata": {
    "tags": []
   },
   "outputs": [
    {
     "name": "stdout",
     "output_type": "stream",
     "text": [
      "LESS-\t&\t 107 \t&\t52.16 \t&\t107.81 \t&\t87.92 \t&\t31.91 \t&\t9.21 \t&\t73.16 \t&\t117.02 \t&\t126.32 \t&\t\\\\\n"
     ]
    }
   ],
   "source": [
    "time_new(252,252//2,127,output_all_data=1)"
   ]
  },
  {
   "cell_type": "code",
   "execution_count": null,
   "id": "561a757d-5ca6-40b5-bf8d-2c69e149f0b2",
   "metadata": {},
   "outputs": [],
   "source": [
    "107, 167, 226"
   ]
  },
  {
   "cell_type": "code",
   "execution_count": 49,
   "id": "5a3ac5c0-7943-4974-a0b3-5e4404dac5f6",
   "metadata": {
    "tags": []
   },
   "outputs": [
    {
     "name": "stdout",
     "output_type": "stream",
     "text": [
      "105.24683439781512 (105.24683439781512, 101.30968414180522, 41.27506088704014, 10.757634406721706) 91\n"
     ]
    },
    {
     "data": {
      "text/plain": [
       "105.24683439781512"
      ]
     },
     "execution_count": 49,
     "metadata": {},
     "output_type": "execute_result"
    }
   ],
   "source": [
    "time_new(198,94,251,verbose=1)"
   ]
  },
  {
   "cell_type": "code",
   "execution_count": 1508,
   "id": "fbd14e85-45f0-4d58-9b29-ae92805fad4d",
   "metadata": {
    "tags": []
   },
   "outputs": [
    {
     "data": {
      "text/plain": [
       "5.610041914225919"
      ]
     },
     "execution_count": 1508,
     "metadata": {},
     "output_type": "execute_result"
    }
   ],
   "source": [
    "2*log2(log2(127))"
   ]
  },
  {
   "cell_type": "code",
   "execution_count": 83,
   "id": "3a5560d7-606d-48b1-bcea-0d0bc85c6aff",
   "metadata": {},
   "outputs": [
    {
     "name": "stdout",
     "output_type": "stream",
     "text": [
      "LESS-\t&\t 107 \t&\t52.16 \t&\t107.81 \t&\t87.92 \t&\t31.91 \t&\t9.21 \t&\t73.16 \t&\t117.02 \t&\t126.32 \t&\t\\\\\n",
      "LESS-\t&\t 167 \t&\t74.86 \t&\t153.2 \t&\t151.29 \t&\t34.58 \t&\t9.87 \t&\t118.86 \t&\t163.07 \t&\t194.72 \t&\t\\\\\n",
      "LESS-\t&\t 226 \t&\t93.9 \t&\t191.3 \t&\t212.27 \t&\t36.39 \t&\t10.32 \t&\t169.97 \t&\t201.62 \t&\t264.87 \t&\t\\\\\n"
     ]
    }
   ],
   "source": [
    "for n in [252,400,548]:\n",
    "    time_new(n,n//2,127,verbose=1,output_all_data=1)\n",
    "    "
   ]
  },
  {
   "cell_type": "code",
   "execution_count": 88,
   "id": "c065e08d-cfef-478a-8b6d-fb88c550a7e9",
   "metadata": {},
   "outputs": [
    {
     "data": {
      "text/plain": [
       "251.46502095711298"
      ]
     },
     "execution_count": 88,
     "metadata": {},
     "output_type": "execute_result"
    }
   ],
   "source": [
    "log2(log2(q)) + max(201.62,212.27+36.39)"
   ]
  },
  {
   "cell_type": "code",
   "execution_count": 1455,
   "id": "f8c9bda8-0b63-4b65-a6eb-1ddd1906dfed",
   "metadata": {
    "tags": []
   },
   "outputs": [],
   "source": [
    "q=127\n",
    "n=252\n",
    "k=126\n",
    "w=126\n",
    "Nw =log2(binom(n,w))+log2(q-1)*w-log2(q)*(n-k)\n",
    "codewords = max(Nw/2+0.5-log2(q-1)/2,0)"
   ]
  },
  {
   "cell_type": "code",
   "execution_count": 1456,
   "id": "1f525995-7ff0-48eb-abe2-ba502003c4f3",
   "metadata": {
    "tags": []
   },
   "outputs": [
    {
     "data": {
      "text/plain": [
       "120.13495031819329"
      ]
     },
     "execution_count": 1456,
     "metadata": {},
     "output_type": "execute_result"
    }
   ],
   "source": [
    "codewords"
   ]
  },
  {
   "cell_type": "code",
   "execution_count": 1450,
   "id": "77f07e32-b1d9-4e77-8185-1275e751f2a6",
   "metadata": {
    "tags": []
   },
   "outputs": [],
   "source": [
    "n=2000\n",
    "A=LEEstimator(n,n//2,n//2).bbps"
   ]
  },
  {
   "cell_type": "code",
   "execution_count": 1451,
   "id": "f31fd6a7-c40c-4c10-b306-dab9eed9327a",
   "metadata": {
    "tags": []
   },
   "outputs": [
    {
     "ename": "KeyboardInterrupt",
     "evalue": "",
     "output_type": "error",
     "traceback": [
      "\u001b[0;31m---------------------------------------------------------------------------\u001b[0m",
      "\u001b[0;31mKeyboardInterrupt\u001b[0m                         Traceback (most recent call last)",
      "Cell \u001b[0;32mIn[1451], line 1\u001b[0m\n\u001b[0;32m----> 1\u001b[0m \u001b[43mA\u001b[49m\u001b[38;5;241;43m.\u001b[39;49m\u001b[43mtime_complexity\u001b[49m\u001b[43m(\u001b[49m\u001b[43m)\u001b[49m\n",
      "File \u001b[0;32m~/TII/Projects/EstimatorsGitHub/cryptographic_estimators/cryptographic_estimators/base_algorithm.py:423\u001b[0m, in \u001b[0;36mBaseAlgorithm.time_complexity\u001b[0;34m(self, **kwargs)\u001b[0m\n\u001b[1;32m    421\u001b[0m     \u001b[38;5;28;01mreturn\u001b[39;00m \u001b[38;5;28mself\u001b[39m\u001b[38;5;241m.\u001b[39m_time_complexity\n\u001b[1;32m    422\u001b[0m \u001b[38;5;28;01melse\u001b[39;00m:\n\u001b[0;32m--> 423\u001b[0m     params \u001b[38;5;241m=\u001b[39m \u001b[38;5;28;43mself\u001b[39;49m\u001b[38;5;241;43m.\u001b[39;49m\u001b[43moptimal_parameters\u001b[49m\u001b[43m(\u001b[49m\u001b[43m)\u001b[49m\n\u001b[1;32m    424\u001b[0m     \u001b[38;5;28;01mif\u001b[39;00m \u001b[38;5;129;01mnot\u001b[39;00m \u001b[38;5;28mself\u001b[39m\u001b[38;5;241m.\u001b[39m_do_valid_parameters_in_current_ranges_exist():\n\u001b[1;32m    425\u001b[0m         \u001b[38;5;28mself\u001b[39m\u001b[38;5;241m.\u001b[39m_time_complexity \u001b[38;5;241m=\u001b[39m inf\n",
      "File \u001b[0;32m~/TII/Projects/EstimatorsGitHub/cryptographic_estimators/cryptographic_estimators/base_algorithm.py:484\u001b[0m, in \u001b[0;36mBaseAlgorithm.optimal_parameters\u001b[0;34m(self)\u001b[0m\n\u001b[1;32m    482\u001b[0m \u001b[38;5;28;01mif\u001b[39;00m \u001b[38;5;28mself\u001b[39m\u001b[38;5;241m.\u001b[39mhas_optimal_parameter():\n\u001b[1;32m    483\u001b[0m     \u001b[38;5;28;01mfor\u001b[39;00m f \u001b[38;5;129;01min\u001b[39;00m \u001b[38;5;28mself\u001b[39m\u001b[38;5;241m.\u001b[39m_optimal_parameters_methods:\n\u001b[0;32m--> 484\u001b[0m         _ \u001b[38;5;241m=\u001b[39m \u001b[43mf\u001b[49m\u001b[43m(\u001b[49m\u001b[43m)\u001b[49m\n\u001b[1;32m    485\u001b[0m \u001b[38;5;28;01mreturn\u001b[39;00m \u001b[38;5;28mself\u001b[39m\u001b[38;5;241m.\u001b[39m_optimal_parameters\n",
      "File \u001b[0;32m~/TII/Projects/EstimatorsGitHub/cryptographic_estimators/cryptographic_estimators/base_algorithm.py:534\u001b[0m, in \u001b[0;36moptimal_parameter.<locals>.optimal_parameter\u001b[0;34m(*args, **kwargs)\u001b[0m\n\u001b[1;32m    532\u001b[0m \u001b[38;5;28mself\u001b[39m \u001b[38;5;241m=\u001b[39m args[\u001b[38;5;241m0\u001b[39m]\n\u001b[1;32m    533\u001b[0m \u001b[38;5;28;01mif\u001b[39;00m name \u001b[38;5;129;01mnot\u001b[39;00m \u001b[38;5;129;01min\u001b[39;00m \u001b[38;5;28mself\u001b[39m\u001b[38;5;241m.\u001b[39m_optimal_parameters:\n\u001b[0;32m--> 534\u001b[0m     temp \u001b[38;5;241m=\u001b[39m \u001b[43mfunc\u001b[49m\u001b[43m(\u001b[49m\u001b[38;5;241;43m*\u001b[39;49m\u001b[43margs\u001b[49m\u001b[43m,\u001b[49m\u001b[43m \u001b[49m\u001b[38;5;241;43m*\u001b[39;49m\u001b[38;5;241;43m*\u001b[39;49m\u001b[43mkwargs\u001b[49m\u001b[43m)\u001b[49m\n\u001b[1;32m    535\u001b[0m     \u001b[38;5;28;01mif\u001b[39;00m temp \u001b[38;5;129;01mis\u001b[39;00m \u001b[38;5;129;01mnot\u001b[39;00m \u001b[38;5;28;01mNone\u001b[39;00m:\n\u001b[1;32m    536\u001b[0m         \u001b[38;5;28mself\u001b[39m\u001b[38;5;241m.\u001b[39m_optimal_parameters[name] \u001b[38;5;241m=\u001b[39m temp\n",
      "File \u001b[0;32m~/TII/Projects/EstimatorsGitHub/cryptographic_estimators/cryptographic_estimators/LEEstimator/LEAlgorithms/bbps.py:69\u001b[0m, in \u001b[0;36mBBPS.w\u001b[0;34m(self)\u001b[0m\n\u001b[1;32m     58\u001b[0m \u001b[38;5;129m@optimal_parameter\u001b[39m\n\u001b[1;32m     59\u001b[0m \u001b[38;5;28;01mdef\u001b[39;00m \u001b[38;5;21mw\u001b[39m(\u001b[38;5;28mself\u001b[39m):\n\u001b[1;32m     60\u001b[0m \u001b[38;5;250m    \u001b[39m\u001b[38;5;124;03m\"\"\"Return the optimal parameter w used in the algorithm optimization.\u001b[39;00m\n\u001b[1;32m     61\u001b[0m \n\u001b[1;32m     62\u001b[0m \u001b[38;5;124;03m    Examples:\u001b[39;00m\n\u001b[0;32m   (...)\u001b[0m\n\u001b[1;32m     67\u001b[0m \u001b[38;5;124;03m        12\u001b[39;00m\n\u001b[1;32m     68\u001b[0m \u001b[38;5;124;03m    \"\"\"\u001b[39;00m\n\u001b[0;32m---> 69\u001b[0m     \u001b[38;5;28;01mreturn\u001b[39;00m \u001b[38;5;28;43mself\u001b[39;49m\u001b[38;5;241;43m.\u001b[39;49m\u001b[43m_get_optimal_parameter\u001b[49m\u001b[43m(\u001b[49m\u001b[38;5;124;43m\"\u001b[39;49m\u001b[38;5;124;43mw\u001b[39;49m\u001b[38;5;124;43m\"\u001b[39;49m\u001b[43m)\u001b[49m\n",
      "File \u001b[0;32m~/TII/Projects/EstimatorsGitHub/cryptographic_estimators/cryptographic_estimators/base_algorithm.py:299\u001b[0m, in \u001b[0;36mBaseAlgorithm._get_optimal_parameter\u001b[0;34m(self, key)\u001b[0m\n\u001b[1;32m    297\u001b[0m \u001b[38;5;28;01mif\u001b[39;00m \u001b[38;5;28mself\u001b[39m\u001b[38;5;241m.\u001b[39mcomplexity_type \u001b[38;5;241m==\u001b[39m ComplexityType\u001b[38;5;241m.\u001b[39mESTIMATE\u001b[38;5;241m.\u001b[39mvalue:\n\u001b[1;32m    298\u001b[0m     \u001b[38;5;28mself\u001b[39m\u001b[38;5;241m.\u001b[39m_call_all_preceeding_optimal_parameter_functions(key)\n\u001b[0;32m--> 299\u001b[0m     \u001b[38;5;28;43mself\u001b[39;49m\u001b[38;5;241;43m.\u001b[39;49m\u001b[43m_find_optimal_parameters\u001b[49m\u001b[43m(\u001b[49m\u001b[43m)\u001b[49m\n\u001b[1;32m    300\u001b[0m \u001b[38;5;28;01melif\u001b[39;00m \u001b[38;5;28mself\u001b[39m\u001b[38;5;241m.\u001b[39mcomplexity_type \u001b[38;5;241m==\u001b[39m ComplexityType\u001b[38;5;241m.\u001b[39mTILDEO\u001b[38;5;241m.\u001b[39mvalue:\n\u001b[1;32m    301\u001b[0m     \u001b[38;5;28mself\u001b[39m\u001b[38;5;241m.\u001b[39m_find_optimal_tilde_o_parameters()\n",
      "File \u001b[0;32m~/TII/Projects/EstimatorsGitHub/cryptographic_estimators/cryptographic_estimators/base_algorithm.py:273\u001b[0m, in \u001b[0;36mBaseAlgorithm._find_optimal_parameters\u001b[0;34m(self)\u001b[0m\n\u001b[1;32m    271\u001b[0m \u001b[38;5;28;01mfor\u001b[39;00m params \u001b[38;5;129;01min\u001b[39;00m \u001b[38;5;28mself\u001b[39m\u001b[38;5;241m.\u001b[39m_valid_choices():\n\u001b[1;32m    272\u001b[0m     tmp_time \u001b[38;5;241m=\u001b[39m \u001b[38;5;28mself\u001b[39m\u001b[38;5;241m.\u001b[39m_compute_time_complexity(params)\n\u001b[0;32m--> 273\u001b[0m     tmp_memory \u001b[38;5;241m=\u001b[39m \u001b[38;5;28;43mself\u001b[39;49m\u001b[38;5;241;43m.\u001b[39;49m\u001b[43m_compute_memory_complexity\u001b[49m\u001b[43m(\u001b[49m\u001b[43mparams\u001b[49m\u001b[43m)\u001b[49m\n\u001b[1;32m    274\u001b[0m     \u001b[38;5;28;01mif\u001b[39;00m \u001b[38;5;28mself\u001b[39m\u001b[38;5;241m.\u001b[39mbit_complexities:\n\u001b[1;32m    275\u001b[0m         tmp_memory \u001b[38;5;241m=\u001b[39m \u001b[38;5;28mself\u001b[39m\u001b[38;5;241m.\u001b[39mproblem\u001b[38;5;241m.\u001b[39mto_bitcomplexity_memory(tmp_memory)\n",
      "File \u001b[0;32m~/TII/Projects/EstimatorsGitHub/cryptographic_estimators/cryptographic_estimators/LEEstimator/LEAlgorithms/bbps.py:146\u001b[0m, in \u001b[0;36mBBPS._compute_memory_complexity\u001b[0;34m(self, parameters)\u001b[0m\n\u001b[1;32m    145\u001b[0m \u001b[38;5;28;01mdef\u001b[39;00m \u001b[38;5;21m_compute_memory_complexity\u001b[39m(\u001b[38;5;28mself\u001b[39m, parameters):\n\u001b[0;32m--> 146\u001b[0m     \u001b[38;5;28;01mreturn\u001b[39;00m \u001b[38;5;28;43mself\u001b[39;49m\u001b[38;5;241;43m.\u001b[39;49m\u001b[43m_time_and_memory_complexity\u001b[49m\u001b[43m(\u001b[49m\u001b[43mparameters\u001b[49m\u001b[43m)\u001b[49m[\u001b[38;5;241m1\u001b[39m]\n",
      "File \u001b[0;32m~/TII/Projects/EstimatorsGitHub/cryptographic_estimators/cryptographic_estimators/LEEstimator/LEAlgorithms/bbps.py:128\u001b[0m, in \u001b[0;36mBBPS._time_and_memory_complexity\u001b[0;34m(self, parameters, verbose_information)\u001b[0m\n\u001b[1;32m    124\u001b[0m     \u001b[38;5;28;01mreturn\u001b[39;00m inf, inf\n\u001b[1;32m    126\u001b[0m \u001b[38;5;28mself\u001b[39m\u001b[38;5;241m.\u001b[39mSDFqEstimator \u001b[38;5;241m=\u001b[39m SDFqEstimator(n\u001b[38;5;241m=\u001b[39mn, k\u001b[38;5;241m=\u001b[39mk, w\u001b[38;5;241m=\u001b[39mw_prime, q\u001b[38;5;241m=\u001b[39mq, bit_complexities\u001b[38;5;241m=\u001b[39m\u001b[38;5;241m0\u001b[39m, nsolutions\u001b[38;5;241m=\u001b[39m\u001b[38;5;241m0\u001b[39m,\n\u001b[1;32m    127\u001b[0m                                    memory_bound\u001b[38;5;241m=\u001b[39m\u001b[38;5;28mself\u001b[39m\u001b[38;5;241m.\u001b[39mproblem\u001b[38;5;241m.\u001b[39mmemory_bound, \u001b[38;5;241m*\u001b[39m\u001b[38;5;241m*\u001b[39m\u001b[38;5;28mself\u001b[39m\u001b[38;5;241m.\u001b[39m_SDFqEstimator_parameters)\n\u001b[0;32m--> 128\u001b[0m c_isd \u001b[38;5;241m=\u001b[39m \u001b[38;5;28;43mself\u001b[39;49m\u001b[38;5;241;43m.\u001b[39;49m\u001b[43mSDFqEstimator\u001b[49m\u001b[38;5;241;43m.\u001b[39;49m\u001b[43mfastest_algorithm\u001b[49m\u001b[43m(\u001b[49m\u001b[43m)\u001b[49m\u001b[38;5;241m.\u001b[39mtime_complexity()\n\u001b[1;32m    130\u001b[0m time \u001b[38;5;241m=\u001b[39m c_isd \u001b[38;5;241m+\u001b[39m L_prime \u001b[38;5;241m-\u001b[39m Nw_prime\n\u001b[1;32m    131\u001b[0m \u001b[38;5;66;03m# accounting for sampling L_prime different elements from set of Nw_prime elements\u001b[39;00m\n",
      "File \u001b[0;32m~/TII/Projects/EstimatorsGitHub/cryptographic_estimators/cryptographic_estimators/base_estimator.py:285\u001b[0m, in \u001b[0;36mBaseEstimator.fastest_algorithm\u001b[0;34m(self, use_tilde_o_time)\u001b[0m\n\u001b[1;32m    282\u001b[0m     \u001b[38;5;28;01mexcept\u001b[39;00m \u001b[38;5;167;01mNotImplementedError\u001b[39;00m:\n\u001b[1;32m    283\u001b[0m         \u001b[38;5;28;01mreturn\u001b[39;00m inf\n\u001b[0;32m--> 285\u001b[0m \u001b[38;5;28;01mreturn\u001b[39;00m \u001b[38;5;28;43mmin\u001b[39;49m\u001b[43m(\u001b[49m\u001b[38;5;28;43mself\u001b[39;49m\u001b[38;5;241;43m.\u001b[39;49m\u001b[43malgorithms\u001b[49m\u001b[43m(\u001b[49m\u001b[43m)\u001b[49m\u001b[43m,\u001b[49m\u001b[43m \u001b[49m\u001b[43mkey\u001b[49m\u001b[38;5;241;43m=\u001b[39;49m\u001b[43mkey\u001b[49m\u001b[43m)\u001b[49m\n",
      "File \u001b[0;32m~/TII/Projects/EstimatorsGitHub/cryptographic_estimators/cryptographic_estimators/base_estimator.py:281\u001b[0m, in \u001b[0;36mBaseEstimator.fastest_algorithm.<locals>.key\u001b[0;34m(algorithm)\u001b[0m\n\u001b[1;32m    279\u001b[0m \u001b[38;5;28;01mdef\u001b[39;00m \u001b[38;5;21mkey\u001b[39m(algorithm):\n\u001b[1;32m    280\u001b[0m     \u001b[38;5;28;01mtry\u001b[39;00m:\n\u001b[0;32m--> 281\u001b[0m         \u001b[38;5;28;01mreturn\u001b[39;00m \u001b[43malgorithm\u001b[49m\u001b[38;5;241;43m.\u001b[39;49m\u001b[43mtime_complexity\u001b[49m\u001b[43m(\u001b[49m\u001b[43m)\u001b[49m\n\u001b[1;32m    282\u001b[0m     \u001b[38;5;28;01mexcept\u001b[39;00m \u001b[38;5;167;01mNotImplementedError\u001b[39;00m:\n\u001b[1;32m    283\u001b[0m         \u001b[38;5;28;01mreturn\u001b[39;00m inf\n",
      "File \u001b[0;32m~/TII/Projects/EstimatorsGitHub/cryptographic_estimators/cryptographic_estimators/base_algorithm.py:423\u001b[0m, in \u001b[0;36mBaseAlgorithm.time_complexity\u001b[0;34m(self, **kwargs)\u001b[0m\n\u001b[1;32m    421\u001b[0m     \u001b[38;5;28;01mreturn\u001b[39;00m \u001b[38;5;28mself\u001b[39m\u001b[38;5;241m.\u001b[39m_time_complexity\n\u001b[1;32m    422\u001b[0m \u001b[38;5;28;01melse\u001b[39;00m:\n\u001b[0;32m--> 423\u001b[0m     params \u001b[38;5;241m=\u001b[39m \u001b[38;5;28;43mself\u001b[39;49m\u001b[38;5;241;43m.\u001b[39;49m\u001b[43moptimal_parameters\u001b[49m\u001b[43m(\u001b[49m\u001b[43m)\u001b[49m\n\u001b[1;32m    424\u001b[0m     \u001b[38;5;28;01mif\u001b[39;00m \u001b[38;5;129;01mnot\u001b[39;00m \u001b[38;5;28mself\u001b[39m\u001b[38;5;241m.\u001b[39m_do_valid_parameters_in_current_ranges_exist():\n\u001b[1;32m    425\u001b[0m         \u001b[38;5;28mself\u001b[39m\u001b[38;5;241m.\u001b[39m_time_complexity \u001b[38;5;241m=\u001b[39m inf\n",
      "File \u001b[0;32m~/TII/Projects/EstimatorsGitHub/cryptographic_estimators/cryptographic_estimators/base_algorithm.py:484\u001b[0m, in \u001b[0;36mBaseAlgorithm.optimal_parameters\u001b[0;34m(self)\u001b[0m\n\u001b[1;32m    482\u001b[0m \u001b[38;5;28;01mif\u001b[39;00m \u001b[38;5;28mself\u001b[39m\u001b[38;5;241m.\u001b[39mhas_optimal_parameter():\n\u001b[1;32m    483\u001b[0m     \u001b[38;5;28;01mfor\u001b[39;00m f \u001b[38;5;129;01min\u001b[39;00m \u001b[38;5;28mself\u001b[39m\u001b[38;5;241m.\u001b[39m_optimal_parameters_methods:\n\u001b[0;32m--> 484\u001b[0m         _ \u001b[38;5;241m=\u001b[39m \u001b[43mf\u001b[49m\u001b[43m(\u001b[49m\u001b[43m)\u001b[49m\n\u001b[1;32m    485\u001b[0m \u001b[38;5;28;01mreturn\u001b[39;00m \u001b[38;5;28mself\u001b[39m\u001b[38;5;241m.\u001b[39m_optimal_parameters\n",
      "File \u001b[0;32m~/TII/Projects/EstimatorsGitHub/cryptographic_estimators/cryptographic_estimators/base_algorithm.py:534\u001b[0m, in \u001b[0;36moptimal_parameter.<locals>.optimal_parameter\u001b[0;34m(*args, **kwargs)\u001b[0m\n\u001b[1;32m    532\u001b[0m \u001b[38;5;28mself\u001b[39m \u001b[38;5;241m=\u001b[39m args[\u001b[38;5;241m0\u001b[39m]\n\u001b[1;32m    533\u001b[0m \u001b[38;5;28;01mif\u001b[39;00m name \u001b[38;5;129;01mnot\u001b[39;00m \u001b[38;5;129;01min\u001b[39;00m \u001b[38;5;28mself\u001b[39m\u001b[38;5;241m.\u001b[39m_optimal_parameters:\n\u001b[0;32m--> 534\u001b[0m     temp \u001b[38;5;241m=\u001b[39m \u001b[43mfunc\u001b[49m\u001b[43m(\u001b[49m\u001b[38;5;241;43m*\u001b[39;49m\u001b[43margs\u001b[49m\u001b[43m,\u001b[49m\u001b[43m \u001b[49m\u001b[38;5;241;43m*\u001b[39;49m\u001b[38;5;241;43m*\u001b[39;49m\u001b[43mkwargs\u001b[49m\u001b[43m)\u001b[49m\n\u001b[1;32m    535\u001b[0m     \u001b[38;5;28;01mif\u001b[39;00m temp \u001b[38;5;129;01mis\u001b[39;00m \u001b[38;5;129;01mnot\u001b[39;00m \u001b[38;5;28;01mNone\u001b[39;00m:\n\u001b[1;32m    536\u001b[0m         \u001b[38;5;28mself\u001b[39m\u001b[38;5;241m.\u001b[39m_optimal_parameters[name] \u001b[38;5;241m=\u001b[39m temp\n",
      "File \u001b[0;32m~/TII/Projects/EstimatorsGitHub/cryptographic_estimators/cryptographic_estimators/SDFqEstimator/SDFqAlgorithms/leebrickell.py:69\u001b[0m, in \u001b[0;36mLeeBrickell.p\u001b[0;34m(self)\u001b[0m\n\u001b[1;32m     58\u001b[0m \u001b[38;5;129m@optimal_parameter\u001b[39m\n\u001b[1;32m     59\u001b[0m \u001b[38;5;28;01mdef\u001b[39;00m \u001b[38;5;21mp\u001b[39m(\u001b[38;5;28mself\u001b[39m):\n\u001b[1;32m     60\u001b[0m \u001b[38;5;250m    \u001b[39m\u001b[38;5;124;03m\"\"\"Returns the optimal parameter $p$ used in the algorithm optimization.\u001b[39;00m\n\u001b[1;32m     61\u001b[0m \u001b[38;5;124;03m\u001b[39;00m\n\u001b[1;32m     62\u001b[0m \u001b[38;5;124;03m    Examples:\u001b[39;00m\n\u001b[0;32m   (...)\u001b[0m\n\u001b[1;32m     67\u001b[0m \u001b[38;5;124;03m        2\u001b[39;00m\n\u001b[1;32m     68\u001b[0m \u001b[38;5;124;03m    \"\"\"\u001b[39;00m\n\u001b[0;32m---> 69\u001b[0m     \u001b[38;5;28;01mreturn\u001b[39;00m \u001b[38;5;28;43mself\u001b[39;49m\u001b[38;5;241;43m.\u001b[39;49m\u001b[43m_get_optimal_parameter\u001b[49m\u001b[43m(\u001b[49m\u001b[38;5;124;43m\"\u001b[39;49m\u001b[38;5;124;43mp\u001b[39;49m\u001b[38;5;124;43m\"\u001b[39;49m\u001b[43m)\u001b[49m\n",
      "File \u001b[0;32m~/TII/Projects/EstimatorsGitHub/cryptographic_estimators/cryptographic_estimators/base_algorithm.py:299\u001b[0m, in \u001b[0;36mBaseAlgorithm._get_optimal_parameter\u001b[0;34m(self, key)\u001b[0m\n\u001b[1;32m    297\u001b[0m \u001b[38;5;28;01mif\u001b[39;00m \u001b[38;5;28mself\u001b[39m\u001b[38;5;241m.\u001b[39mcomplexity_type \u001b[38;5;241m==\u001b[39m ComplexityType\u001b[38;5;241m.\u001b[39mESTIMATE\u001b[38;5;241m.\u001b[39mvalue:\n\u001b[1;32m    298\u001b[0m     \u001b[38;5;28mself\u001b[39m\u001b[38;5;241m.\u001b[39m_call_all_preceeding_optimal_parameter_functions(key)\n\u001b[0;32m--> 299\u001b[0m     \u001b[38;5;28;43mself\u001b[39;49m\u001b[38;5;241;43m.\u001b[39;49m\u001b[43m_find_optimal_parameters\u001b[49m\u001b[43m(\u001b[49m\u001b[43m)\u001b[49m\n\u001b[1;32m    300\u001b[0m \u001b[38;5;28;01melif\u001b[39;00m \u001b[38;5;28mself\u001b[39m\u001b[38;5;241m.\u001b[39mcomplexity_type \u001b[38;5;241m==\u001b[39m ComplexityType\u001b[38;5;241m.\u001b[39mTILDEO\u001b[38;5;241m.\u001b[39mvalue:\n\u001b[1;32m    301\u001b[0m     \u001b[38;5;28mself\u001b[39m\u001b[38;5;241m.\u001b[39m_find_optimal_tilde_o_parameters()\n",
      "File \u001b[0;32m~/TII/Projects/EstimatorsGitHub/cryptographic_estimators/cryptographic_estimators/base_algorithm.py:272\u001b[0m, in \u001b[0;36mBaseAlgorithm._find_optimal_parameters\u001b[0;34m(self)\u001b[0m\n\u001b[1;32m    270\u001b[0m time \u001b[38;5;241m=\u001b[39m inf\n\u001b[1;32m    271\u001b[0m \u001b[38;5;28;01mfor\u001b[39;00m params \u001b[38;5;129;01min\u001b[39;00m \u001b[38;5;28mself\u001b[39m\u001b[38;5;241m.\u001b[39m_valid_choices():\n\u001b[0;32m--> 272\u001b[0m     tmp_time \u001b[38;5;241m=\u001b[39m \u001b[38;5;28;43mself\u001b[39;49m\u001b[38;5;241;43m.\u001b[39;49m\u001b[43m_compute_time_complexity\u001b[49m\u001b[43m(\u001b[49m\u001b[43mparams\u001b[49m\u001b[43m)\u001b[49m\n\u001b[1;32m    273\u001b[0m     tmp_memory \u001b[38;5;241m=\u001b[39m \u001b[38;5;28mself\u001b[39m\u001b[38;5;241m.\u001b[39m_compute_memory_complexity(params)\n\u001b[1;32m    274\u001b[0m     \u001b[38;5;28;01mif\u001b[39;00m \u001b[38;5;28mself\u001b[39m\u001b[38;5;241m.\u001b[39mbit_complexities:\n",
      "File \u001b[0;32m~/TII/Projects/EstimatorsGitHub/cryptographic_estimators/cryptographic_estimators/SDFqEstimator/sdfq_algorithm.py:40\u001b[0m, in \u001b[0;36mSDFqAlgorithm._compute_time_complexity\u001b[0;34m(self, parameters)\u001b[0m\n\u001b[1;32m     39\u001b[0m \u001b[38;5;28;01mdef\u001b[39;00m \u001b[38;5;21m_compute_time_complexity\u001b[39m(\u001b[38;5;28mself\u001b[39m, parameters: \u001b[38;5;28mdict\u001b[39m):\n\u001b[0;32m---> 40\u001b[0m     \u001b[38;5;28;01mreturn\u001b[39;00m \u001b[38;5;28;43mself\u001b[39;49m\u001b[38;5;241;43m.\u001b[39;49m\u001b[43m_time_and_memory_complexity\u001b[49m\u001b[43m(\u001b[49m\u001b[43mparameters\u001b[49m\u001b[43m)\u001b[49m[\u001b[38;5;241m0\u001b[39m]\n",
      "File \u001b[0;32m~/TII/Projects/EstimatorsGitHub/cryptographic_estimators/cryptographic_estimators/SDFqEstimator/SDFqAlgorithms/leebrickell.py:114\u001b[0m, in \u001b[0;36mLeeBrickell._time_and_memory_complexity\u001b[0;34m(self, parameters, verbose_information)\u001b[0m\n\u001b[1;32m    110\u001b[0m \u001b[38;5;66;03m# Beullens code uses (contrary to his paper)\u001b[39;00m\n\u001b[1;32m    111\u001b[0m \u001b[38;5;66;03m#enum = k**par.p * q**(max(0, par.p-self.is_syndrome_zero))\u001b[39;00m\n\u001b[1;32m    112\u001b[0m memory \u001b[38;5;241m=\u001b[39m log2(k \u001b[38;5;241m*\u001b[39m n)\n\u001b[0;32m--> 114\u001b[0m Tp \u001b[38;5;241m=\u001b[39m \u001b[38;5;28mmax\u001b[39m(log2(\u001b[43mbinom\u001b[49m\u001b[43m(\u001b[49m\u001b[43mn\u001b[49m\u001b[43m,\u001b[49m\u001b[43m \u001b[49m\u001b[43mw\u001b[49m\u001b[43m)\u001b[49m) \u001b[38;5;241m-\u001b[39m log2(binom(n \u001b[38;5;241m-\u001b[39m k, w \u001b[38;5;241m-\u001b[39m par\u001b[38;5;241m.\u001b[39mp)) \u001b[38;5;241m-\u001b[39m log2(binom(k, par\u001b[38;5;241m.\u001b[39mp)) \u001b[38;5;241m-\u001b[39m solutions, \u001b[38;5;241m0\u001b[39m)\n\u001b[1;32m    115\u001b[0m Tg \u001b[38;5;241m=\u001b[39m k\u001b[38;5;241m*\u001b[39mk\n\u001b[1;32m    116\u001b[0m time \u001b[38;5;241m=\u001b[39m Tp \u001b[38;5;241m+\u001b[39m log2(Tg \u001b[38;5;241m+\u001b[39m enum) \u001b[38;5;241m+\u001b[39m log2(n)\n",
      "File \u001b[0;32m~/TII/Projects/EstimatorsGitHub/cryptographic_estimators/cryptographic_estimators/SDFqEstimator/sdfq_helper.py:32\u001b[0m, in \u001b[0;36mbinom\u001b[0;34m(n, k)\u001b[0m\n\u001b[1;32m     22\u001b[0m \u001b[38;5;28;01mdef\u001b[39;00m \u001b[38;5;21mbinom\u001b[39m(n: \u001b[38;5;28mint\u001b[39m, k: \u001b[38;5;28mint\u001b[39m):\n\u001b[1;32m     23\u001b[0m \u001b[38;5;250m    \u001b[39m\u001b[38;5;124;03m\"\"\"Computes the binomial coefficient.\u001b[39;00m\n\u001b[1;32m     24\u001b[0m \n\u001b[1;32m     25\u001b[0m \u001b[38;5;124;03m    Args:\u001b[39;00m\n\u001b[0;32m   (...)\u001b[0m\n\u001b[1;32m     30\u001b[0m \u001b[38;5;124;03m        int: The binomial coefficient.\u001b[39;00m\n\u001b[1;32m     31\u001b[0m \u001b[38;5;124;03m    \"\"\"\u001b[39;00m\n\u001b[0;32m---> 32\u001b[0m     \u001b[38;5;28;01mreturn\u001b[39;00m comb(\u001b[38;5;28mint\u001b[39m(n), \u001b[38;5;28mint\u001b[39m(k))\n",
      "\u001b[0;31mKeyboardInterrupt\u001b[0m: "
     ]
    }
   ],
   "source": [
    "A.time_complexity()"
   ]
  },
  {
   "cell_type": "code",
   "execution_count": 1447,
   "id": "f09a23fd-14b6-4119-a3ab-504e085329cc",
   "metadata": {
    "tags": []
   },
   "outputs": [
    {
     "name": "stdout",
     "output_type": "stream",
     "text": [
      "1029.1681090104148 (1029.1681090104148, 1028.5072905397578) 903\n",
      "(1012.6178304640271, 1009.6403034205517, -1108.7669402880447, 910.5136665530588)\n"
     ]
    },
    {
     "data": {
      "text/plain": [
       "(1029.1681090104148, 903)"
      ]
     },
     "execution_count": 1447,
     "metadata": {},
     "output_type": "execute_result"
    }
   ],
   "source": [
    "time_new(n,n//2,n//2)"
   ]
  },
  {
   "cell_type": "code",
   "execution_count": null,
   "id": "11f2ec35-a072-4392-aa97-f50928bbddd1",
   "metadata": {},
   "outputs": [],
   "source": []
  },
  {
   "cell_type": "code",
   "execution_count": null,
   "id": "e0263775-bb38-47a7-99bb-e401f34ce73f",
   "metadata": {},
   "outputs": [],
   "source": [
    "A.get_optimal_parameters_dict"
   ]
  },
  {
   "cell_type": "code",
   "execution_count": 1443,
   "id": "a14d501f-818f-4d48-b391-ab9e9ff4d69c",
   "metadata": {
    "tags": []
   },
   "outputs": [
    {
     "data": {
      "text/plain": [
       "-233.49714388688335"
      ]
     },
     "execution_count": 1443,
     "metadata": {},
     "output_type": "execute_result"
    }
   ],
   "source": [
    "from math import factorial\n",
    "def lf(x):\n",
    "    return log2(factorial(x))\n",
    "    \n",
    "n=252\n",
    "k=126\n",
    "q=127\n",
    "w=105\n",
    "lf(n)-lf(n-w)+log2(q)*(w-1+2*k-2*n)"
   ]
  },
  {
   "cell_type": "code",
   "execution_count": 1436,
   "id": "b6950e9d-7b10-4982-85c8-88b15634624b",
   "metadata": {
    "tags": []
   },
   "outputs": [
    {
     "name": "stdout",
     "output_type": "stream",
     "text": [
      "(127.01205707712512, 105)\n",
      "141.8630297877216 {'w': 125}\n",
      "\n",
      "(195.7077932500353, 165)\n",
      "231.92617685631575 {'w': 191}\n",
      "\n",
      "(265.90565818965524, 224)\n",
      "323.98586326608057 {'w': 257}\n",
      "\n"
     ]
    }
   ],
   "source": [
    "for n in [252,400,548]:\n",
    "    print(time_new(n,n//2,127,verbose=0))\n",
    "    A=LEEstimator(n,n//2,127).beullens\n",
    "    print(A.time_complexity(),A.optimal_parameters())\n",
    "    print()"
   ]
  },
  {
   "cell_type": "code",
   "execution_count": 1418,
   "id": "00e11ba5-bb23-4e78-a373-a2205fea4ba7",
   "metadata": {
    "tags": []
   },
   "outputs": [
    {
     "data": {
      "text/plain": [
       "148"
      ]
     },
     "execution_count": 1418,
     "metadata": {},
     "output_type": "execute_result"
    }
   ],
   "source": [
    "gv_distance(400,200,127)"
   ]
  },
  {
   "cell_type": "code",
   "execution_count": 1415,
   "id": "b123e6f5-08a2-41b5-bc7a-1ab3a0cedfcc",
   "metadata": {
    "tags": []
   },
   "outputs": [
    {
     "name": "stdout",
     "output_type": "stream",
     "text": [
      "1112.9643667677467 (1111.554933244487, 1112.9643667677467) 975\n",
      "(1096.981819562894, 1093.9571221203485, -1197.3039580805967, 990.6102861601003)\n"
     ]
    },
    {
     "data": {
      "text/plain": [
       "(1112.9643667677467, 1112.9561013254104)"
      ]
     },
     "execution_count": 1415,
     "metadata": {},
     "output_type": "execute_result"
    }
   ],
   "source": [
    "n=2156\n",
    "k=n//2\n",
    "q=n//2\n",
    "time_new(n,k,q),cf_mitm_concrete(n,k,q)"
   ]
  },
  {
   "cell_type": "code",
   "execution_count": 964,
   "id": "c5062133-c713-4d69-95ea-02fbf3cc9e48",
   "metadata": {
    "tags": []
   },
   "outputs": [
    {
     "data": {
      "text/plain": [
       "0.5985401459854015"
      ]
     },
     "execution_count": 964,
     "metadata": {},
     "output_type": "execute_result"
    }
   ],
   "source": [
    "328/548"
   ]
  },
  {
   "cell_type": "code",
   "execution_count": 892,
   "id": "0526ba2c-264d-41b9-8049-6c2c80a6d5c9",
   "metadata": {
    "tags": []
   },
   "outputs": [],
   "source": [
    "n=1000\n",
    "k=n//2\n",
    "q=n//2\n",
    "w=gv_distance(n,k,q)\n",
    "Nw =log2(binom(n,w))+log2(q-1)*w-log2(q)*(n-k)\n",
    "codewords=Nw/2+0.5-log2(q-1)/2"
   ]
  },
  {
   "cell_type": "code",
   "execution_count": 1046,
   "id": "f7592be8-bb7f-4855-a367-53b2d53c92b3",
   "metadata": {
    "tags": []
   },
   "outputs": [
    {
     "name": "stdout",
     "output_type": "stream",
     "text": [
      "5\n",
      "6\n",
      "7\n",
      "8\n",
      "9\n",
      "10\n",
      "11\n",
      "12\n",
      "13\n",
      "14\n"
     ]
    }
   ],
   "source": [
    "\n",
    "Lpr=[]\n",
    "for i in range(5,15):\n",
    "    n=2**i\n",
    "    k=n//2\n",
    "    q=n//2\n",
    "    w=int(Hqi(1-k/n,q)*n)\n",
    "    # Nw =log2(binom(n,w))+log2(q-1)*w-log2(q)*(n-k)\n",
    "    # codewords=Nw/2+0.5-log2(q-1)/2\n",
    "    prange=log2(binom(n,w))-log2(binom(n-k,w))#SDFqEstimator(n,k,w,q,bit_complexities=0).prange.time_complexity()\n",
    "    stern=SDFqEstimator(n,k,w,q,nsolutions=0).stern.time_complexity()\n",
    "    Lpr.append([i,(stern-prange)/n,stern,prange])\n",
    "    print(i)"
   ]
  },
  {
   "cell_type": "code",
   "execution_count": 1047,
   "id": "d27d9641-1ffc-4c30-9ca6-1278794ecd85",
   "metadata": {
    "tags": []
   },
   "outputs": [
    {
     "data": {
      "text/plain": [
       "[[5, 0.336832023306357, 22.038261028289092, 11.259636282485669],\n",
       " [6, 0.18428223596454985, 38.16679300025558, 26.37272989852439],\n",
       " [7, 0.1000361011647623, 73.75696491870599, 60.952343969616415],\n",
       " [8, 0.05051571894672835, 146.00674563102652, 133.07472158066406],\n",
       " [9, 0.02551771943644443, 298.05044670394557, 284.985374352486],\n",
       " [10, 0.012900716822382252, 617.7715602181748, 604.5612261920554],\n",
       " [11, 0.006524842566468569, 1274.285074445133, 1260.9221968690053],\n",
       " [12, 0.0032996471185932075, 2632.22251408241, 2618.707159484652],\n",
       " [13, 0.0016680572596755594, 5413.048789132595, 5399.3840640613325],\n",
       " [14, 0.0008429253127667513, 11101.262851831378, 11087.452363507007]]"
      ]
     },
     "execution_count": 1047,
     "metadata": {},
     "output_type": "execute_result"
    }
   ],
   "source": [
    "Lpr"
   ]
  },
  {
   "cell_type": "code",
   "execution_count": 869,
   "id": "d3d1aa6f-cc5a-4b08-bc7f-938c15aae1fa",
   "metadata": {
    "tags": []
   },
   "outputs": [
    {
     "name": "stderr",
     "output_type": "stream",
     "text": [
      "No artists with labels found to put in legend.  Note that artists whose label start with an underscore are ignored when legend() is called with no argument.\n"
     ]
    },
    {
     "data": {
      "image/png": "[encoded data removed]",
      "text/plain": [
       "<Figure size 640x480 with 1 Axes>"
      ]
     },
     "metadata": {},
     "output_type": "display_data"
    }
   ],
   "source": [
    "plot([Lpr],[\"\"])"
   ]
  },
  {
   "cell_type": "code",
   "execution_count": 751,
   "id": "29fad88b-4873-4c3c-bf8f-a15f5330ee80",
   "metadata": {
    "tags": []
   },
   "outputs": [
    {
     "data": {
      "text/plain": [
       "584.677284611239"
      ]
     },
     "execution_count": 751,
     "metadata": {},
     "output_type": "execute_result"
    }
   ],
   "source": [
    "max(log2(binom(n,w))-log2(binom(n-k,w))-Nw+codewords,codewords)"
   ]
  },
  {
   "cell_type": "code",
   "execution_count": 613,
   "id": "64d5f956-6b61-4ae9-a2d8-cda95ad00c42",
   "metadata": {
    "tags": []
   },
   "outputs": [
    {
     "data": {
      "text/plain": [
       "[386.7623352587498, 66]"
      ]
     },
     "execution_count": 613,
     "metadata": {},
     "output_type": "execute_result"
    }
   ],
   "source": [
    "max([[time_new(600,300,2**i, verbose=0),i] for i in range(3,70)])"
   ]
  },
  {
   "cell_type": "code",
   "execution_count": null,
   "id": "0cefd851-eb4d-4e97-b284-08bd6b78a257",
   "metadata": {},
   "outputs": [],
   "source": [
    "200 130.6738788810052 0.980054091607539 56\n",
    "400 258.93370840494134 0.97100140651853 59\n",
    "600 386.7623352587498 0.9669058381468745 60\n",
    "800 514.3834196354591 0.9644689118164856 61\n",
    "1000 642.8866077346913 0.9643299116020371 61\n",
    "1200 771.7004398342157 0.9646255497927696 61\n",
    "1400 900.7754817727254 0.9651165876136343 81\n",
    "1600 1033.1189202236535 0.9685489877096751 92\n",
    "1800 1165.197442356465 0.9709978686303875 102\n",
    "2000 1294.4336230276697 0.9708252172707523 113\n",
    "2200 1426.7229485317623 0.9727656467262015 123\n",
    "2400 1558.29209884691 0.9739325617793188 134\n",
    "2600 1688.4705294921073 0.9741176131685235 145"
   ]
  },
  {
   "cell_type": "code",
   "execution_count": 634,
   "id": "5f4f8eaa-3c52-41d9-97bb-e5f61c123de4",
   "metadata": {
    "tags": []
   },
   "outputs": [
    {
     "data": {
      "text/plain": [
       "(0.5089383000137243, 0.5522957942555755)"
      ]
     },
     "execution_count": 634,
     "metadata": {},
     "output_type": "execute_result"
    }
   ],
   "source": [
    "lowerbound_2(1000,0.5),compl_new(1000,0.5)"
   ]
  },
  {
   "cell_type": "code",
   "execution_count": 711,
   "id": "f27fb9e2-46c9-40f2-a70b-021474f7ea5b",
   "metadata": {
    "tags": []
   },
   "outputs": [
    {
     "data": {
      "text/plain": [
       "0.528"
      ]
     },
     "execution_count": 711,
     "metadata": {},
     "output_type": "execute_result"
    }
   ],
   "source": [
    "0.8*0.66"
   ]
  },
  {
   "cell_type": "code",
   "execution_count": 678,
   "id": "228f2fbb-fad0-4d8d-aced-ebe390c9778f",
   "metadata": {
    "tags": []
   },
   "outputs": [],
   "source": [
    "Lbound2=[[i[0],i[1]+0.01] for i in Lnew]"
   ]
  },
  {
   "cell_type": "code",
   "execution_count": 679,
   "id": "620ec879-adfa-43c9-aa03-899cfacbf72a",
   "metadata": {
    "tags": []
   },
   "outputs": [
    {
     "data": {
      "image/png": "[encoded data removed]",
      "text/plain": [
       "<Figure size 640x480 with 1 Axes>"
      ]
     },
     "metadata": {},
     "output_type": "display_data"
    }
   ],
   "source": [
    "plot([Lt,Lnew2,Lbound2],[\"est\",\"new\",\"bound\"])"
   ]
  },
  {
   "cell_type": "code",
   "execution_count": 942,
   "id": "bcc04217-165a-4d93-ba1e-ec131e192cf9",
   "metadata": {
    "tags": []
   },
   "outputs": [],
   "source": [
    "Ltest=[[log2(Lnew[i][0]),Lnew[i][1]-Lt[i][1]] for i in range(len(Lbound))]"
   ]
  },
  {
   "cell_type": "code",
   "execution_count": 939,
   "id": "1e5d046e-e7ed-401b-85c4-fae0d8826cad",
   "metadata": {
    "tags": []
   },
   "outputs": [
    {
     "data": {
      "text/plain": [
       "([66392249102095887336198525819058578416199139715878990399930517275050444982606530342395312783153660708611166185780812626918322417206588404926189997345823418992978908854424152378966016,\n",
       "  0.6630509984089011],\n",
       " [66392249102095887336198525819058578416199139715878990399930517275050444982606530342395312783153660708611166185780812626918322417206588404926189997345823418992978908854424152378966016,\n",
       "  0.7916701382693203])"
      ]
     },
     "execution_count": 939,
     "metadata": {},
     "output_type": "execute_result"
    }
   ],
   "source": [
    "Lbound[-1],Lnew[-1]"
   ]
  },
  {
   "cell_type": "code",
   "execution_count": 944,
   "id": "c53f2117-ab52-4279-9ffc-97cf5ab47dd0",
   "metadata": {
    "tags": []
   },
   "outputs": [
    {
     "data": {
      "text/plain": [
       "[66392249102095887336198525819058578416199139715878990399930517275050444982606530342395312783153660708611166185780812626918322417206588404926189997345823418992978908854424152378966016,\n",
       " 1.0385743677087214]"
      ]
     },
     "execution_count": 944,
     "metadata": {},
     "output_type": "execute_result"
    }
   ],
   "source": [
    "Lt[-1]"
   ]
  },
  {
   "cell_type": "code",
   "execution_count": 943,
   "id": "e3c38362-a745-423a-b358-705e130f4887",
   "metadata": {
    "tags": []
   },
   "outputs": [
    {
     "name": "stderr",
     "output_type": "stream",
     "text": [
      "No artists with labels found to put in legend.  Note that artists whose label start with an underscore are ignored when legend() is called with no argument.\n"
     ]
    },
    {
     "data": {
      "image/png": "[encoded data removed]",
      "text/plain": [
       "<Figure size 640x480 with 1 Axes>"
      ]
     },
     "metadata": {},
     "output_type": "display_data"
    }
   ],
   "source": [
    "plot([Ltest],[\"\"])"
   ]
  },
  {
   "cell_type": "code",
   "execution_count": 950,
   "id": "2f73877b-5e45-4337-849a-eaf4d3a7adb8",
   "metadata": {
    "tags": []
   },
   "outputs": [
    {
     "data": {
      "text/plain": [
       "[10328999512347634358623676688012047497318823171316894051322637426162590488067364778518581413120551325743612687890989973504,\n",
       " 0.7799855446192162]"
      ]
     },
     "execution_count": 950,
     "metadata": {},
     "output_type": "execute_result"
    }
   ],
   "source": [
    "Lt[-1]"
   ]
  },
  {
   "cell_type": "code",
   "execution_count": 990,
   "id": "9cec498c-cf96-4657-8029-90bb113b0900",
   "metadata": {
    "tags": []
   },
   "outputs": [
    {
     "data": {
      "text/plain": [
       "[273.0, 0.5435652990895464]"
      ]
     },
     "execution_count": 990,
     "metadata": {},
     "output_type": "execute_result"
    }
   ],
   "source": [
    "Lt[270]"
   ]
  },
  {
   "cell_type": "code",
   "execution_count": null,
   "id": "0b63b556-9912-4389-afdf-476bd74ef95b",
   "metadata": {},
   "outputs": [],
   "source": []
  },
  {
   "cell_type": "code",
   "execution_count": 52,
   "id": "17097156-eae0-4270-9634-cc8bcee32fca",
   "metadata": {
    "tags": []
   },
   "outputs": [],
   "source": [
    "from cryptographic_estimators import LEEstimator"
   ]
  },
  {
   "cell_type": "code",
   "execution_count": 57,
   "id": "2367fdca-3724-4a16-93b0-22e0c9f129e1",
   "metadata": {
    "tags": []
   },
   "outputs": [
    {
     "data": {
      "text/plain": [
       "126"
      ]
     },
     "execution_count": 57,
     "metadata": {},
     "output_type": "execute_result"
    }
   ],
   "source": [
    "q=127"
   ]
  },
  {
   "cell_type": "code",
   "execution_count": 65,
   "id": "074033db-ee7b-4896-af64-a1b21aaf58ee",
   "metadata": {
    "tags": []
   },
   "outputs": [],
   "source": [
    "Lnew=[]\n",
    "Llow1=[]\n",
    "Llow0=[]\n",
    "Lbeu=[]\n",
    "Lleo=[]\n",
    "Lbbps=[]\n",
    "Lcf=[]\n",
    "\n",
    "n=400\n",
    "k=200\n",
    "q=127\n",
    "\n",
    "for i in range(5,250,2):\n",
    "    new = time_new(n,k,i,verbose=0,lowerbound=-1)\n",
    "    low0 = time_new(n,k,i,verbose=0,lowerbound=0)\n",
    "    low1 = time_new(n,k,i,verbose=0,lowerbound=1)\n",
    "    Lnew.append([i,new])\n",
    "    Llow0.append([i,low0])\n",
    "    Llow1.append([i,low1])\n",
    "    \n",
    "    A=LEEstimator(n,k,i)\n",
    "    beu = A.beullens.time_complexity()\n",
    "    leo = A.leon.time_complexity()\n",
    "    bbps = A.bbps.time_complexity()\n",
    "    Lbeu.append([i,beu])\n",
    "    Lleo.append([i,leo])\n",
    "    Lbbps.append([i,bbps])\n",
    "    \n",
    "    cf = cf_mitm_concrete(n,k,i)\n",
    "    Lcf.append([i,cf])"
   ]
  },
  {
   "cell_type": "code",
   "execution_count": 66,
   "id": "8b671a6e-8fbb-4067-bade-889a9c1e09f2",
   "metadata": {
    "tags": []
   },
   "outputs": [],
   "source": [
    "Lbeu= [[j[0],j[1]] for j in Lbeu if j[1]!=inf]\n",
    "Lbbps= [[j[0],j[1]] for j in Lbbps if j[1]!=inf]"
   ]
  },
  {
   "cell_type": "code",
   "execution_count": 67,
   "id": "5e29f256-9a91-42d3-9006-a6694848dfa9",
   "metadata": {
    "tags": []
   },
   "outputs": [
    {
     "data": {
      "image/png": "[encoded data removed]",
      "text/plain": [
       "<Figure size 640x480 with 1 Axes>"
      ]
     },
     "metadata": {},
     "output_type": "display_data"
    }
   ],
   "source": [
    "import matplotlib.pyplot as plt\n",
    "def plot(L,label_list):\n",
    "    \"\"\"\n",
    "    function to plot list of lists of the form L=[L1,L2,...] with Li=[[x1,y1],[x2,y2],...]\n",
    "    \"\"\"\n",
    "    c=0\n",
    "    for Li in L:\n",
    "        x,y=zip(*Li)\n",
    "        plt.scatter(x,y, label=label_list[c],s=1)\n",
    "        c+=1\n",
    "    plt.legend(bbox_to_anchor=(1.05, 1), loc='upper left')\n",
    "    \n",
    "plot([Lnew,Llow1,Llow0,Lleo,Lbeu,Lbbps,Lcf],[\"New\",\"Lowerbound\", \"Semi-Lowerbound\",\"Leon\",\"Beullens\",\"BBPS\",\"CFMITM\"])"
   ]
  },
  {
   "cell_type": "code",
   "execution_count": 68,
   "id": "309e3de0-9d9d-42fb-aa6a-2f944cfa8f70",
   "metadata": {
    "tags": []
   },
   "outputs": [
    {
     "name": "stdout",
     "output_type": "stream",
     "text": [
      "q New Leon CF Lower Lower2\n",
      "5 106.87782092841915 116.04353714872416 224.03792623925534 103.50581718658613 103.50581718658613\n",
      "7 122.1683762022622 133.26334700764002 224.58570258625804 117.6082667636984 117.6082667636984\n",
      "9 132.67926104674822 144.90599722771861 224.93617706268955 127.340145772689 127.18593084724688\n",
      "11 140.2896181679373 153.19310494469994 225.18834969556804 134.46323684582188 134.28538872302005\n",
      "13 145.91533046756228 160.17147225168378 225.38267307655622 140.0981901701227 139.83923120724984\n",
      "15 150.50679113914936 165.44701211561747 225.53932136057412 144.63084011202145 144.10726631500643\n",
      "17 154.63734236355586 171.29420721265433 225.66969087830594 148.41438556383386 147.73952180117828\n",
      "19 158.21552123991796 174.88296194042098 225.78079794424306 151.57269579564857 150.63451161386496\n",
      "21 160.54253518055904 178.62261357677937 225.87724428457415 154.17171262664476 153.1581825503019\n",
      "23 163.0768788734968 182.6088149659132 225.96219811014117 156.50586248799618 155.45042548086747\n",
      "25 165.0953660753754 184.19049345162853 226.03792623925534 158.79371907388622 157.52076464484978\n",
      "27 167.53953208421848 185.9456824106459 226.10610206413187 160.74998402214413 159.3020682557501\n",
      "29 168.9300038991234 187.69953807560285 226.16799333983766 162.54762684572924 161.00349190621577\n",
      "31 170.8593859143758 192.45936129142098 226.22458172100616 164.26574932726012 162.57270880132143\n",
      "33 171.7834188816849 194.5245178052546 226.27664164393212 165.8350397504418 164.024900677862\n",
      "35 173.31633227330224 193.844508492182 226.3247940011271 167.12763314436847 165.2951674361082\n",
      "37 174.69242514029358 196.17824453515595 226.36954364113075 168.39821344073857 166.52918674593852\n",
      "39 175.92731500265307 198.49623301902102 226.41130617740365 169.5589541965228 167.703261551188\n",
      "41 176.92676237448055 200.80636877041425 226.45042754558935 171.00220685482952 168.80708330943904\n",
      "43 177.91414705750995 200.294776298992 226.48719852849035 171.97356603989613 169.73032175269913\n",
      "45 178.79743565334235 202.88821403122424 226.52186571738574 172.86387424526515 170.54757131821293\n",
      "47 179.58624680005758 205.3136954843983 226.5546399035585 174.02893153710656 171.32223115326883\n",
      "49 181.0427411043765 204.95647420224014 226.58570258625804 174.51591967288488 171.96219459346196\n",
      "51 181.47467307970064 207.60262300930663 226.61521107956068 175.508411479652 172.629180109865\n",
      "53 181.88531029664387 207.24115394192577 226.6433025629428 176.46789262388143 173.27585224134856\n",
      "55 183.03403148040803 209.85852995742252 226.67009732571162 176.8831194544045 173.89231298204504\n",
      "57 183.32170146368856 209.4995058018136 226.69570138925673 177.75933656844848 174.47742963956136\n",
      "59 183.55900589895302 212.0327751574664 226.7202086441193 178.08259241412915 175.03899627231766\n",
      "61 184.558061543789 211.6991846085279 226.74370260508732 178.885453324706 175.57108077627709\n",
      "63 184.59405574181534 211.38794253117516 226.76625786290185 179.6669449913082 176.08961841495793\n",
      "65 185.5169882515815 214.09072650830478 226.7879412930094 179.87021341673096 176.57421609828768\n",
      "67 185.57045046213838 213.74290733714466 226.8088130682642 180.59024139337617 177.04826942821984\n",
      "69 186.42440675753704 216.39807941343622 226.8289275122973 181.29296893540612 177.50470806420083\n",
      "71 186.40605550795317 216.18119345722033 226.84833382252702 181.79441672918392 177.93749620855698\n",
      "73 187.19981127675192 215.9211731254094 226.86707668584643 182.04860996127962 178.36248353142724\n",
      "75 187.11945477833453 215.59494323687775 226.88519680543206 182.68466925536848 178.7724781220466\n",
      "77 187.85836844569718 218.47150343287683 226.90273135354087 183.30715449266273 179.16221093647857\n",
      "79 188.4435294661408 218.2328573515038 226.91971436235184 183.36170940511673 179.54442669681657\n",
      "81 188.4132699536337 217.93597028132723 226.93617706268955 183.77778699013146 179.9205864277675\n",
      "83 189.08844008171965 220.8623454488975 226.95214817869976 184.3445465547952 180.27364615170416\n",
      "85 188.7734153070835 220.6556798301348 226.96765418513218 184.9009666774735 180.61969414474322\n",
      "87 189.4049672575763 220.40437473307293 226.98271953274784 185.44689434278155 180.9601953836319\n",
      "89 190.02446329316496 220.21169975095185 226.9973668464444 185.32076770595916 181.2945549265976\n",
      "91 189.74515872522034 223.1617077019124 227.01161709994358 185.83055119382738 181.6081736459353\n",
      "93 190.325936437144 222.95838817856142 227.02548977026942 186.33134424473684 181.9171196779664\n",
      "95 190.8963158170837 222.80915576006566 227.03900297474183 186.8230042574899 182.22152767311474\n",
      "97 190.56318964337896 222.6351627859709 227.05217359279226 187.30676793173242 182.52152673830412\n",
      "99 191.09886221773138 225.56304276424433 227.06501737456304 187.15020195767474 182.6963126694124\n",
      "101 191.62548911063757 225.452002193069 227.07754903796365 187.54108037052669 182.94023850367103\n",
      "103 191.2469561650958 225.32531697257895 227.0897823556156 187.98694810813384 183.17490924629112\n",
      "105 191.74225159840023 225.1788979097491 227.1017302329171 188.42575867155816 183.40553773177948\n",
      "107 192.22962279127375 225.00692403436295 227.11340477828645 188.85772805229698 183.632258641874\n",
      "109 192.70895216209192 224.80066707523346 227.12481736650025 189.283057939006 183.85520016493567\n",
      "111 192.272084373596 227.84797718921607 227.1359786959203 189.3964009462528 184.07056801794786\n",
      "113 192.72401086733245 227.80503976668155 227.1468988402987 189.3697410368153 184.27331372844037\n",
      "115 193.16915574550652 227.670338282237 227.1575872957622 189.7634369677076 184.4728595774361\n",
      "117 193.25675469519015 227.51271597577278 227.16805302350105 190.15144253624518 184.6693035019997\n",
      "119 193.0211229896742 227.32576602983644 227.17830448862176 190.53391280713157 184.86273908881896\n",
      "121 193.43483172544444 230.41402322009964 227.18834969556804 190.91099755965615 185.05325582245965\n",
      "123 193.84268125659088 230.37907768447155 227.19819622046467 191.2828339927437 185.24061702797803\n",
      "125 194.2448302062512 230.2625273973705 227.20785124069766 191.64956091121084 185.41381975496267\n",
      "127 193.71850394491167 230.1280378652647 227.2173215620077 191.22978412615646 185.58453738570836\n",
      "129 194.09825923326355 230.07032848045685 227.22661364334166 191.57524419548957 185.7528392474186\n",
      "131 194.47292037554791 229.89921887171278 227.2357336196802 191.9161469075863 185.9187918519085\n",
      "133 194.84238511261583 229.81900872134452 227.2446873230345 192.25260596946782 186.08245904302586\n",
      "135 194.2854219834304 232.92897174321755 227.2534803017847 192.58450360692407 186.24390213479182\n",
      "137 194.63481207297204 232.81958673948583 227.2621178385134 192.91239799686377 186.40318004093376\n",
      "139 194.97974858647 232.77647037465934 227.27060496647226 193.23615564616279 186.55382089613022\n",
      "141 195.32033834267844 232.72876443452594 227.2789464848043 193.555874219698 186.69855689119606\n",
      "143 195.65668420778047 232.58280816820275 227.28714697263248 193.76796861193574 186.84143844759586\n",
      "145 195.06195911572192 232.51773598472153 227.29521080211381 193.35522472159278 186.98251190303264\n",
      "147 195.38010541807327 232.3294598718541 227.30314215054838 193.65337184418038 187.12182190376367\n",
      "149 195.69442800378744 232.23806746531824 227.31094501162315 193.9479698964867 187.25941148455416\n",
      "151 196.0050153682567 235.49500065853684 227.31862320586416 194.23909997671836 187.39532214405938\n",
      "153 196.31194725950377 235.38434426189892 227.3261803903616 194.5268346694333 187.5295939159423\n",
      "155 196.22894994234264 235.33988720692741 227.33362006782815 194.8112471232988 187.66226543600135\n",
      "157 195.97875835391818 235.29077832429726 227.3409455950438 195.09240951152898 187.7860406201529\n",
      "159 196.26596763754205 235.2364716979998 227.34816019073614 195.37039032464952 187.9064330013502\n",
      "161 196.54994460766608 235.07678139345498 227.35526694294083 195.6452559250895 188.02544885899687\n",
      "163 196.8307578143013 235.00261676142486 227.36226881588212 195.91707193130566 188.1431189656745\n",
      "165 197.10847114103484 234.91968125917654 227.36916865641066 195.5922426594266 188.25947308606533\n",
      "167 196.62530376982326 234.8264823904574 227.375969200032 195.47236876337988 188.37454001984872\n",
      "169 196.7147086081642 238.10486623818835 227.38267307655622 195.72660493908137 188.48834764238327\n",
      "171 196.97493861282032 238.06635063657566 227.3892828153973 195.97826717589552 188.6009229433031\n",
      "173 197.23241598940945 238.0240100513683 227.395800850547 196.22727779787618 188.7122920631549\n",
      "175 197.48719431118917 237.97745187011174 227.4022295252475 196.47368801557508 188.82248032819177\n",
      "177 197.7393267755388 237.92621775067832 227.40857109638392 196.71754875089704 188.93039190419873\n",
      "179 197.9888650522409 237.77665684052178 227.41482773861676 196.95890947541807 189.0301404386711\n",
      "181 197.19781717766932 237.70791461019863 227.4210015482721 197.19781717766932 189.12887060728988\n",
      "183 197.43432079229385 237.63157686622108 227.4270945470065 197.43432079229385 189.22660278107543\n",
      "185 197.66846465592386 237.54646026653404 227.43310868526203 197.66846465592386 189.3233567325899\n",
      "187 197.9002929724109 237.45107343990415 227.43904584552547 197.9002929724109 189.419151658849\n",
      "189 198.12984773772496 240.81833160447312 227.4449078454047 198.12984773772496 189.51400620316178\n",
      "191 198.35717284575725 240.78090794941218 227.45069644053484 197.85934197450013 189.6079384759627\n",
      "193 198.58230898282636 240.739995903215 227.4564133273244 197.64849706011535 189.70096607468685\n",
      "195 197.8723856205559 240.69525919661518 227.46206014555275 197.86398786192473 189.79310610274\n",
      "197 198.07744434637917 240.6463080096875 227.46763848082784 198.07744434637917 189.88437518761285\n",
      "199 198.2889044190347 240.59260419186003 227.47314986691308 198.2889044190347 189.9747894981835\n",
      "201 198.49840311254638 240.53377599361005 227.47859578793194 198.49840311254638 190.06436476125128\n",
      "203 198.7059736808026 240.46909239390772 227.48397768045743 198.7059736808026 190.15220827751335\n",
      "205 198.91165034903824 240.39777562283496 227.48929693549388 198.91165034903824 190.23304400637687\n",
      "207 199.1154655886503 240.31887360351107 227.49455490035731 199.1154655886503 190.3131547072883\n",
      "209 199.31745277502526 240.23120660445937 227.49975288046082 199.31745277502526 190.39255315016078\n",
      "211 199.51764104852828 240.1332827243143 227.5048921410103 199.51764104852828 190.47125177374807\n",
      "213 199.71606303121746 243.52262748607532 227.50997390861616 199.71606303121746 190.54926269686945\n",
      "215 199.91274641123866 243.48270655195984 227.51499937282568 199.91274641123866 190.62659772916706\n",
      "217 200.10772146945123 243.43931396963606 227.51996968758078 200.10772146945123 190.70326838142344\n",
      "219 200.30101613868015 243.39211497991207 227.5248859726054 200.30101613868015 190.7792858754546\n",
      "221 200.49265846695698 243.4187235023467 227.5297493147266 200.49265846695698 190.85466115360583\n",
      "223 200.1919858216571 243.36713851795935 227.53456076913298 200.1919858216571 190.92940488786238\n",
      "225 199.8812802822581 243.31090297128645 227.53932136057412 199.8812802822581 191.0035274885982\n",
      "227 200.0617014491466 243.2494799270015 227.54403208450418 200.0617014491466 191.07703911297557\n",
      "229 200.24057502284523 243.18222361929955 227.54869390817265 200.24057502284523 191.14994967301703\n",
      "231 200.41803744518273 243.20789212861564 227.5533077716654 200.41803744518273 191.2222688433588\n",
      "233 200.59405582558617 243.13384308967963 227.5578745888985 200.59405582558617 191.29400606870524\n",
      "235 200.76865158393247 243.05223347089935 227.5623952485673 200.76865158393247 191.3651173271934\n",
      "237 200.94184773875304 242.9618834713312 227.5668706150534 200.94184773875304 191.42957894760127\n",
      "239 201.11366474587064 242.86130229097023 227.57130152929142 201.11366474587064 191.49353745575462\n",
      "241 201.28412528220062 246.33743224894332 227.5756888095979 201.28412528220062 191.55700057851885\n",
      "243 201.4532482161124 246.2978942581468 227.5800332524643 201.4532482161124 191.61997586762513\n",
      "245 201.62105526117693 246.2552018419491 227.5843356333155 201.62105526117693 191.6824707048724\n",
      "247 201.78756507950914 246.2090645686361 227.5885967072365 201.78756507950914 191.7444923071393\n",
      "249 201.95279782646293 246.233149434758 227.59281720966754 201.95279782646293 191.80604773121598\n"
     ]
    }
   ],
   "source": [
    "print(\"q New Leon CF Lower Lower2\")\n",
    "\n",
    "for i in range(len(Lnew)):\n",
    "    print(Lnew[i][0],Lnew[i][1],Lleo[i][1],Lcf[i][1],Llow0[i][1],Llow1[i][1])"
   ]
  },
  {
   "cell_type": "code",
   "execution_count": 1013,
   "id": "83825657-45ca-425f-8983-0f79dfa3a9e7",
   "metadata": {
    "tags": []
   },
   "outputs": [
    {
     "data": {
      "image/png": "[encoded data removed]",
      "text/plain": [
       "<Figure size 640x480 with 1 Axes>"
      ]
     },
     "metadata": {},
     "output_type": "display_data"
    }
   ],
   "source": [
    "n=548\n",
    "Lt=[]\n",
    "Lnew=[]\n",
    "Lbound=[]\n",
    "Lleon=[]\n",
    "Lcf=[]\n",
    "for i in range(7,250):\n",
    "    q=2**(i+3)\n",
    "    lq=log2(q)\n",
    "    Lt.append([lq,time_new(n,n//2,q, verbose=0)/n])\n",
    "    Lbound.append([lq,lowerbound_2(q,0.5)])\n",
    "    Lnew.append([lq,compl_new(q,0.5)])\n",
    "    A=LEEstimator(n,k,q)\n",
    "    leo = A.leon.time_complexity()\n",
    "    Lleon.append([q,leo])\n",
    "    # print(q)\n",
    "plot([Lt,Lnew,Lbound],[\"est\",\"new\",\"bound\"])"
   ]
  },
  {
   "cell_type": "code",
   "execution_count": 692,
   "id": "48739472-32a7-427c-83e6-bed0915c4605",
   "metadata": {
    "tags": []
   },
   "outputs": [
    {
     "data": {
      "text/plain": [
       "653.3960415097906"
      ]
     },
     "execution_count": 692,
     "metadata": {},
     "output_type": "execute_result"
    }
   ],
   "source": [
    "Hqi(1/2,1600)*1600"
   ]
  },
  {
   "cell_type": "code",
   "execution_count": 689,
   "id": "9d169183-98ea-4684-bf60-4c1ed5deed50",
   "metadata": {
    "tags": []
   },
   "outputs": [
    {
     "data": {
      "text/plain": [
       "655"
      ]
     },
     "execution_count": 689,
     "metadata": {},
     "output_type": "execute_result"
    }
   ],
   "source": [
    "gv_distance(1600,800,1600)"
   ]
  },
  {
   "cell_type": "code",
   "execution_count": 704,
   "id": "aab40b36-dae7-4313-8bca-a2564d7e0ddc",
   "metadata": {
    "tags": []
   },
   "outputs": [
    {
     "data": {
      "text/plain": [
       "0.5924482282447603"
      ]
     },
     "execution_count": 704,
     "metadata": {},
     "output_type": "execute_result"
    }
   ],
   "source": [
    "0.8976488306738791*0.66"
   ]
  },
  {
   "cell_type": "code",
   "execution_count": 1078,
   "id": "9c4bb4e0-6ae2-43ad-964b-82f5e81ad9cd",
   "metadata": {
    "tags": []
   },
   "outputs": [
    {
     "name": "stderr",
     "output_type": "stream",
     "text": [
      "No artists with labels found to put in legend.  Note that artists whose label start with an underscore are ignored when legend() is called with no argument.\n"
     ]
    },
    {
     "data": {
      "image/png": "[encoded data removed]",
      "text/plain": [
       "<Figure size 640x480 with 1 Axes>"
      ]
     },
     "metadata": {},
     "output_type": "display_data"
    }
   ],
   "source": [
    "Lc32 = [[i[0],i[2]] for i in Lc]\n",
    "plot([Lc32],[\"\"])"
   ]
  },
  {
   "cell_type": "code",
   "execution_count": 1079,
   "id": "7cd1fc4f-b752-4631-94fb-4fdc6dcf98fb",
   "metadata": {
    "tags": []
   },
   "outputs": [
    {
     "data": {
      "text/plain": [
       "[2000, 1.01306052113733]"
      ]
     },
     "execution_count": 1079,
     "metadata": {},
     "output_type": "execute_result"
    }
   ],
   "source": [
    "Lc32[-1]"
   ]
  },
  {
   "cell_type": "code",
   "execution_count": 792,
   "id": "c74166ac-bd2d-439c-abf4-8123e6eec685",
   "metadata": {
    "tags": []
   },
   "outputs": [
    {
     "data": {
      "text/plain": [
       "5333.333333333333"
      ]
     },
     "execution_count": 792,
     "metadata": {},
     "output_type": "execute_result"
    }
   ],
   "source": [
    "8000*2/3"
   ]
  },
  {
   "cell_type": "code",
   "execution_count": 808,
   "id": "7137c386-38ff-4437-ab55-d208826795e1",
   "metadata": {
    "tags": []
   },
   "outputs": [
    {
     "data": {
      "text/plain": [
       "109.41099707865914"
      ]
     },
     "execution_count": 808,
     "metadata": {},
     "output_type": "execute_result"
    }
   ],
   "source": [
    "Hqi(1/2,2**15)*252"
   ]
  },
  {
   "cell_type": "code",
   "execution_count": null,
   "id": "d96c6142-7fa5-4ab0-a5a3-8299ea2a7528",
   "metadata": {
    "tags": []
   },
   "outputs": [],
   "source": [
    "lowerbound_2(2**2000,0.5)"
   ]
  },
  {
   "cell_type": "code",
   "execution_count": 1363,
   "id": "acbf588f-cf0d-45be-916d-c23aaf0891d9",
   "metadata": {
    "tags": []
   },
   "outputs": [],
   "source": [
    "Lc=[]\n",
    "start = 102\n",
    "Lasym_low=[]\n",
    "Lasym_up=[]\n",
    "Llow=[]\n",
    "Lup=[]\n",
    "Lesti=[]\n",
    "for j in range(20,101,5):\n",
    "    n=j#2**(j+5)\n",
    "    maxi = 0\n",
    "    count=0\n",
    "    q=n//2\n",
    "    R=1/2\n",
    "    maxi = time_new(n,int(n*R),q, verbose = 0)\n",
    "    # for i in range(start,10000):\n",
    "    #     a = time_new(n,n//2,2**i, verbose=0)\n",
    "    #     # print(a,i)\n",
    "    #     if a>maxi:\n",
    "    #         maxi=a\n",
    "    #     if a<maxi-10:\n",
    "    #         start =i-1\n",
    "    #         break\n",
    "    Lc.append([n,maxi,maxi/n/lowerbound_2(q,R)])\n",
    "    Llow.append([n,lowerbound_2(q,R)])\n",
    "    Lasym_low.append([n,H(2,1-R)*2/3])\n",
    "    Lasym_up.append([n,H(2,1-R)*4/5])\n",
    "    Lup.append([n,compl_new(q,R)])\n",
    "    Lesti.append([n,maxi/n])\n",
    "    \n",
    "    # print(n,maxi,maxi/n/lowerbound_2(n,0.5),start)"
   ]
  },
  {
   "cell_type": "code",
   "execution_count": 1112,
   "id": "ebaf87c0-7021-4c57-845e-9c8161da6799",
   "metadata": {
    "tags": []
   },
   "outputs": [
    {
     "data": {
      "text/plain": [
       "1.0"
      ]
     },
     "execution_count": 1112,
     "metadata": {},
     "output_type": "execute_result"
    }
   ],
   "source": [
    "H(2,1/2)"
   ]
  },
  {
   "cell_type": "code",
   "execution_count": 1222,
   "id": "76f45ef7-cc2b-45b5-b27d-1c7c17df00f6",
   "metadata": {
    "tags": []
   },
   "outputs": [
    {
     "data": {
      "text/plain": [
       "0.5422776805832857"
      ]
     },
     "execution_count": 1222,
     "metadata": {},
     "output_type": "execute_result"
    }
   ],
   "source": [
    "lowerbound_2(8000,1/2)"
   ]
  },
  {
   "cell_type": "code",
   "execution_count": 1365,
   "id": "ccca3d59-eb5a-4eed-aed1-ce0ce21f0176",
   "metadata": {
    "tags": []
   },
   "outputs": [
    {
     "data": {
      "text/plain": [
       "[<matplotlib.lines.Line2D at 0x1551e99d0>]"
      ]
     },
     "execution_count": 1365,
     "metadata": {},
     "output_type": "execute_result"
    },
    {
     "data": {
      "image/png": "[encoded data removed]",
      "text/plain": [
       "<Figure size 640x480 with 1 Axes>"
      ]
     },
     "metadata": {},
     "output_type": "display_data"
    }
   ],
   "source": [
    "plot([Lesti,Llow,Lup,Lasym_low,Lasym_up],[\"estimate\",\"lower\",\"upper\",\"asym_low\",\"asym_up\"])\n",
    "plt.plot([0,4000],[0.5,0.5])"
   ]
  },
  {
   "cell_type": "code",
   "execution_count": 1366,
   "id": "5d750cb6-1b9e-4eff-af70-355a2c77378a",
   "metadata": {
    "tags": []
   },
   "outputs": [
    {
     "name": "stdout",
     "output_type": "stream",
     "text": [
      "q up low concrete\n",
      "10 0.31158577050063013 0.30243292642915054 1.579886684871952\n",
      "12 0.32846870760812696 0.3180271679189479 1.3621497682177854\n",
      "15 0.3478946584781334 0.3358154335633575 1.205827514651419\n",
      "17 0.35822565434071674 0.3452033270213919 1.08332882067454\n",
      "20 0.3710650901533145 0.35679781359170315 0.9980650038546189\n",
      "22 0.37830469828449576 0.36329724082785864 0.9087189478832244\n",
      "25 0.38769163750063096 0.37168378642061684 0.8493949321756264\n",
      "27 0.39317022592067763 0.37655514432060766 0.7860145591104878\n",
      "30 0.40046704993764815 0.38301783530835365 0.7425005677681872\n",
      "32 0.40482376008104703 0.38686130918311423 0.6961218822360572\n",
      "35 0.4107348830083759 0.3920582616426589 0.6623365472199088\n",
      "37 0.41432164581900566 0.39520094784237214 0.625637015302365\n",
      "40 0.41925454311783183 0.39951048163252467 0.5987906176337757\n",
      "42 0.42228399139796824 0.4021491308598062 0.5693581034614972\n",
      "45 0.42649375834317715 0.4058066295611026 0.5539308426733845\n",
      "47 0.4291033342514923 0.40806956154125473 0.5443435144087391\n",
      "50 0.4327593505047388 0.4112299076197993 0.5380779890027847\n"
     ]
    }
   ],
   "source": [
    "print(\"q up low concrete\")\n",
    "for i in range(len(Lesti)):\n",
    "    print(Lesti[i][0]//2, Lup[i][1], Llow[i][1],Lesti[i][1])"
   ]
  },
  {
   "cell_type": "code",
   "execution_count": 1544,
   "id": "c1d640ad-0964-4d6f-97f2-0b32f2aa84a5",
   "metadata": {
    "tags": []
   },
   "outputs": [],
   "source": [
    "# without estimate, jsut bound convergence\n",
    "\n",
    "Lc=[]\n",
    "Lasym_low=[]\n",
    "Lasym_up=[]\n",
    "Llow=[]\n",
    "Lup=[]\n",
    "Llower=[]\n",
    "Llower_real=[]\n",
    "for j in range(1,400,1):\n",
    "    n=int(2**(j/2+2))\n",
    "    maxi = 0\n",
    "    count=0\n",
    "    q=n//2\n",
    "    R=1/2\n",
    "    nl=log2(q)\n",
    "    # for i in range(start,10000):\n",
    "    #     a = time_new(n,n//2,2**i, verbose=0)\n",
    "    #     # print(a,i)\n",
    "    #     if a>maxi:\n",
    "    #         maxi=a\n",
    "    #     if a<maxi-10:\n",
    "    #         start =i-1\n",
    "    #         break\n",
    "    Lc.append([nl,maxi,maxi/n/lowerbound_2(q,R)])\n",
    "    Llow.append([nl,lowerbound_2(q,R)])\n",
    "    Lasym_low.append([nl,H(2,1-R)*2/3])\n",
    "    Lasym_up.append([nl,H(2,1-R)*4/5])\n",
    "    Lup.append([nl,compl_new(q,R)])\n",
    "    Llower.append([nl,H(2,1-R)*1/2])\n",
    "    Llower_real.append([nl,lowerbound(q,R)])"
   ]
  },
  {
   "cell_type": "code",
   "execution_count": 1545,
   "id": "ddf8b7e9-6f37-424b-ab90-78e81e27975a",
   "metadata": {
    "tags": []
   },
   "outputs": [
    {
     "data": {
      "image/png": "[encoded data removed]",
      "text/plain": [
       "<Figure size 640x480 with 1 Axes>"
      ]
     },
     "metadata": {},
     "output_type": "display_data"
    }
   ],
   "source": [
    "plot([Llow,Lup,Lasym_low,Lasym_up,Llower,Llower_real],[\"lower\",\"upper\",\"asym_low\",\"asym_up\",\"lowerbound\",\"lowerbound_real\"])"
   ]
  },
  {
   "cell_type": "code",
   "execution_count": null,
   "id": "53ce6caf-5c88-4714-99de-0b8dafe2d776",
   "metadata": {},
   "outputs": [],
   "source": []
  },
  {
   "cell_type": "code",
   "execution_count": 1548,
   "id": "02293f96-c8f6-4130-8dde-38514df4d404",
   "metadata": {
    "tags": []
   },
   "outputs": [
    {
     "name": "stdout",
     "output_type": "stream",
     "text": [
      "up low lowerbound\n",
      "1.0 0.11533442945027972 0.11422334841831633 0.11422334841820725\n",
      "2.0 0.21116575966259754 0.2075187496933748 0.20751874963942196\n",
      "2.321928094887362 0.23819662197507396 0.23338890664327083 0.23336106690656466\n",
      "3.0 0.2896084835200985 0.28196025106043887 0.2816241022806162\n",
      "3.4594316186372973 0.3205283355757909 0.3107081473940034 0.3099060565014539\n",
      "4.0 0.35327092546885375 0.3407076685165439 0.3390359525570492\n",
      "4.459431618637297 0.37830469828449576 0.36329724082785864 0.3605908725372792\n",
      "5.0 0.40482376008104703 0.38686130918311423 0.3825797094607961\n",
      "5.491853096329675 0.42649375834317715 0.4058066295611026 0.39976590364631615\n",
      "6.0 0.4467038357667503 0.4232041624448374 0.41503749927986844\n",
      "6.491853096329675 0.46439770564104665 0.43819869905603615 0.4277097014883171\n",
      "7.0 0.4809719024549598 0.45203513216050295 0.43890329192754973\n",
      "7.499845887083206 0.4957801884205806 0.46421389285707826 0.44828178734647084\n",
      "8.0 0.5092861668041753 0.4751609374649599 0.45626857942505283\n",
      "8.499845887083206 0.5216238844900027 0.4850230708686558 0.46304956227597915\n",
      "9.0 0.5329405482644376 0.49394841183202653 0.4688049929440026\n",
      "9.499845887083206 0.5433373962845796 0.5020438476990579 0.47367749005803894\n",
      "10.0 0.5529278363864076 0.5094198358810537 0.47780294032223447\n",
      "10.499845887083206 0.5617877257601583 0.5161551635808495 0.4812882125426796\n",
      "11.0 0.570004584506006 0.5223341365020753 0.48423387931816153\n",
      "11.499845887083206 0.5776351593792111 0.5280065326390864 0.48671868564551923\n",
      "12.0 0.5847474366518948 0.5332453098485956 0.4888160935546475\n",
      "12.499845887083206 0.5913839706498597 0.5380862111838294 0.4905834350871131\n",
      "13.0 0.5975980821940047 0.542574321770784 0.4920738665103259\n",
      "13.499970423752185 0.6034232443000888 0.5467455453276424 0.4933290633491565\n",
      "14.0 0.6088975324597744 0.550636991809947 0.4943863723218054\n",
      "14.499970423752185 0.6140507227484246 0.5542721312525886 0.4952765551343523\n",
      "15.0 0.6189116227315095 0.5576725646243317 0.49602604705309195\n",
      "15.499970423752185 0.6235036359337396 0.5608617774520637 0.49665682026648683\n",
      "16.0 0.6278497671492038 0.563855613778084 0.49718772543289635\n",
      "16.499985990079953 0.631968724331236 0.5666815282135969 0.4976344244688674\n",
      "17.0 0.6358787059325063 0.5693532366998186 0.4980102871209793\n",
      "17.499993773180854 0.6395951583480681 0.5718808987652462 0.49832648684748426\n",
      "18.0 0.6431326029157741 0.5742517800946454 0.49859249220031754\n",
      "18.49999766471556 0.6465037909807275 0.5765072472328949 0.49881624774509914\n",
      "19.0 0.6497205036319141 0.5786504676444992 0.49900445745554434\n",
      "19.499999610478977 0.6527933077824828 0.5806888241063586 0.4991627600534726\n",
      "20.0 0.6557318865973287 0.5826342957501377 0.499295903843207\n",
      "20.499999610478977 0.6585450414523193 0.5844753905695457 0.4994078812848485\n",
      "21.0 0.6612408326005476 0.5862439919183745 0.4995020581744888\n",
      "21.499999610478977 0.6638266238573357 0.5879263212570718 0.49958126006356496\n",
      "22.0 0.6663091862958915 0.5895344466167352 0.4996478664135422\n",
      "22.49999985369922 0.6686947287199563 0.5910688206185039 0.499703880914693\n",
      "23.0 0.6709889772973241 0.5925534957000639 0.49975098794648953\n",
      "23.499999975309326 0.6731972067650023 0.5939662624089416 0.49979061215695175\n",
      "24.0 0.6753242923244178 0.5953233919572576 0.499823912414632\n",
      "24.499999975309326 0.677374742822302 0.5966453594237249 0.4998519281876461\n",
      "25.0 0.6793527366118151 0.5978973274016804 0.499875482404883\n",
      "25.499999975309326 0.6812621498995045 0.5991004592934583 0.4998953047965756\n",
      "26.0 0.6831065850876077 0.6002742927978542 0.4999119559542765\n",
      "26.499999990510588 0.6848893932912729 0.6013911812158574 0.49992597840105213\n",
      "27.0 0.6866136970368328 0.6024789202558675 0.4999377843829187\n",
      "27.49999999811122 0.6882824087878047 0.6035160544003202 0.49994767712856236\n",
      "28.0 0.6898982488040658 0.6045229787088076 0.49995598923294815\n",
      "28.49999999811122 0.6914637606046677 0.6055003412162502 0.4999630255454909\n",
      "29.0 0.6929813252751169 0.6064272602790641 0.4999689135818922\n",
      "29.49999999811122 0.694453174208861 0.6073391460333323 0.49997402042873895\n",
      "30.0 0.6958814008353367 0.6082494560900109 0.499978033918799\n",
      "30.4999999990613 0.6972679710986052 0.609111644350496 0.499981491322255\n",
      "31.0 0.698614733137944 0.6099192573781878 0.4999846475792379\n",
      "31.49999999953634 0.699923425982683 0.6107185896885522 0.4999869141806148\n",
      "32.0 0.701195687568423 0.6115002024646478 0.4999889960182591\n",
      "32.499999999773856 0.7024330619987469 0.6122437256896012 0.49999094671074484\n",
      "33.0 0.7036370062266267 0.612975319149264 0.4999923406602649\n",
      "33.499999999892616 0.7048088961450696 0.6136816821158059 0.4999934561776962\n",
      "34.0 0.7059500321903869 0.6144193578054338 0.49999457169872996\n",
      "34.499999999951996 0.7070616444734606 0.6150679117016722 0.49999568722230925\n",
      "35.0 0.7081448975047522 0.615726106903763 0.49999680274768976\n",
      "35.49999999998169 0.7092008945366882 0.6163783139586115 0.4999979182743457\n",
      "36.0 0.7102306815680048 0.6169761635356643 0.49999903380190047\n",
      "36.49999999999653 0.7112352510347293 0.6175797095726442 0.5000001493300912\n",
      "37.0 0.7122155452195502 0.6181596172899217 0.5000012648587331\n",
      "37.49999999999653 0.7131724594023623 0.6187407531120357 0.5000023803876947\n",
      "38.0 0.7141068447757775 0.6193044620083593 0.5000034959168802\n",
      "38.49999999999653 0.7150195111451887 0.6198648369756641 0.5000046114462238\n",
      "39.0 0.7159112294322466 0.6203678271238643 0.500005726975681\n",
      "39.49999999999839 0.7167827339978885 0.6209081328354235 0.5000068425052182\n",
      "40.0 0.7176347248002519 0.6214064430540169 0.5000079580348122\n",
      "40.49999999999932 0.7184678694008255 0.6218974325573163 0.5000090735644471\n",
      "41.0 0.7192828048312823 0.6223987478093882 0.5000101890941069\n",
      "41.49999999999978 0.7200801393321754 0.62285485951757 0.500011304623788\n",
      "42.0 0.720860453973562 0.6233102771865239 0.5000124201534832\n",
      "42.49999999999978 0.7216243041670023 0.6237596614656711 0.5000135356831892\n",
      "43.0 0.7223722210771797 0.6242449185911739 0.5000146512129005\n",
      "43.49999999999989 0.7231047129409589 0.6246238821108936 0.500015766742617\n",
      "44.0 0.7238222663009017 0.6250574447488695 0.500016882272339\n",
      "44.49999999999995 0.7245253471595774 0.6254624161692203 0.5000179978020609\n",
      "45.0 0.7252144020606508 0.6258988766579345 0.5000191133317864\n",
      "45.499999999999986 0.7258898591020753 0.6262665335881644 0.5000202288615136\n",
      "46.0 0.7265521288863397 0.6266465348812401 0.5000213443912391\n",
      "46.5 0.7272016054122687 0.627070253739091 0.5000224599209664\n",
      "47.0 0.7278386669126207 0.6274112903805958 0.5000235754506936\n",
      "47.5 0.7284636766411895 0.6277776543943148 0.5000246909804227\n",
      "48.0 0.7290769836130124 0.6281224211982944 0.5000258065101517\n",
      "48.5 0.7296789233009116 0.6284826630393875 0.5000269220398808\n",
      "49.0 0.7302698182913332 0.6288654981706401 0.500028037569608\n",
      "49.5 0.7308499789022349 0.6291799115883712 0.500029153099337\n",
      "50.0 0.731419703765632 0.6294991074506442 0.5000302686290661\n",
      "50.5 0.7319792803770268 0.6298630375297982 0.5000313841587951\n",
      "51.0 0.7325289856140458 0.6301326135637546 0.5000324996885241\n",
      "51.5 0.7330690862261307 0.6304718119293068 0.5000336152182532\n",
      "52.0 0.7335998392973546 0.630772086970179 0.5000347307479822\n",
      "52.5 0.7341214926838475 0.6310808040005923 0.5000358462777112\n",
      "53.0 0.7346342854275818 0.6313869348441514 0.5000369618074403\n",
      "53.5 0.7351384481480636 0.6316558371901251 0.5000380773371693\n",
      "54.0 0.7356342034131028 0.6319277667127956 0.5000391928668984\n",
      "54.5 0.7361217660901083 0.6322454721443643 0.5000403083966274\n",
      "55.0 0.7366013436790726 0.6325108006484896 0.5000414239263564\n",
      "55.5 0.737073136628311 0.6327478816169183 0.5000425394560855\n",
      "56.0 0.7375373386340058 0.6330401323205624 0.5000436549858163\n",
      "56.5 0.7379941369245913 0.6333162543847806 0.5000447705155453\n",
      "57.0 0.7384437125307204 0.6335628922044302 0.5000458860452743\n",
      "57.5 0.7388862405418157 0.633878851083615 0.5000470015750034\n",
      "58.0 0.7393218903498827 0.634037199654177 0.5000481171047324\n",
      "58.5 0.7397508258813761 0.6342897187696414 0.5000492326344614\n",
      "59.0 0.7401732058177334 0.6345676399157079 0.5000503481641905\n",
      "59.5 0.7405891838053051 0.6348156535084748 0.5000514636939195\n",
      "60.0 0.7409989086551618 0.6349917229773417 0.5000525792236485\n",
      "60.5 0.7414025245335233 0.6352203379458762 0.5000536947533776\n",
      "61.0 0.7418001711430691 0.6354524044660306 0.5000548102831066\n",
      "61.5 0.7421919838958797 0.6356939246887046 0.5000559258128356\n",
      "62.0 0.7425780940783095 0.6358919571750895 0.5000570413425647\n",
      "62.5 0.7429586290082923 0.636125079406806 0.5000581568722937\n",
      "63.0 0.7433337121854449 0.6363203105195581 0.500059272402021\n",
      "63.5 0.7437034634344002 0.6365933371455768 0.5000603879317518\n",
      "64.0 0.7440679990416328 0.6367734028638716 0.500061503461479\n",
      "64.5 0.74442743188631 0.6369398874964272 0.5000626189912099\n",
      "65.0 0.7447818715651948 0.6371790398404125 0.5000637345209371\n",
      "65.5 0.7451314245121387 0.6374002438327935 0.5000648500506679\n",
      "66.0 0.7454761941124133 0.6375723284068759 0.5000659655803952\n",
      "66.5 0.7458162808119659 0.6377813669112676 0.500067081110126\n",
      "67.0 0.746151782222114 0.6379600776240315 0.5000681966398532\n",
      "67.5 0.7464827932196394 0.6381192089287255 0.5000693121695841\n",
      "68.0 0.7468094060428175 0.6383408801404187 0.5000704276993113\n",
      "68.5 0.7471317103832185 0.6385291410401237 0.5000715432290421\n",
      "69.0 0.7474497934738054 0.638726240385779 0.5000726587587694\n",
      "69.5 0.7477637401733419 0.6389097671319621 0.5000737742885002\n",
      "70.0 0.7480736330473263 0.6390647236985872 0.5000748898182275\n",
      "70.5 0.7483795524455977 0.6392396058554761 0.5000760053479583\n",
      "71.0 0.7486815765768711 0.6393865210052283 0.5000771208776855\n",
      "71.5 0.7489797815801325 0.6395229042755717 0.5000782364074163\n",
      "72.0 0.7492742415933421 0.6397746081873527 0.5000793519371436\n",
      "72.5 0.7495650288192621 0.6398357056111171 0.5000804674668744\n",
      "73.0 0.7498522135887669 0.6400070732930061 0.5000815829966017\n",
      "73.5 0.7501358644216509 0.6402116201730992 0.5000826985263325\n",
      "74.0 0.7504160480850303 0.6403129441640871 0.5000838140560597\n",
      "74.5 0.7506928296496148 0.6405563966007131 0.5000849295857905\n",
      "75.0 0.7509662725436073 0.6406764359438334 0.5000860451155178\n",
      "75.5 0.7512364386047352 0.6408031790427919 0.5000871606452486\n",
      "76.0 0.7515033881301965 0.640967474024265 0.5000882761749759\n",
      "76.5 0.7517671799247978 0.6411127565996206 0.5000893917047067\n",
      "77.0 0.7520278713472095 0.6412204904142129 0.5000905072344339\n",
      "77.5 0.7522855183545687 0.6414145033062368 0.5000916227641647\n",
      "78.0 0.7525401755453771 0.6415092700781163 0.500092738293892\n",
      "78.5 0.7527918962009039 0.6417460666492829 0.5000938538236228\n",
      "79.0 0.7530407323249761 0.6418669857031563 0.5000949693533501\n",
      "79.5 0.7532867346823816 0.642045664076484 0.5000960848830809\n",
      "80.0 0.7535299528359061 0.6420541548008735 0.5000972004128081\n",
      "80.5 0.7537704351819912 0.6421978156760297 0.500098315942539\n",
      "81.0 0.7540082289851364 0.6423189867296945 0.5000994314722698\n",
      "81.5 0.7542433804111539 0.6424573628383854 0.500100547001997\n",
      "82.0 0.7544759345590741 0.6425930112000933 0.5001016625317278\n",
      "82.5 0.7547059354922254 0.6427454090813853 0.5001027780614551\n",
      "83.0 0.7549334262678995 0.642913522323056 0.5001038935911859\n",
      "83.5 0.7551584489662443 0.64305166040108 0.5001050091209132\n",
      "84.0 0.7553810447180638 0.6431298097444014 0.500106124650644\n",
      "84.5 0.7556012537316196 0.6433655081361707 0.5001072401803712\n",
      "85.0 0.7558191153186868 0.6434046243515624 0.500108355710102\n",
      "85.5 0.756034667919524 0.6434930199521105 0.5001094712398293\n",
      "86.0 0.7562479491271716 0.6436559270052535 0.5001105867695601\n",
      "86.5 0.7564589957108073 0.6437154815520074 0.5001117022992874\n",
      "87.0 0.7566678436384784 0.6439290125533735 0.5001128178290182\n",
      "87.5 0.7568745280989287 0.6440086974967663 0.5001139333587454\n",
      "88.0 0.7570790835228037 0.6440368219362373 0.5001150488884762\n",
      "88.5 0.7572815436031382 0.6441746439316063 0.5001161644182035\n",
      "89.0 0.7574819413151772 0.6443776153487093 0.5001172799479343\n",
      "89.5 0.7576803089355497 0.6444326832194538 0.5001183954776616\n",
      "90.0 0.7578766780608682 0.6444976178910995 0.5001195110073924\n",
      "90.5 0.7580710796256795 0.6446876318970667 0.5001206265371196\n",
      "91.0 0.7582635439198302 0.6447373967845461 0.5001217420668504\n",
      "91.5 0.7584541006054337 0.6447972722274924 0.5001228575965777\n",
      "92.0 0.7586427787330763 0.6449312311720956 0.5001239731263085\n",
      "92.5 0.7588296067577147 0.6451089090034543 0.5001250886560358\n",
      "93.0 0.7590146125539405 0.6452579908589939 0.5001262041857666\n",
      "93.5 0.7591978234308955 0.6452495903473447 0.5001273197154938\n",
      "94.0 0.7593792661466381 0.6453574017686563 0.5001284352452247\n",
      "94.5 0.7595589669220449 0.6454025722300446 0.5001295507749519\n",
      "95.0 0.7597369514544567 0.6455365455036031 0.5001306663046827\n",
      "95.5 0.7599132449306722 0.6457021918286451 0.50013178183441\n",
      "96.0 0.7600878720398043 0.6458105892211776 0.5001328973641408\n",
      "96.5 0.7602608569854823 0.6458333330284631 0.5001340128938716\n",
      "97.0 0.7604322234979719 0.6459589522568988 0.5001351284235989\n",
      "97.5 0.7606019948456941 0.6460929299920274 0.5001362439533297\n",
      "98.0 0.7607701938465539 0.6460666673292639 0.5001373594830569\n",
      "98.5 0.7609368428788628 0.6462556656669847 0.5001384750127877\n",
      "99.0 0.7611019638919988 0.6462547504513243 0.500139590542515\n",
      "99.5 0.7612655784166995 0.6463943229670759 0.5001407060722458\n",
      "100.0 0.761427707575109 0.6464893300302421 0.5001418216019731\n",
      "100.5 0.7615883720904861 0.6465406779692842 0.5001429371317039\n",
      "101.0 0.7617475922966461 0.6466491658406189 0.5001440526614311\n",
      "101.5 0.7619053881472293 0.646733136010525 0.500145168191162\n",
      "102.0 0.762061779224525 0.6468406903222956 0.5001462837208892\n",
      "102.5 0.7622167847482046 0.6468834818461744 0.50014739925062\n",
      "103.0 0.7623704235837323 0.6470329616762172 0.5001485147803473\n",
      "103.5 0.7625227142505793 0.6470795298877651 0.5001496303100781\n",
      "104.0 0.7626736749301086 0.6471272031649705 0.5001507458398053\n",
      "104.5 0.7628233234735061 0.6472800889050645 0.5001518613695362\n",
      "105.0 0.7629716774091264 0.6473365313219767 0.5001529768992634\n",
      "105.5 0.7631187539498683 0.6473571030107551 0.5001540924289942\n",
      "106.0 0.7632645700003877 0.6474292957255539 0.5001552079587215\n",
      "106.5 0.7634091421638842 0.6476708199060497 0.5001563234884523\n",
      "107.0 0.7635524867490372 0.6476394210518109 0.5001574390181796\n",
      "107.5 0.7636946197763876 0.6477305970216578 0.5001585545479104\n",
      "108.0 0.7638355569848301 0.6478348383983097 0.5001596700776376\n",
      "108.5 0.7639753138377632 0.6479205900941688 0.5001607856073684\n",
      "109.0 0.764113905529257 0.6480140714160911 0.5001619011370957\n",
      "109.5 0.7642513469898233 0.6480365254783603 0.5001630166668265\n",
      "110.0 0.7643876528922249 0.6480846585971649 0.5001641321965538\n",
      "110.5 0.7645228376570259 0.6481874398076092 0.5001652477262846\n",
      "111.0 0.7646569154580285 0.6482134706682727 0.5001663632560118\n",
      "111.5 0.764789900227691 0.6482963269319421 0.5001674787857426\n",
      "112.0 0.7649218056621302 0.6483264102990598 0.5001685943154734\n",
      "112.5 0.7650526452262341 0.6485084001984337 0.5001697098452007\n",
      "113.0 0.7651824321585333 0.6485546638789117 0.5001708253749315\n",
      "113.5 0.7653111794760609 0.648544967156225 0.5001719409046588\n",
      "114.0 0.7654388999788984 0.6486215409714714 0.5001730564343896\n",
      "114.5 0.7655656062547781 0.6486861639147463 0.5001741719641168\n",
      "115.0 0.7656913106835219 0.6488731293641302 0.5001752874938477\n",
      "115.5 0.7658160254412519 0.6489217337605311 0.5001764030235749\n",
      "116.0 0.7659397625048143 0.6490826122645976 0.5001775185533057\n",
      "116.5 0.7660625336555311 0.6489993407540311 0.500178634083033\n",
      "117.0 0.7661843504836494 0.6490318171793845 0.5001797496127638\n",
      "117.5 0.7663052243918571 0.6491198743195373 0.500180865142491\n",
      "118.0 0.7664251665992481 0.6492066237760707 0.5001819806722219\n",
      "118.5 0.7665441881450761 0.6492396914905851 0.5001830962019491\n",
      "119.0 0.766662299892289 0.6493187250772132 0.5001842117316799\n",
      "119.5 0.7667795125311301 0.6493666751240218 0.5001853272614072\n",
      "120.0 0.7668958365825063 0.6494055353704717 0.500186442791138\n",
      "120.5 0.7670112824014836 0.6495779945478013 0.5001875583208653\n",
      "121.0 0.7671258601804709 0.649607304691743 0.5001886738505961\n",
      "121.5 0.7672395799523999 0.6496344987301311 0.5001897893803233\n",
      "122.0 0.76735245159402 0.6497957679849363 0.5001909049100541\n",
      "122.5 0.7674644848287784 0.6497519799156706 0.5001920204397814\n",
      "123.0 0.7675756892299053 0.6497986398248372 0.5001931359695122\n",
      "123.5 0.767686074223306 0.6499418984688783 0.5001942514992395\n",
      "124.0 0.7677956490903703 0.6500774768565982 0.5001953670289703\n",
      "124.5 0.7679044229708607 0.6500135295901841 0.5001964825586975\n",
      "125.0 0.768012404865517 0.6501635563930059 0.5001975980884283\n",
      "125.5 0.7681196036387661 0.6502177593674865 0.5001987136181556\n",
      "126.0 0.7682260280213313 0.6501254017485678 0.5001998291478864\n",
      "126.5 0.7683316866126404 0.650240675847904 0.5002009446776172\n",
      "127.0 0.7684365878835583 0.6502506178386807 0.5002020602073445\n",
      "127.5 0.7685407401785576 0.6503336326046081 0.5002031757370717\n",
      "128.0 0.7686441517182061 0.6504553851709289 0.5002042912668061\n",
      "128.5 0.7687468306014071 0.6504986958253056 0.5002054067965334\n",
      "129.0 0.7688487848077984 0.6505223476734585 0.5002065223262677\n",
      "129.5 0.7689500221997941 0.6506154252836606 0.500207637855995\n",
      "130.0 0.7690505505248666 0.6506223295970273 0.5002087533857222\n",
      "130.5 0.7691503774175885 0.6506874906167768 0.5002098689154495\n",
      "131.0 0.7692495104017212 0.6507898918096011 0.5002109844451839\n",
      "131.5 0.7693479568922896 0.6507868443494829 0.5002120999749111\n",
      "132.0 0.7694457241974134 0.6509002424410169 0.5002132155046384\n",
      "132.5 0.7695428195204524 0.6509221967443833 0.5002143310343656\n",
      "133.0 0.7696392499617275 0.6509609519912299 0.5002154465641\n",
      "133.5 0.7697350225203934 0.6509573095787025 0.5002165620938273\n",
      "134.0 0.7698301440963221 0.6511718426638581 0.5002176776235545\n",
      "134.5 0.7699246214918389 0.6510450375212408 0.5002187931532818\n",
      "135.0 0.7700184614134287 0.6512139292557677 0.5002199086830161\n",
      "135.5 0.7701116704734174 0.6511917856745636 0.5002210242127434\n",
      "136.0 0.7702042551917714 0.651193791082345 0.5002221397424707\n",
      "136.5 0.7702962219974777 0.6513155914737334 0.5002232552721979\n",
      "137.0 0.770387577230423 0.6513048298114765 0.5002243708019323\n",
      "137.5 0.7704783271426834 0.651337574697523 0.5002254863316595\n",
      "138.0 0.7705684779002163 0.6514990028673231 0.5002266018613868\n",
      "138.5 0.7706580355843471 0.6515305272406664 0.500227717391114\n",
      "139.0 0.7707470061930906 0.6516001805605253 0.5002288329208484\n",
      "139.5 0.7708353956427623 0.6515842878761617 0.5002299484505757\n",
      "140.0 0.7709232097692633 0.6516288540535962 0.5002310639803029\n",
      "140.5 0.7710104543294937 0.6516320072186232 0.5002321795100302\n",
      "141.0 0.771097135002691 0.6517133650826992 0.5002332950397645\n",
      "141.5 0.7711832573917263 0.6518214632446594 0.5002344105694918\n",
      "142.0 0.7712688270244445 0.6517922752966365 0.5002355260992191\n",
      "142.5 0.771353849354881 0.651907601493779 0.5002366416289463\n",
      "143.0 0.7714383297645497 0.6519155699919914 0.5002377571586807\n",
      "143.5 0.7715222735634839 0.6519139389894661 0.5002388726884079\n",
      "144.0 0.7716056859917777 0.6520362052465521 0.5002399882181352\n",
      "144.5 0.7716885722203978 0.6520102031379196 0.5002411037478696\n",
      "145.0 0.771770937352485 0.6521389423885324 0.5002422192775968\n",
      "145.5 0.7718527864244709 0.6522364818683712 0.5002433348073241\n",
      "146.0 0.7719341244071529 0.6522854647450951 0.5002444503370513\n",
      "146.5 0.7720149562067604 0.6523489875427013 0.5002455658667857\n",
      "147.0 0.7720952866660118 0.6523269126653333 0.500246681396513\n",
      "147.5 0.7721751205652083 0.6524037787008312 0.5002477969262402\n",
      "148.0 0.772254462623124 0.6523065696296958 0.5002489124559675\n",
      "148.5 0.7723333174981235 0.6524183157661412 0.5002500279857018\n",
      "149.0 0.7724116897890667 0.6524995153471895 0.5002511435154291\n",
      "149.5 0.7724895840362649 0.6526243013562799 0.5002522590451564\n",
      "150.0 0.7725670047224285 0.652518454272386 0.5002533745748836\n",
      "150.5 0.7726439562736244 0.6526117114461698 0.500254490104618\n",
      "151.0 0.7727204430601234 0.6527044580379948 0.5002556056343452\n",
      "151.5 0.7727964693972922 0.6526535865679266 0.5002567211640725\n",
      "152.0 0.7728720395464563 0.652753713331732 0.5002578366937998\n",
      "152.5 0.7729471577157785 0.652743813863945 0.5002589522235341\n",
      "153.0 0.7730218280611325 0.6528048563139234 0.5002600677532614\n",
      "153.5 0.7730960546867442 0.6529100269524406 0.5002611832829886\n",
      "154.0 0.7731698416462427 0.6529150619002185 0.5002622988127159\n",
      "154.5 0.7732431929432835 0.6528524984551002 0.5002634143424503\n",
      "155.0 0.7733161125322463 0.6530896072251495 0.5002645298721775\n",
      "155.5 0.7733886043193365 0.6529759899324383 0.5002656454019048\n",
      "156.0 0.7734606721628836 0.6530862617211772 0.500266760931632\n",
      "156.5 0.7735323198744197 0.6532431400034491 0.5002678764613664\n",
      "157.0 0.7736035512192317 0.6530191667835817 0.5002689919910936\n",
      "157.5 0.773674369917113 0.6531086633649325 0.5002701075208209\n",
      "158.0 0.7737447796430129 0.6531495493073471 0.5002712230505482\n",
      "158.5 0.7738147840277733 0.6531965081268696 0.5002723385802825\n",
      "159.0 0.7738843866587786 0.653421645894406 0.5002734541100098\n",
      "159.5 0.7739535910805557 0.6534794599875633 0.500274569639737\n",
      "160.0 0.7740224007955021 0.6534335399206981 0.5002756851694643\n",
      "160.5 0.7740908192644447 0.6534843572771504 0.5002768006991987\n",
      "161.0 0.7741588499073256 0.6534037104125856 0.5002779162289259\n",
      "161.5 0.7742264961037503 0.6533724964168942 0.5002790317586532\n",
      "162.0 0.7742937611936043 0.6535450363341615 0.5002801472883875\n",
      "162.5 0.7743606484776572 0.6535636673283907 0.5002812628181148\n",
      "163.0 0.7744271612181137 0.653687175350922 0.5002823783478421\n",
      "163.5 0.7744933026392289 0.6536031440686311 0.5002834938775693\n",
      "164.0 0.7745590759277547 0.6535864102734023 0.5002846094073037\n",
      "164.5 0.7746244842336409 0.6538214775037379 0.5002857249370309\n",
      "165.0 0.7746895306704289 0.6537373892929423 0.5002868404667582\n",
      "165.5 0.774754218315873 0.6537353185238715 0.5002879559964855\n",
      "166.0 0.7748185502124295 0.6537635219801912 0.5002890715262198\n",
      "166.5 0.7748825293677456 0.6537954062021134 0.5002901870559471\n",
      "167.0 0.774946158755187 0.6537561255622063 0.5002913025856743\n",
      "167.5 0.7750094413143058 0.6538251769366432 0.5002924181154016\n",
      "168.0 0.7750723799513548 0.653866686878122 0.500293533645136\n",
      "168.5 0.7751349775397272 0.6541195698768405 0.5002946491748632\n",
      "169.0 0.7751972369204623 0.6540227750165224 0.5002957647045905\n",
      "169.5 0.7752591609026638 0.6539825114508631 0.5002968802343177\n",
      "170.0 0.7753207522639114 0.6541465712973036 0.5002979957640521\n",
      "170.5 0.7753820137509138 0.6540567096105062 0.5002991112937794\n",
      "171.0 0.7754429480796707 0.6540192483310275 0.5003002268235066\n",
      "171.5 0.7755035579360481 0.6541762657321518 0.5003013423532339\n",
      "172.0 0.775563845976194 0.6541578505805177 0.5003024578829682\n",
      "172.5 0.7756238148269006 0.6541701941768898 0.5003035734126955\n",
      "173.0 0.7756834670860597 0.654295985729226 0.5003046889424227\n",
      "173.5 0.7757428053230626 0.6544094002262426 0.50030580447215\n",
      "174.0 0.7758018320791678 0.6542513971008961 0.5003069200018844\n",
      "174.5 0.775860549867852 0.6544746611080482 0.5003080355316116\n",
      "175.0 0.7759189611753357 0.6543039597579603 0.5003091510613389\n",
      "175.5 0.7759770684607614 0.6543209707694189 0.5003102665910661\n",
      "176.0 0.7760348741567213 0.6544645291414781 0.5003113821208005\n",
      "176.5 0.7760923806695111 0.6544914552064639 0.5003124976505278\n",
      "177.0 0.7761495903795707 0.6544736792126484 0.500313613180255\n",
      "177.5 0.7762065056417767 0.6544520165493314 0.5003147287099894\n",
      "178.0 0.7762631287858142 0.6546831905325803 0.5003158442397166\n",
      "178.5 0.7763194621165042 0.6546533288795189 0.5003169597694439\n",
      "179.0 0.7763755079141106 0.6545506273492248 0.5003180752991712\n",
      "179.5 0.7764312684347772 0.6545699248136579 0.5003191908289055\n",
      "180.0 0.7764867459106866 0.6545849609837376 0.5003203063586328\n",
      "180.5 0.7765419425505229 0.6548631487498168 0.50032142188836\n",
      "181.0 0.7765968605396927 0.6548852790422188 0.5003225374180873\n",
      "181.5 0.7766515020406877 0.6547868034554369 0.5003236529478217\n",
      "182.0 0.776705869193347 0.6547657379281407 0.5003247684775489\n",
      "182.5 0.7767599641152003 0.6548499152332453 0.5003258840072762\n",
      "183.0 0.7768137889016413 0.6547644298584601 0.5003269995370034\n",
      "183.5 0.7768673456264708 0.6549026698720213 0.5003281150667378\n",
      "184.0 0.776920636341869 0.6549361402057416 0.5003292305964651\n",
      "184.5 0.7769736630789055 0.6551613245919157 0.5003303461261923\n",
      "185.0 0.7770264278477441 0.6550130763175162 0.5003314616559196\n",
      "185.5 0.7770789326378065 0.6549728440369478 0.5003325771856539\n",
      "186.0 0.7771311794182338 0.6552244914253862 0.5003336927153812\n",
      "186.5 0.7771831701380312 0.6552311523082912 0.5003348082451085\n",
      "187.0 0.7772349067263122 0.655000212315551 0.5003359237748357\n",
      "187.5 0.7772863910926276 0.6551191058751188 0.5003370393045701\n",
      "188.0 0.7773376251271465 0.6550457932834574 0.5003381548342973\n",
      "188.5 0.7773886107009673 0.655153061486686 0.5003392703640246\n",
      "189.0 0.7774393496662242 0.6551076281186994 0.5003403858937518\n",
      "189.5 0.7774898438565879 0.6553128683026828 0.5003415014234862\n",
      "190.0 0.7775400950872324 0.6551560141384709 0.5003426169532135\n",
      "190.5 0.7775901051551615 0.6552307455813289 0.5003437324829407\n",
      "191.0 0.777639875839526 0.6552947194016275 0.500344848012668\n",
      "191.5 0.7776894089017398 0.6552208071363452 0.5003459635424023\n",
      "192.0 0.7777387060857035 0.6553528820928555 0.5003470790721296\n",
      "192.5 0.7777877691181119 0.6552725819894079 0.5003481946018569\n",
      "193.0 0.7778365997085928 0.6554465884642582 0.5003493101315912\n",
      "193.5 0.7778851995498428 0.6554217640133913 0.5003504256613185\n",
      "194.0 0.7779335703180901 0.6554691693717075 0.5003515411910457\n",
      "194.5 0.7779817136730571 0.6553581106478985 0.500352656720773\n",
      "195.0 0.7780296312582493 0.6554654990233644 0.5003537722505074\n",
      "195.5 0.7780773247011439 0.6554152388886106 0.5003548877802346\n",
      "196.0 0.7781247956133802 0.6554355572732012 0.5003560033099619\n",
      "196.5 0.7781720455910356 0.6555329982721502 0.5003571188396891\n",
      "197.0 0.7782190762146968 0.6557064956380714 0.5003582343694235\n",
      "197.5 0.7782658890496622 0.655682218266091 0.5003593498991508\n",
      "198.0 0.7783124856462393 0.6556640441690448 0.500360465428878\n",
      "198.5 0.7783588675398221 0.6556466662190928 0.5003615809586053\n",
      "199.0 0.7784050362510584 0.655630608484981 0.5003626964883396\n",
      "199.5 0.7784509932861567 0.6557423159631414 0.5003638120180669\n",
      "200.0 0.7784967401368073 0.6557986679406866 0.5003649275477942\n",
      "200.5 0.778542278280753 0.6556724583820284 0.5003660430775214\n"
     ]
    }
   ],
   "source": [
    "print(\"up low lowerbound\")\n",
    "for i in range(len(Llow)):\n",
    "    print(Llow[i][0], Lup[i][1], Llow[i][1],Llower_real[i][1])"
   ]
  },
  {
   "cell_type": "code",
   "execution_count": null,
   "id": "98759a93-1da5-4347-a338-dac220293327",
   "metadata": {},
   "outputs": [],
   "source": [
    "442 441\n",
    "1000 527.3520068558455 0.7910280102837683 102\n",
    "903 902\n",
    "2000 1051.3015809171345 0.7884761856878509 102\n",
    "1369 1366\n",
    "3000 1581.1355348572677 0.7905677674286339 102\n",
    "1839 1829\n",
    "4000 2119.9708819839843 0.7949890807439942 102\n",
    "2310 2294\n",
    "5000 2660.372388124996 0.7981117164374988 102"
   ]
  },
  {
   "cell_type": "code",
   "execution_count": null,
   "id": "01127d33-7bff-4284-96da-052a245f4d20",
   "metadata": {},
   "outputs": [],
   "source": [
    "600 325.632036346688 0.81408009086672 102\n",
    "800 434.491565707979 0.8146716857024606 102\n",
    "1000 540.871099705811 0.8113066495587166 102\n",
    "1200 650.1622816430684 0.8127028520538354 102\n",
    "1400 758.3463779183884 0.8125139763411304 102\n",
    "1600 865.0739741273569 0.811006850744397 102\n",
    "1800 974.4313753638096 0.812026146136508 102"
   ]
  },
  {
   "cell_type": "code",
   "execution_count": 560,
   "id": "829843f5-64da-4858-a982-5b162356c19a",
   "metadata": {
    "tags": []
   },
   "outputs": [
    {
     "data": {
      "text/plain": [
       "0.6449953770974484"
      ]
     },
     "execution_count": 560,
     "metadata": {},
     "output_type": "execute_result"
    }
   ],
   "source": [
    "322.49768854872417/500"
   ]
  },
  {
   "cell_type": "code",
   "execution_count": 555,
   "id": "cf288082-d2fd-485c-9f3a-70a1755966f3",
   "metadata": {
    "tags": []
   },
   "outputs": [
    {
     "name": "stdout",
     "output_type": "stream",
     "text": [
      "199\n"
     ]
    },
    {
     "data": {
      "text/plain": [
       "208.20091683315633"
      ]
     },
     "execution_count": 555,
     "metadata": {},
     "output_type": "execute_result"
    }
   ],
   "source": [
    "time_new(600,300,2**190, verbose=0)"
   ]
  },
  {
   "cell_type": "code",
   "execution_count": 881,
   "id": "f3b51b8b-8dd9-4b7f-a3e1-6e7562e3935a",
   "metadata": {
    "tags": []
   },
   "outputs": [
    {
     "data": {
      "text/plain": [
       "0.8216328493686147"
      ]
     },
     "execution_count": 881,
     "metadata": {},
     "output_type": "execute_result"
    }
   ],
   "source": []
  },
  {
   "cell_type": "code",
   "execution_count": 464,
   "id": "aaa188bb-56bb-4b85-a552-84811d4e0684",
   "metadata": {
    "tags": []
   },
   "outputs": [
    {
     "name": "stdout",
     "output_type": "stream",
     "text": [
      "261.48196710817746 (261.48196710817746, 120.9838702458699, 242.87692354688508, 18.605043561292387) 198\n",
      "(155.3226397933031, 97.21008712258478, -11248.508219519794, 0)\n"
     ]
    },
    {
     "data": {
      "text/plain": [
       "261.48196710817746"
      ]
     },
     "execution_count": 464,
     "metadata": {},
     "output_type": "execute_result"
    }
   ],
   "source": [
    "time_new(400,200,2**120)"
   ]
  },
  {
   "cell_type": "code",
   "execution_count": 510,
   "id": "cc23731c-2e3f-4f62-93a2-88bdfe66276b",
   "metadata": {
    "tags": []
   },
   "outputs": [
    {
     "data": {
      "text/plain": [
       "0.8478338068181818"
      ]
     },
     "execution_count": 510,
     "metadata": {},
     "output_type": "execute_result"
    }
   ],
   "source": [
    "1146/(2**11*0.66)"
   ]
  },
  {
   "cell_type": "code",
   "execution_count": 509,
   "id": "b85c3663-4854-468b-bea7-6eda81ab9241",
   "metadata": {
    "tags": []
   },
   "outputs": [
    {
     "data": {
      "text/plain": [
       "0.8448745265151515"
      ]
     },
     "execution_count": 509,
     "metadata": {},
     "output_type": "execute_result"
    }
   ],
   "source": [
    "571/(2**10*0.66)"
   ]
  },
  {
   "cell_type": "code",
   "execution_count": 518,
   "id": "2fd66bf7-157c-4c42-9ab8-f9775aaaf9bf",
   "metadata": {
    "tags": []
   },
   "outputs": [
    {
     "data": {
      "text/plain": [
       "[]"
      ]
     },
     "execution_count": 518,
     "metadata": {},
     "output_type": "execute_result"
    }
   ],
   "source": [
    "Lconv"
   ]
  },
  {
   "cell_type": "code",
   "execution_count": 568,
   "id": "ad79402f-a643-4ff1-b28b-abf4a30caccd",
   "metadata": {
    "tags": []
   },
   "outputs": [],
   "source": [
    "Lconv=[]\n",
    "for i in range(7,12):\n",
    "    n=2**i\n",
    "    k=n//2\n",
    "    q=n\n",
    "    Lconv.append([time_new(n,k,q, verbose=1)/(2**i*0.66)])"
   ]
  },
  {
   "cell_type": "code",
   "execution_count": 570,
   "id": "84ee7576-1373-48ec-8bb8-28a2c8be7202",
   "metadata": {
    "tags": []
   },
   "outputs": [
    {
     "data": {
      "text/plain": [
       "[[0.8429263490279573],\n",
       " [0.8240058533375542],\n",
       " [0.81084751495683],\n",
       " [0.8137733930791262],\n",
       " [0.8155596477219765]]"
      ]
     },
     "execution_count": 570,
     "metadata": {},
     "output_type": "execute_result"
    }
   ],
   "source": [
    "Lconv"
   ]
  },
  {
   "cell_type": "code",
   "execution_count": 506,
   "id": "21de8aa8-abd3-4f07-a348-69aad82e93b3",
   "metadata": {
    "tags": []
   },
   "outputs": [
    {
     "name": "stdout",
     "output_type": "stream",
     "text": [
      "436\n",
      "jo\n",
      "436\n",
      "437\n",
      "438\n",
      "439\n",
      "440\n",
      "441\n",
      "442\n",
      "443\n",
      "444\n",
      "445\n",
      "446\n",
      "447\n",
      "448\n",
      "449\n",
      "450\n",
      "451\n",
      "452\n",
      "453\n",
      "454\n",
      "455\n",
      "456\n",
      "457\n",
      "458\n",
      "459\n",
      "460\n",
      "461\n",
      "462\n",
      "463\n",
      "464\n",
      "465\n",
      "466\n",
      "467\n",
      "468\n",
      "469\n",
      "470\n",
      "471\n",
      "472\n",
      "473\n",
      "474\n",
      "475\n",
      "476\n",
      "477\n",
      "478\n"
     ]
    },
    {
     "data": {
      "text/plain": [
       "570.9862528834968"
      ]
     },
     "execution_count": 506,
     "metadata": {},
     "output_type": "execute_result"
    }
   ],
   "source": [
    "n=2**10\n",
    "k=n//2\n",
    "q=10*n\n",
    "time_new(n,k,q, verbose=0)"
   ]
  },
  {
   "cell_type": "code",
   "execution_count": 489,
   "id": "75433d28-f0f7-4591-b6c4-bab9129c7cca",
   "metadata": {
    "tags": []
   },
   "outputs": [
    {
     "data": {
      "text/plain": [
       "675.84"
      ]
     },
     "execution_count": 489,
     "metadata": {},
     "output_type": "execute_result"
    }
   ],
   "source": [
    "2**10*0.66"
   ]
  },
  {
   "cell_type": "code",
   "execution_count": null,
   "id": "0fd0cb4d-f6a5-464e-afde-ce91b834fdfa",
   "metadata": {
    "tags": []
   },
   "outputs": [],
   "source": [
    "0.66*400"
   ]
  },
  {
   "cell_type": "code",
   "execution_count": 423,
   "id": "1865530e-78ac-4805-8fa6-5f05dcc5edf5",
   "metadata": {
    "tags": []
   },
   "outputs": [
    {
     "data": {
      "text/plain": [
       "0.5939941502901619"
      ]
     },
     "execution_count": 423,
     "metadata": {},
     "output_type": "execute_result"
    }
   ],
   "source": [
    "c=2\n",
    "1-e**(-c)*(1+c)"
   ]
  },
  {
   "cell_type": "code",
   "execution_count": 50,
   "id": "b14748dc-2a1d-4750-9d5f-49831f97608d",
   "metadata": {
    "tags": []
   },
   "outputs": [],
   "source": [
    "def cf_mitm_concrete(n,k,q):\n",
    "    \"\"\"\n",
    "    Concrete complexity of CFMITM algorithm\n",
    "    \"\"\"\n",
    "    return log2(binom(n,n-k))/2+log2(k)*2 + log2(n)+2*log2(log2(q))"
   ]
  },
  {
   "cell_type": "markdown",
   "id": "ef423755-6af4-4e8f-b0aa-1ec311772d52",
   "metadata": {},
   "source": [
    "### LCE instances"
   ]
  },
  {
   "cell_type": "code",
   "execution_count": 290,
   "id": "d6784d3d-5d98-4b06-9b4b-d59daa68ce34",
   "metadata": {
    "tags": []
   },
   "outputs": [
    {
     "data": {
      "text/plain": [
       "98.28"
      ]
     },
     "execution_count": 290,
     "metadata": {},
     "output_type": "execute_result"
    }
   ],
   "source": [
    "252*0.39"
   ]
  },
  {
   "cell_type": "code",
   "execution_count": 338,
   "id": "346ab981-c3df-4ac0-9869-a78b23153729",
   "metadata": {
    "tags": []
   },
   "outputs": [
    {
     "name": "stdout",
     "output_type": "stream",
     "text": [
      "193.23522088658876 (193.23522088658876, 187.77633771347737) 161\n",
      "(122.89220828536418, 121.29972185584678, -128.28367974337095, 114.31576396832261)\n"
     ]
    },
    {
     "data": {
      "text/plain": [
       "193.23522088658876"
      ]
     },
     "execution_count": 338,
     "metadata": {},
     "output_type": "execute_result"
    }
   ],
   "source": [
    "n= 400\n",
    "k= n//2\n",
    "q=100\n",
    "time_new(n,k,q,verbose=True,lowerbound=0)"
   ]
  },
  {
   "cell_type": "code",
   "execution_count": 339,
   "id": "fe063c03-a7dd-4702-987e-fee1e23cc7ea",
   "metadata": {
    "tags": []
   },
   "outputs": [
    {
     "name": "stdout",
     "output_type": "stream",
     "text": [
      "193.23522088658876 (193.23522088658876, 180.7923798259532) 161\n",
      "(122.89220828536418, 121.29972185584678, -128.28367974337095, 114.31576396832261)\n"
     ]
    },
    {
     "data": {
      "text/plain": [
       "193.23522088658876"
      ]
     },
     "execution_count": 339,
     "metadata": {},
     "output_type": "execute_result"
    }
   ],
   "source": [
    "time_new(n,k,q,verbose=True)"
   ]
  },
  {
   "cell_type": "code",
   "execution_count": 210,
   "id": "b4f9fe83-f5d9-4054-9db7-9b258ac0fbf9",
   "metadata": {
    "tags": []
   },
   "outputs": [
    {
     "data": {
      "text/plain": [
       "41.999998319999996"
      ]
     },
     "execution_count": 210,
     "metadata": {},
     "output_type": "execute_result"
    }
   ],
   "source": [
    "0.16666666*252"
   ]
  },
  {
   "cell_type": "code",
   "execution_count": 1460,
   "id": "67709487-7834-40cd-b4a1-93ad5b7d4e24",
   "metadata": {
    "tags": []
   },
   "outputs": [
    {
     "name": "stdout",
     "output_type": "stream",
     "text": [
      "+--------------+--------+------+----------+------+-----+--------+\n",
      "|   (n,k,q)    | CFMITM | Leon | Beullens | BBPS | New | weight |\n",
      "+--------------+--------+------+----------+------+-----+--------+\n",
      "| (198,94,251) |  123   | 134  |   113    | 114  | 105 |   91   |\n",
      "+--------------+--------+------+----------+------+-----+--------+\n"
     ]
    }
   ],
   "source": [
    "from cryptographic_estimators.LEEstimator import LEEstimator\n",
    "from prettytable import PrettyTable\n",
    "def ri(x):\n",
    "    if x == inf:\n",
    "        return \"-\"\n",
    "    return int(round(x))\n",
    "\n",
    "row_header = [\"(n,k,q)\",\"CFMITM\",\"Leon\",\"Beullens\",\"BBPS\", \"New\",\"weight\"]\n",
    "t = PrettyTable(row_header)\n",
    "\n",
    "for par in [[198,94,251]]:\n",
    "    n,k,q=par\n",
    "    new,w = time_new(n,k,q,verbose=0,lowerbound=-1)\n",
    "    low0 = time_new(n,k,q,verbose=0,lowerbound=0)\n",
    "    low1 = time_new(n,k,q,verbose=0,lowerbound=1)\n",
    "    \n",
    "    A=LEEstimator(n,k,q)\n",
    "    beu = A.beullens.time_complexity()\n",
    "    leo = A.leon.time_complexity()\n",
    "    bbps = A.bbps.time_complexity()\n",
    "    cf = cf_mitm_concrete(n,k,q)\n",
    "        \n",
    "    name = params= \"(\"+str(n)+\",\"+str(k)+\",\"+str(q)+\")\"\n",
    "    row = [name,ri(cf),ri(leo),ri(beu),ri(bbps),ri(new),w]\n",
    "    t.add_row(row)\n",
    "\n",
    "print(t)"
   ]
  },
  {
   "cell_type": "markdown",
   "id": "3370c964-ab67-45b4-8c03-3515139575b5",
   "metadata": {},
   "source": [
    "### Permutation Equivalence Instances"
   ]
  },
  {
   "cell_type": "code",
   "execution_count": 1458,
   "id": "cbcaa89b-5759-45a2-8747-c1599eb05340",
   "metadata": {
    "tags": []
   },
   "outputs": [
    {
     "name": "stdout",
     "output_type": "stream",
     "text": [
      "+---------------+--------+------+----------+-----+--------+\n",
      "|    (n,k,q)    | CFMITM | Leon | Beullens | New | weight |\n",
      "+---------------+--------+------+----------+-----+--------+\n",
      "| (252,126,127) |  151   | 153  |   129    | 127 |  105   |\n",
      "| (400,200,127) |  227   | 230  |   195    | 196 |  165   |\n",
      "| (548,274,127) |  302   | 307  |   263    | 266 |  224   |\n",
      "| (235,108,251) |  142   | 154  |   125    | 123 |  112   |\n",
      "| (230,115,127) |  140   | 142  |   119    | 117 |   96   |\n",
      "+---------------+--------+------+----------+-----+--------+\n"
     ]
    }
   ],
   "source": [
    "from cryptographic_estimators.PEEstimator import PEEstimator\n",
    "\n",
    "perm_eq= [[252,126,127],[400,200,127],[548,274,127],[235,108,251],[230,115,127]]\n",
    "row_header = [\"(n,k,q)\",\"CFMITM\",\"Leon\",\"Beullens\", \"New\",\"weight\"]\n",
    "t = PrettyTable(row_header)\n",
    "\n",
    "for i in perm_eq:\n",
    "    n,k,q=i\n",
    "    \n",
    "    new,w = time_new(n,k,q,verbose=0,lowerbound=-1)\n",
    "    low0 = time_new(n,k,q,verbose=0,lowerbound=0)\n",
    "    low1 = time_new(n,k,q,verbose=0,lowerbound=1)\n",
    "    \n",
    "    A=PEEstimator(n,k,q)\n",
    "    beu = A.beullens.time_complexity()\n",
    "    leo = A.leon.time_complexity()\n",
    "    cf = cf_mitm_concrete(n,k,q)\n",
    "\n",
    "    name= \"(\"+str(n)+\",\"+str(k)+\",\"+str(q)+\")\"\n",
    "    row =[name,ri(cf),ri(leo),ri(beu),ri(new),w]\n",
    "    t.add_row(row)\n",
    "print(t)"
   ]
  },
  {
   "cell_type": "code",
   "execution_count": 1543,
   "id": "364ba837-506f-4a1f-8e0f-b8963c3531ad",
   "metadata": {
    "tags": []
   },
   "outputs": [],
   "source": [
    "from scipy.optimize import fsolve,minimize_scalar\n",
    "\n",
    "def constraint_opt(w,q,k):\n",
    "    \"\"\"\n",
    "    optimal w satisfies constraint_opt(w,q,k)=0 (balances factors 2*Nw and ISD)\n",
    "    \"\"\"\n",
    "    return binomH(1,w)*3/2+log2(q-1)*5*w/2+binomH(1-k,w)-log2(q)*(1-k)*5/2\n",
    "\n",
    "def compl_new(q,R):\n",
    "    \"\"\"\n",
    "    Asymptotic complexity of Algorithm 4\n",
    "    \"\"\"\n",
    "    w= max(Hqi(1-R,q),fsolve(lambda x:constraint_opt(x[0],q,R),0.0000001)[0])\n",
    "    Nw = binomH(1,w)+log2(q-1)*w-log2(q)*(1-R)\n",
    "    ISD = binomH(1,w)-binomH(1-R,w)-Nw/2\n",
    "    return max(ISD,2*Nw)\n",
    "\n",
    "def lowerbound(q,R):\n",
    "    \"\"\"\n",
    "    Lowerbound for codeword finding based algorithms\n",
    "    \"\"\"\n",
    "    def compl_lower_bound(w):\n",
    "        Nw = binomH(1,w)+log2(q-1)*w-log2(q)*(1-R)\n",
    "        if Nw<0:\n",
    "            return 10000\n",
    "        return max(binomH(1,w)-binomH(1-R,w)-Nw,0)+Nw/2\n",
    "    w = minimize_scalar(compl_lower_bound, bounds=(0, 1-R), method='bounded').x\n",
    "    Nw = binomH(1,w)+log2(q-1)*w-log2(q)*(1-R)\n",
    "    return compl_lower_bound(w)#max(binomH(1,w)-binomH(1-R,w)-Nw,0)#\n",
    "\n",
    "def lowerbound_2(q,R):\n",
    "    \"\"\"\n",
    "    Semi-Lowerbound assuming Compatible-Pairs runs in time linear in V,W\n",
    "    \"\"\"\n",
    "    def compl_lower_bound(w):\n",
    "        Nw = binomH(1,w)+log2(q-1)*w-log2(q)*(1-R)\n",
    "        return max(binomH(1,w)-binomH(1-R,w)-Nw/2,Nw)\n",
    "    return minimize_scalar(compl_lower_bound, bounds=(0, 1-R), method='bounded').fun\n",
    "\n"
   ]
  },
  {
   "cell_type": "code",
   "execution_count": 1534,
   "id": "9eb67ba6-9a81-44d3-b37e-b0e355361a35",
   "metadata": {
    "tags": []
   },
   "outputs": [
    {
     "data": {
      "text/plain": [
       "0.09914758657693323"
      ]
     },
     "execution_count": 1534,
     "metadata": {},
     "output_type": "execute_result"
    }
   ],
   "source": [
    "lowerbound(127,0.5)"
   ]
  },
  {
   "cell_type": "code",
   "execution_count": 1539,
   "id": "354d1739-3869-4b93-932a-33263ab5347a",
   "metadata": {
    "tags": []
   },
   "outputs": [
    {
     "data": {
      "image/png": "[encoded data removed]",
      "text/plain": [
       "<Figure size 640x480 with 1 Axes>"
      ]
     },
     "metadata": {},
     "output_type": "display_data"
    }
   ],
   "source": [
    "L=[]\n",
    "for i in range(3,250):\n",
    "    R=i/500\n",
    "    L.append([R,lowerbound(127,R)])\n",
    "plot([L],[\"gap\"])"
   ]
  },
  {
   "cell_type": "code",
   "execution_count": 1304,
   "id": "1b1717f1-8d13-4921-896d-8cfadb5f2207",
   "metadata": {
    "tags": []
   },
   "outputs": [
    {
     "data": {
      "text/plain": [
       "(0.45174425564502774, 0.4517222630571238)"
      ]
     },
     "execution_count": 1304,
     "metadata": {},
     "output_type": "execute_result"
    }
   ],
   "source": [
    "q=1270\n",
    "R=1/2\n",
    "w=lowerbound_2(q,R).x\n",
    "Nw = binomH(1,w)+log2(q-1)*w-log2(q)*(1-R)\n",
    "(binomH(1,w)-binomH(1-R,w)-Nw/2,Nw)"
   ]
  },
  {
   "cell_type": "code",
   "execution_count": 1329,
   "id": "c2ea33a7-f921-44eb-bd77-7711e0b68d75",
   "metadata": {
    "tags": []
   },
   "outputs": [],
   "source": [
    "q=127\n",
    "R=1/2\n",
    "w=lowerbound(q,R).x\n",
    "\n",
    "Lund=[]\n",
    "Lund2=[]\n",
    "Lnw=[]\n",
    "Lnwh=[]\n",
    "for i in range(1,100):\n",
    "    w=i/100\n",
    "    Nw = max(0,binomH(1,w)+log2(q-1)*w-log2(q)*(1-R))\n",
    "    T=max(binomH(1,w)-binomH(1-R,w)-Nw,0)+Nw/2\n",
    "    T2=max(binomH(1,w)-binomH(1-R,w)-Nw/2,Nw)\n",
    "    Lund.append([w,T])\n",
    "    Lund2.append([w,T2])\n",
    "    Lnw.append([w,Nw])\n",
    "    Lnwh.append([w,Nw/2])"
   ]
  },
  {
   "cell_type": "code",
   "execution_count": 1330,
   "id": "a393946d-a7ed-4df3-a10b-ad4d6da7c78e",
   "metadata": {
    "tags": []
   },
   "outputs": [
    {
     "data": {
      "image/png": "[encoded data removed]",
      "text/plain": [
       "<Figure size 640x480 with 1 Axes>"
      ]
     },
     "metadata": {},
     "output_type": "display_data"
    }
   ],
   "source": [
    "plot([Lund,Lund2,Lnw,Lnwh],[\"1\",\"2\",\"Nw\",\"Nw/2\"])"
   ]
  },
  {
   "cell_type": "code",
   "execution_count": 400,
   "id": "51120ce4-2707-4635-8982-a3b69722cc0c",
   "metadata": {
    "tags": []
   },
   "outputs": [],
   "source": [
    "Llow_test=[]\n",
    "Lnew_test=[]\n",
    "Lreal_test=[]\n",
    "for i in range(5,550,2):\n",
    "    Llow_test.append([i,lowerbound_2(i,1/2)*252+11])\n",
    "    Lnew_test.append([i,compl_new(i,1/2)*252])\n",
    "    Lreal_test.append([i,compl_new_real(1/2,1/2)*n])"
   ]
  },
  {
   "cell_type": "markdown",
   "id": "2a428d9e-b472-4550-85bd-d500a709b5b6",
   "metadata": {},
   "source": [
    "### Plot Concrete Complexities"
   ]
  },
  {
   "cell_type": "code",
   "execution_count": 412,
   "id": "92c612fd-0a7b-45bb-b720-d2050e5d2b31",
   "metadata": {
    "tags": []
   },
   "outputs": [
    {
     "data": {
      "text/plain": [
       "(0.5576725646243317, 0.6189116227315095)"
      ]
     },
     "execution_count": 412,
     "metadata": {},
     "output_type": "execute_result"
    }
   ],
   "source": [
    "lowerbound_2(2**15,1/2),compl_new(2**15,1/2)"
   ]
  },
  {
   "cell_type": "code",
   "execution_count": 1147,
   "id": "ea7f656d-0a2b-42bd-9e94-8ffca6616054",
   "metadata": {
    "tags": []
   },
   "outputs": [
    {
     "data": {
      "text/plain": [
       "0.36511313601018225"
      ]
     },
     "execution_count": 1147,
     "metadata": {},
     "output_type": "execute_result"
    }
   ],
   "source": [
    "Hqi(1-1/2,127)"
   ]
  },
  {
   "cell_type": "code",
   "execution_count": 391,
   "id": "b6644d1b-b5b5-4d1c-b8ac-c97da4a18985",
   "metadata": {
    "tags": []
   },
   "outputs": [],
   "source": [
    "Lnew=[]\n",
    "Llow1=[]\n",
    "Llow0=[]\n",
    "Lbeu=[]\n",
    "Lleo=[]\n",
    "Lbbps=[]\n",
    "Lcf=[]\n",
    "\n",
    "n=252\n",
    "k=126\n",
    "\n",
    "for i in range(5,250,2):\n",
    "    new = time_new(n,k,i,verbose=0,lowerbound=-1)\n",
    "    low0 = time_new(n,k,i,verbose=0,lowerbound=0)\n",
    "    low1 = time_new(n,k,i,verbose=0,lowerbound=1)\n",
    "    Lnew.append([i,new])\n",
    "    Llow0.append([i,low0])\n",
    "    Llow1.append([i,low1])\n",
    "    \n",
    "    # A=LEEstimator(n,k,i)\n",
    "    # beu = A.beullens.time_complexity()\n",
    "    # leo = A.leon.time_complexity()\n",
    "    # bbps = A.bbps.time_complexity()\n",
    "    # Lbeu.append([i,beu])\n",
    "    # Lleo.append([i,leo])\n",
    "    # Lbbps.append([i,bbps])\n",
    "    \n",
    "    cf = cf_mitm_concrete(n,k,i)\n",
    "    Lcf.append([i,cf])"
   ]
  },
  {
   "cell_type": "code",
   "execution_count": 1151,
   "id": "9a48ec0a-74a8-42c1-b32b-973b361292a1",
   "metadata": {
    "tags": []
   },
   "outputs": [
    {
     "data": {
      "text/plain": [
       "1.0"
      ]
     },
     "execution_count": 1151,
     "metadata": {},
     "output_type": "execute_result"
    }
   ],
   "source": [
    "H(2,1/2)"
   ]
  },
  {
   "cell_type": "code",
   "execution_count": 1185,
   "id": "49e24606-a2e0-4af9-9036-996d2e4282c8",
   "metadata": {
    "tags": []
   },
   "outputs": [],
   "source": [
    "n=1000\n"
   ]
  },
  {
   "cell_type": "code",
   "execution_count": 1257,
   "id": "0ffb4fa9-3987-427d-8a89-358d771ac18c",
   "metadata": {
    "tags": []
   },
   "outputs": [],
   "source": [
    "n=2000"
   ]
  },
  {
   "cell_type": "code",
   "execution_count": 1218,
   "id": "0023d6d2-ca85-4fd4-a11b-dce21b961a55",
   "metadata": {
    "tags": []
   },
   "outputs": [
    {
     "data": {
      "text/plain": [
       "2100.4509260273767"
      ]
     },
     "execution_count": 1218,
     "metadata": {},
     "output_type": "execute_result"
    }
   ],
   "source": [
    "time_new(4000,2000,1200, verbose=0)"
   ]
  },
  {
   "cell_type": "code",
   "execution_count": 1219,
   "id": "348cf011-ee2e-4611-a5c0-e12175e116d5",
   "metadata": {
    "tags": []
   },
   "outputs": [
    {
     "data": {
      "text/plain": [
       "0.525"
      ]
     },
     "execution_count": 1219,
     "metadata": {},
     "output_type": "execute_result"
    }
   ],
   "source": [
    "2100/4000"
   ]
  },
  {
   "cell_type": "code",
   "execution_count": 1220,
   "id": "99831220-a279-4b30-ad80-7a386088b2c0",
   "metadata": {
    "tags": []
   },
   "outputs": [
    {
     "data": {
      "text/plain": [
       "[0.5, 0.5127745724769358]"
      ]
     },
     "execution_count": 1220,
     "metadata": {},
     "output_type": "execute_result"
    }
   ],
   "source": [
    "concrete[-1]"
   ]
  },
  {
   "cell_type": "code",
   "execution_count": 1289,
   "id": "a5ae5ccb-3258-4593-9d2b-5b6f2207654c",
   "metadata": {
    "tags": []
   },
   "outputs": [],
   "source": [
    "n=400"
   ]
  },
  {
   "cell_type": "code",
   "execution_count": 1518,
   "id": "b0eb222c-3b2b-4025-8434-a1546445a104",
   "metadata": {
    "tags": []
   },
   "outputs": [],
   "source": [
    "def constraint_opt_real(w,q,k,cq):\n",
    "    \"\"\"\n",
    "    optimal w satisfies constraint_opt(w,q,k)=0 (balances factors 2*Nw and ISD)\n",
    "    \"\"\"\n",
    "    beta = (1-R)**2/(cq*math.e)\n",
    "    \n",
    "    Nw = binomH(1,w)+log2(q-1)*w-log2(q)*(1-R)\n",
    "    ISD = binomH(1,w)-binomH(1-R,w)-Nw/2\n",
    "    return ISD-(max(Nw,2*Nw+min(0,log2(beta)*(1-R)**2)/5))\n",
    "\n",
    "def compl_new_real(R,q,cq):\n",
    "    \"\"\"\n",
    "    Asymptotic complexity of Algorithm 4\n",
    "    \"\"\"\n",
    "    cq=1/2\n",
    "    beta = (1-R)**2/(cq*math.e)\n",
    "    \n",
    "    w= max(Hqi(1-R,q),fsolve(lambda x:constraint_opt_real(x[0],q,R,cq),0.0000001)[0])\n",
    "    Nw = binomH(1,w)+log2(q-1)*w-log2(q)*(1-R)\n",
    "    ISD = binomH(1,w)-binomH(1-R,w)-Nw/2\n",
    "    return max(ISD,2*Nw+min(0,log2(beta)*(1-R)**2)/5,Nw)"
   ]
  },
  {
   "cell_type": "markdown",
   "id": "16a5b5ee-f622-4392-b65f-069d4c22f798",
   "metadata": {},
   "source": [
    "### permutation eq"
   ]
  },
  {
   "cell_type": "code",
   "execution_count": null,
   "id": "3afc06b4-eb0f-4498-a8f0-9f7d48726983",
   "metadata": {},
   "outputs": [],
   "source": [
    "def constraint_opt_real(w,q,k,cq):\n",
    "    \"\"\"\n",
    "    optimal w satisfies constraint_opt(w,q,k)=0 (balances factors 2*Nw and ISD)\n",
    "    \"\"\"\n",
    "    beta = (1-R)**2/(cq*math.e)\n",
    "    \n",
    "    Nw = binomH(1,w)+log2(q-1)*w-log2(q)*(1-R)\n",
    "    ISD = binomH(1,w)-binomH(1-R,w)-Nw/2\n",
    "    return ISD-(max(Nw,2*Nw+min(0,log2(beta)*(1-R)**2)/5))\n",
    "\n",
    "def compl_perm(R,q,cq):\n",
    "    \"\"\"\n",
    "    Asymptotic complexity of Algorithm 4\n",
    "    \"\"\"\n",
    "    cq=1/2\n",
    "    beta = (1-R)**2/(cq*math.e)\n",
    "    \n",
    "    w= 1-R\n",
    "    Nw = binomH(1,w)+log2(q-1)*w-log2(q)*(1-R)\n",
    "    ISD = binomH(1,w)-binomH(1-R,w)-Nw/2\n",
    "    return max(ISD,2*Nw+min(0,log2(beta)*(1-R)**2)/5,Nw)"
   ]
  },
  {
   "cell_type": "code",
   "execution_count": null,
   "id": "1583569c-fdfa-479f-850a-ad524036a98e",
   "metadata": {},
   "outputs": [],
   "source": []
  },
  {
   "cell_type": "code",
   "execution_count": null,
   "id": "ea47ffbe-83f8-44f9-893a-d66410ebe11c",
   "metadata": {},
   "outputs": [],
   "source": []
  },
  {
   "cell_type": "code",
   "execution_count": null,
   "id": "22cdd8c9-0c33-4905-bc3d-56f3fb23606f",
   "metadata": {},
   "outputs": [],
   "source": []
  },
  {
   "cell_type": "code",
   "execution_count": 1522,
   "id": "b5db7bac-f631-4585-88f5-1fa1162a690c",
   "metadata": {
    "tags": []
   },
   "outputs": [
    {
     "data": {
      "text/plain": [
       "0.4806202156136856"
      ]
     },
     "execution_count": 1522,
     "metadata": {},
     "output_type": "execute_result"
    }
   ],
   "source": [
    "compl_new(127,1/2)"
   ]
  },
  {
   "cell_type": "code",
   "execution_count": 1520,
   "id": "49a4fbda-4bc7-44cc-98e1-fbf80d14c548",
   "metadata": {
    "tags": []
   },
   "outputs": [
    {
     "data": {
      "text/plain": [
       "0.47168570098544316"
      ]
     },
     "execution_count": 1520,
     "metadata": {},
     "output_type": "execute_result"
    }
   ],
   "source": [
    "compl_new_real(1/2,127,0.000000001)"
   ]
  },
  {
   "cell_type": "code",
   "execution_count": 1519,
   "id": "2a5eb09b-59ff-49f8-82b2-a8e87313d3b9",
   "metadata": {
    "tags": []
   },
   "outputs": [
    {
     "data": {
      "text/plain": [
       "0.47168570098544316"
      ]
     },
     "execution_count": 1519,
     "metadata": {},
     "output_type": "execute_result"
    }
   ],
   "source": [
    "compl_new_real(1/2,127,1/2)"
   ]
  },
  {
   "cell_type": "code",
   "execution_count": 1293,
   "id": "34eb9fab-a9b2-4503-91ef-513a6473e652",
   "metadata": {
    "tags": []
   },
   "outputs": [],
   "source": [
    "import math\n",
    "Leon=[]\n",
    "CF=[]\n",
    "bound_up=[]\n",
    "bound_low=[]\n",
    "asym=[]\n",
    "concrete=[]\n",
    "test=[]\n",
    "cq=200/400\n",
    "for i in range(1,2000):\n",
    "    R=50/100\n",
    "    k=int(n*R)\n",
    "    q=int(n*cq)\n",
    "    # print(n,k,q)\n",
    "    T= time_new(n,k,q,verbose=0)\n",
    "    concrete.append([R,T/n])\n",
    "    beta = (1-R)**2/(cq*math.e)\n",
    "    Leon.append([R,H(2,1-R)])\n",
    "    CF.append([R,H(2,1-R)/2])\n",
    "    bound_up.append([R,H(2,1-R)/5*4])\n",
    "    bound_low.append([R,H(2,1-R)/3*2])\n",
    "    test.append([R,lowerbound_2(q,1-R)])\n",
    "    asym.append([R,max(H(2,1-R)/5*4+min(0,log2(beta)*(1-R)**2)/5,H(2,1-R)*2/3)])"
   ]
  },
  {
   "cell_type": "code",
   "execution_count": null,
   "id": "7f45434f-8469-4eb8-94b4-ab7e8de75f53",
   "metadata": {},
   "outputs": [],
   "source": [
    "max(H(2,1-R)/5*4+min(0,log2(beta)*(1-R)**2)/5,H(2,1-R)*2/3)"
   ]
  },
  {
   "cell_type": "code",
   "execution_count": 1291,
   "id": "ce7ef929-2fab-42d9-a8d1-08ddbb80074a",
   "metadata": {
    "tags": []
   },
   "outputs": [
    {
     "data": {
      "image/png": "[encoded data removed]",
      "text/plain": [
       "<Figure size 640x480 with 1 Axes>"
      ]
     },
     "metadata": {},
     "output_type": "display_data"
    }
   ],
   "source": [
    "plot([Leon,CF,bound_up,bound_low,asym,concrete],[\"Leon\",\"CF\",\"up\",\"low\",\"asym\",\"concrete\", \"test\"])"
   ]
  },
  {
   "cell_type": "code",
   "execution_count": 1402,
   "id": "475771b1-f207-44db-bf61-044211c582cc",
   "metadata": {
    "tags": []
   },
   "outputs": [
    {
     "data": {
      "text/plain": [
       "1112.9561013254104"
      ]
     },
     "execution_count": 1402,
     "metadata": {},
     "output_type": "execute_result"
    }
   ],
   "source": [
    "n=2156\n",
    "k=n//2\n",
    "q=n//2\n",
    "cf_mitm_concrete(n,k,q)"
   ]
  },
  {
   "cell_type": "code",
   "execution_count": 1403,
   "id": "6ee80c9e-9f02-4240-9e9f-40a78603c372",
   "metadata": {
    "tags": []
   },
   "outputs": [
    {
     "name": "stdout",
     "output_type": "stream",
     "text": [
      "1112.9643667677467 (1111.554933244487, 1112.9643667677467) 975\n",
      "(1096.981819562894, 1093.9571221203485, -1197.3039580805967, 990.6102861601003)\n"
     ]
    },
    {
     "data": {
      "text/plain": [
       "1112.9643667677467"
      ]
     },
     "execution_count": 1403,
     "metadata": {},
     "output_type": "execute_result"
    }
   ],
   "source": [
    "time_new(n,k,q)"
   ]
  },
  {
   "cell_type": "code",
   "execution_count": 1292,
   "id": "9859aec1-5043-4d5c-b8da-31d770532ca3",
   "metadata": {
    "tags": []
   },
   "outputs": [
    {
     "name": "stdout",
     "output_type": "stream",
     "text": [
      "Leon CF up low asym\n",
      "0.01 0.08079313589591124 0.04039656794795562 0.06463450871672899 0.053862090597274155 0.11822061568168639\n",
      "0.02 0.14144054254182076 0.07072027127091038 0.11315243403345661 0.0942936950278805 0.14072468197345617\n",
      "0.03 0.1943918578315763 0.09719592891578815 0.15551348626526104 0.12959457188771753 0.15559066339099106\n",
      "0.04 0.24229218908241493 0.12114609454120746 0.19383375126593194 0.1615281260549433 0.17053027024364115\n",
      "0.05 0.2863969571159563 0.14319847855797815 0.22911756569276504 0.19093130474397088 0.1794270453813606\n",
      "0.06 0.32744491915447643 0.16372245957723822 0.26195593532358113 0.21829661276965096 0.2026125766241252\n",
      "0.07 0.36592365090022344 0.18296182545011172 0.29273892072017876 0.24394910060014896 0.21781862214543232\n",
      "0.08 0.4021791902022728 0.2010895951011364 0.3217433521618182 0.2681194601348485 0.2376650969723095\n",
      "0.09 0.4364698170641028 0.2182349085320514 0.34917585365128223 0.29097987804273523 0.24924415624371007\n",
      "0.1 0.46899559358928117 0.23449779679464058 0.37519647487142493 0.3126637290595208 0.26835075732052477\n",
      "0.11 0.499915958164528 0.249957979082264 0.3999327665316224 0.33327730544301865 0.28119771376378494\n",
      "0.12 0.5293608652873644 0.2646804326436822 0.4234886922298915 0.3529072435249096 0.29576624728082884\n",
      "0.13 0.5574381850279891 0.27871909251399457 0.4459505480223913 0.3716254566853261 0.30675297036253835\n",
      "0.14 0.584238811642856 0.292119405821428 0.46739104931428477 0.3894925410952373 0.32187402475406607\n",
      "0.15 0.6098403047164005 0.30492015235820025 0.4878722437731204 0.406560203144267 0.33038985615338406\n",
      "0.16 0.6343095546405662 0.3171547773202831 0.5074476437124529 0.4228730364270441 0.3454927882828397\n",
      "0.17 0.6577047787442195 0.32885238937210975 0.5261638229953756 0.43846985249614634 0.3532698040367426\n",
      "0.18 0.6800770457282798 0.3400385228641399 0.5440616365826239 0.4533846971521865 0.3650094420172641\n",
      "0.19 0.7014714598838974 0.3507357299419487 0.5611771679071179 0.4676476399225982 0.3679114623453096\n",
      "0.2 0.7219280948873623 0.36096404744368116 0.5775424759098898 0.4812853965915749 0.3776823683471419\n",
      "0.21 0.7414827399312736 0.3707413699656368 0.5931861919450189 0.49432182662084906 0.3840625982825943\n",
      "0.22 0.7601675029619657 0.38008375148098283 0.6081340023695725 0.5067783353079771 0.3972289631668273\n",
      "0.23 0.7780113035465376 0.3890056517732688 0.6224090428372301 0.5186742023643583 0.403014012334431\n",
      "0.24 0.7950402793845223 0.39752013969226113 0.6360322235076178 0.5300268529230149 0.4111568753192911\n",
      "0.25 0.8112781244591328 0.4056390622295664 0.6490224995673063 0.5408520829727552 0.41961705584283904\n",
      "0.26 0.8267463724926178 0.4133731862463089 0.6613970979940943 0.5511642483284119 0.4251007344970491\n",
      "0.27 0.8414646362081757 0.42073231810408784 0.6731717089665405 0.5609764241387838 0.432713835621768\n",
      "0.28 0.8554508105601307 0.42772540528006536 0.6843606484481046 0.5703005403734205 0.4394356035658371\n",
      "0.29 0.8687212463394046 0.4343606231697023 0.6949769970715237 0.579147497559603 0.447151175241907\n",
      "0.3 0.8812908992306927 0.44064544961534635 0.7050327193845541 0.5875272661537951 0.4511062757056512\n",
      "0.31 0.8931734583778568 0.4465867291889284 0.7145387667022854 0.5954489722519045 0.45711838817916695\n",
      "0.32 0.904381457724494 0.452190728862247 0.7235051661795951 0.6029209718163293 0.4606052323916837\n",
      "0.33 0.9149263727797277 0.45746318638986383 0.7319410982237822 0.6099509151864851 0.4665093889553749\n",
      "0.34 0.9248187049730301 0.46240935248651505 0.7398549639784241 0.6165458033153534 0.4695352085603657\n",
      "0.35 0.934068055375491 0.4670340276877455 0.7472544443003928 0.622712036916994 0.47419367094869685\n",
      "0.36 0.9426831892554922 0.4713415946277461 0.7541465514043938 0.6284554595036614 0.4772665967663544\n",
      "0.37 0.9506720926870659 0.47533604634353294 0.7605376741496527 0.6337813951247105 0.48129452253671695\n",
      "0.38 0.9580420222262995 0.47902101111314976 0.7664336177810396 0.6386946814841997 0.48390721820308397\n",
      "0.39 0.9647995485050872 0.4823997742525436 0.7718396388040698 0.6431996990033915 0.4870147509432116\n",
      "0.4 0.9709505944546686 0.4854752972273343 0.7767604755637348 0.6473003963031124 0.488994334659382\n",
      "0.41 0.9765004687578239 0.48825023437891196 0.7812003750062592 0.651000312505216 0.4918730206574103\n",
      "0.42 0.9814538950336535 0.4907269475168268 0.7851631160269228 0.6543025966891024 0.49342638212365314\n",
      "0.43 0.9858150371789198 0.4929075185894599 0.7886520297431359 0.6572100247859466 0.4952257729616759\n",
      "0.44 0.9895875212220557 0.49479376061102787 0.7916700169776446 0.6597250141480372 0.4963790190798415\n",
      "0.45 0.9927744539878084 0.4963872269939042 0.7942195631902467 0.6618496359918723 0.5013985485007681\n",
      "0.46 0.9953784388202258 0.4976892194101129 0.7963027510561806 0.6635856258801506 0.5021213046428635\n",
      "0.47 0.9974015885677396 0.4987007942838698 0.7979212708541917 0.664934392378493 0.5027077110811097\n",
      "0.48 0.9988455359952018 0.4994227679976009 0.7990764287961614 0.6658970239968012 0.5030356097711833\n",
      "0.49 0.9997114417528099 0.49985572087640495 0.799769153402248 0.6664742945018732 0.5038679498501503\n",
      "0.5 1.0 0.5 0.8 0.6666666666666666 0.5034925255767471\n"
     ]
    }
   ],
   "source": [
    "print(\"Leon CF up low asym\")\n",
    "for i in range(len(CF)):\n",
    "    print(CF[i][0], Leon[i][1], CF[i][1], bound_up[i][1], bound_low[i][1],concrete[i][1])"
   ]
  },
  {
   "cell_type": "code",
   "execution_count": null,
   "id": "1142bdf6-9188-46ad-88fa-d9eadebe682e",
   "metadata": {
    "tags": []
   },
   "outputs": [],
   "source": [
    "Lbeu= [[j[0],j[1]] for j in Lbeu if j[1]!=inf]\n",
    "Lbbps= [[j[0],j[1]] for j in Lbbps if j[1]!=inf]"
   ]
  },
  {
   "cell_type": "code",
   "execution_count": 405,
   "id": "a5463d01-0f33-4d6d-98dd-0f16b58f035a",
   "metadata": {
    "tags": []
   },
   "outputs": [
    {
     "data": {
      "image/png": "[encoded data removed]",
      "text/plain": [
       "<Figure size 640x480 with 1 Axes>"
      ]
     },
     "metadata": {},
     "output_type": "display_data"
    }
   ],
   "source": [
    "import matplotlib.pyplot as plt\n",
    "def plot(L,label_list):\n",
    "    \"\"\"\n",
    "    function to plot list of lists of the form L=[L1,L2,...] with Li=[[x1,y1],[x2,y2],...]\n",
    "    \"\"\"\n",
    "    c=0\n",
    "    for Li in L:\n",
    "        x,y=zip(*Li)\n",
    "        plt.scatter(x,y, label=label_list[c],s=1)\n",
    "        c+=1\n",
    "    plt.legend(bbox_to_anchor=(1.05, 1), loc='upper left')\n",
    "    \n",
    "plot([Lnew,Llow1,Llow0,Llow_test,Lnew_test,Lreal_test],[\"New\",\"Lowerbound\", \"Semi-Lowerbound\",\"Leon\",\"Beullens\",\"BBPS\",\"CFMITM\"])"
   ]
  },
  {
   "cell_type": "code",
   "execution_count": 1142,
   "id": "b8268dc2-73cb-45a2-984e-4de0aa77b867",
   "metadata": {
    "tags": []
   },
   "outputs": [
    {
     "data": {
      "text/plain": [
       "[[3.0, 0.2896084835200985],\n",
       " [4.0, 0.35327092546885375],\n",
       " [5.0, 0.40482376008104703],\n",
       " [6.0, 0.4467038357667503],\n",
       " [7.0, 0.4809719024549598],\n",
       " [8.0, 0.5092861668041753],\n",
       " [9.0, 0.5329405482644376],\n",
       " [10.0, 0.5529278363864076],\n",
       " [11.0, 0.570004584506006],\n",
       " [12.0, 0.5847474366518948],\n",
       " [13.0, 0.5975980821940047],\n",
       " [14.0, 0.6088975324597744],\n",
       " [15.0, 0.6189116227315095],\n",
       " [16.0, 0.6278497671492038],\n",
       " [17.0, 0.6358787059325063],\n",
       " [18.0, 0.6431326029157741],\n",
       " [19.0, 0.6497205036319141],\n",
       " [20.0, 0.6557318865973287],\n",
       " [21.0, 0.6612408326005476],\n",
       " [22.0, 0.6663091862958915],\n",
       " [23.0, 0.6709889772973241],\n",
       " [24.0, 0.6753242923244178],\n",
       " [25.0, 0.6793527366118151],\n",
       " [26.0, 0.6831065850876077],\n",
       " [27.0, 0.6866136970368328],\n",
       " [28.0, 0.6898982488040658],\n",
       " [29.0, 0.6929813252751169],\n",
       " [30.0, 0.6958814008353367],\n",
       " [31.0, 0.698614733137944],\n",
       " [32.0, 0.701195687568423],\n",
       " [33.0, 0.7036370062266267],\n",
       " [34.0, 0.7059500321903869],\n",
       " [35.0, 0.7081448975047522],\n",
       " [36.0, 0.7102306815680048],\n",
       " [37.0, 0.7122155452195502],\n",
       " [38.0, 0.7141068447757775],\n",
       " [39.0, 0.7159112294322466],\n",
       " [40.0, 0.7176347248002519],\n",
       " [41.0, 0.7192828048312823],\n",
       " [42.0, 0.720860453973562],\n",
       " [43.0, 0.7223722210771797],\n",
       " [44.0, 0.7238222663009017],\n",
       " [45.0, 0.7252144020606508],\n",
       " [46.0, 0.7265521288863397],\n",
       " [47.0, 0.7278386669126207],\n",
       " [48.0, 0.7290769836130124],\n",
       " [49.0, 0.7302698182913332],\n",
       " [50.0, 0.731419703765632],\n",
       " [51.0, 0.7325289856140458],\n",
       " [52.0, 0.7335998392973546],\n",
       " [53.0, 0.7346342854275818],\n",
       " [54.0, 0.7356342034131028],\n",
       " [55.0, 0.7366013436790726],\n",
       " [56.0, 0.7375373386340058],\n",
       " [57.0, 0.7384437125307204],\n",
       " [58.0, 0.7393218903498827],\n",
       " [59.0, 0.7401732058177334],\n",
       " [60.0, 0.7409989086551618],\n",
       " [61.0, 0.7418001711430691],\n",
       " [62.0, 0.7425780940783095],\n",
       " [63.0, 0.7433337121854449],\n",
       " [64.0, 0.7440679990416328],\n",
       " [65.0, 0.7447818715651948],\n",
       " [66.0, 0.7454761941124133],\n",
       " [67.0, 0.746151782222114],\n",
       " [68.0, 0.7468094060428175],\n",
       " [69.0, 0.7474497934738054],\n",
       " [70.0, 0.7480736330473263],\n",
       " [71.0, 0.7486815765768711],\n",
       " [72.0, 0.7492742415933421],\n",
       " [73.0, 0.7498522135887669],\n",
       " [74.0, 0.7504160480850303],\n",
       " [75.0, 0.7509662725436073],\n",
       " [76.0, 0.7515033881301965],\n",
       " [77.0, 0.7520278713472095],\n",
       " [78.0, 0.7525401755453771],\n",
       " [79.0, 0.7530407323249761],\n",
       " [80.0, 0.7535299528359061],\n",
       " [81.0, 0.7540082289851364],\n",
       " [82.0, 0.7544759345590741],\n",
       " [83.0, 0.7549334262678995],\n",
       " [84.0, 0.7553810447180638],\n",
       " [85.0, 0.7558191153186868],\n",
       " [86.0, 0.7562479491271716],\n",
       " [87.0, 0.7566678436384784],\n",
       " [88.0, 0.7570790835228037],\n",
       " [89.0, 0.7574819413151772],\n",
       " [90.0, 0.7578766780608682],\n",
       " [91.0, 0.7582635439198302],\n",
       " [92.0, 0.7586427787330763],\n",
       " [93.0, 0.7590146125539405],\n",
       " [94.0, 0.7593792661466381],\n",
       " [95.0, 0.7597369514544567],\n",
       " [96.0, 0.7600878720398043],\n",
       " [97.0, 0.7604322234979719],\n",
       " [98.0, 0.7607701938465539],\n",
       " [99.0, 0.7611019638919988],\n",
       " [100.0, 0.761427707575109],\n",
       " [101.0, 0.7617475922966461],\n",
       " [102.0, 0.762061779224525]]"
      ]
     },
     "execution_count": 1142,
     "metadata": {},
     "output_type": "execute_result"
    }
   ],
   "source": [
    "Lnew"
   ]
  },
  {
   "cell_type": "code",
   "execution_count": 385,
   "id": "1644d117-5e98-4e29-a069-056b47d07604",
   "metadata": {
    "tags": []
   },
   "outputs": [
    {
     "data": {
      "image/png": "[encoded data removed]",
      "text/plain": [
       "<Figure size 640x480 with 1 Axes>"
      ]
     },
     "metadata": {},
     "output_type": "display_data"
    }
   ],
   "source": [
    "plot([Lnew[:70],Llow1[:70],Llow0[:70],Llow_test[:70],Lnew_test[:70]],[\"New\",\"Lowerbound\", \"Semi-Lowerbound\",\"TestLow\",\"TestNew\",\"BBPS\",\"CFMITM\"])"
   ]
  },
  {
   "cell_type": "code",
   "execution_count": null,
   "id": "a652098e-c8a2-4cf0-8bc1-2c6307958815",
   "metadata": {
    "tags": []
   },
   "outputs": [],
   "source": [
    "params=[[7313,27,13],[11000,26,16],[20250,37,18],[29688,48,19]]\n",
    "\n",
    "for i in params:\n",
    "    n,k,lq=i\n",
    "    q=2**lq\n",
    "    # t1=time_new(n,k,q)\n",
    "    t1=1000000\n",
    "    t2=time_new(n,n-k,q,verbose=0)\n",
    "    print(i,int(round(min(t1,t2))),int(round(cf_mitm_concrete(n,k,q))))"
   ]
  },
  {
   "cell_type": "code",
   "execution_count": 71,
   "id": "9c31d092-3d3e-4386-a890-b814171dddea",
   "metadata": {},
   "outputs": [
    {
     "data": {
      "text/plain": [
       "729"
      ]
     },
     "execution_count": 71,
     "metadata": {},
     "output_type": "execute_result"
    }
   ],
   "source": [
    "27**2"
   ]
  },
  {
   "cell_type": "code",
   "execution_count": 134,
   "id": "9a61af65-9c09-4c19-a9e8-c946d7419dd4",
   "metadata": {},
   "outputs": [
    {
     "name": "stdout",
     "output_type": "stream",
     "text": [
      "190.0224265677486 (190.0224265677486, 121.6702330161985, 176.01696355806087, 0, 176.01696355806087) 33\n"
     ]
    },
    {
     "data": {
      "text/plain": [
       "190.0224265677486"
      ]
     },
     "execution_count": 134,
     "metadata": {},
     "output_type": "execute_result"
    }
   ],
   "source": [
    "time_perm(20250,20250-37, 2**18,verbose=1)"
   ]
  },
  {
   "cell_type": "code",
   "execution_count": 136,
   "id": "4fdf5ffe-4290-41f2-955e-ad6c753d085f",
   "metadata": {
    "tags": []
   },
   "outputs": [
    {
     "data": {
      "text/plain": [
       "(127.01205707712512, 116.44969285629563)"
      ]
     },
     "execution_count": 136,
     "metadata": {},
     "output_type": "execute_result"
    }
   ],
   "source": [
    "time_new(252,126, 127,verbose=0),time_perm(252,126, 127,verbose=0)"
   ]
  },
  {
   "cell_type": "code",
   "execution_count": 44,
   "id": "cb82cd99-08a6-4e71-ad65-65245639fbfb",
   "metadata": {
    "tags": []
   },
   "outputs": [],
   "source": [
    "n,k,q=(7313,27,2**13)"
   ]
  },
  {
   "cell_type": "code",
   "execution_count": null,
   "id": "239ff1e2-1245-4b9b-b678-dcd56b8e716f",
   "metadata": {},
   "outputs": [],
   "source": []
  },
  {
   "cell_type": "code",
   "execution_count": 99,
   "id": "8c068727-1370-40de-8c71-6647bb821673",
   "metadata": {
    "tags": []
   },
   "outputs": [
    {
     "data": {
      "text/plain": [
       "110914.6388748509"
      ]
     },
     "execution_count": 99,
     "metadata": {},
     "output_type": "execute_result"
    }
   ],
   "source": [
    "from math import log2,log\n",
    "\n",
    "k=32\n",
    "q=2\n",
    "tau=0.4999\n",
    "p=1\n",
    "(k*log2(q)+log2(p))/log2(q*(1-tau))"
   ]
  },
  {
   "cell_type": "code",
   "execution_count": 72,
   "id": "891bdcfe-b4dd-42f4-b094-0a096e95cb8c",
   "metadata": {
    "tags": []
   },
   "outputs": [
    {
     "data": {
      "text/plain": [
       "0.02856915219677092"
      ]
     },
     "execution_count": 72,
     "metadata": {},
     "output_type": "execute_result"
    }
   ],
   "source": [
    "log2(q*(1-tau))"
   ]
  },
  {
   "cell_type": "code",
   "execution_count": 73,
   "id": "fa498332-0186-4292-a70b-230c405f1690",
   "metadata": {
    "tags": []
   },
   "outputs": [
    {
     "data": {
      "text/plain": [
       "32.0"
      ]
     },
     "execution_count": 73,
     "metadata": {},
     "output_type": "execute_result"
    }
   ],
   "source": [
    "k*log2(q)"
   ]
  },
  {
   "cell_type": "code",
   "execution_count": 89,
   "id": "9a316d91-202a-47d0-b50a-261b3b879a77",
   "metadata": {
    "tags": []
   },
   "outputs": [
    {
     "data": {
      "text/plain": [
       "0.020000000000000018"
      ]
     },
     "execution_count": 89,
     "metadata": {},
     "output_type": "execute_result"
    }
   ],
   "source": [
    "(1-2*tau)"
   ]
  },
  {
   "cell_type": "code",
   "execution_count": 94,
   "id": "9d5f072d-1284-470e-9b80-333c30ffc0ec",
   "metadata": {
    "tags": []
   },
   "outputs": [
    {
     "data": {
      "text/plain": [
       "0.020000000000000018"
      ]
     },
     "execution_count": 94,
     "metadata": {},
     "output_type": "execute_result"
    }
   ],
   "source": [
    "(1-2*tau)"
   ]
  },
  {
   "cell_type": "code",
   "execution_count": 100,
   "id": "7e8ce881-2dcb-47a1-b7fd-237e5da0c638",
   "metadata": {
    "tags": []
   },
   "outputs": [
    {
     "data": {
      "text/plain": [
       "110903.54888960347"
      ]
     },
     "execution_count": 100,
     "metadata": {},
     "output_type": "execute_result"
    }
   ],
   "source": [
    "k*log(2)/(1-2*tau) "
   ]
  },
  {
   "cell_type": "code",
   "execution_count": 103,
   "id": "88ef26fa-2f63-4f51-aa0b-86a4048f92e4",
   "metadata": {
    "tags": []
   },
   "outputs": [
    {
     "data": {
      "text/plain": [
       "-9.965784284662087"
      ]
     },
     "execution_count": 103,
     "metadata": {},
     "output_type": "execute_result"
    }
   ],
   "source": [
    "log2(0.001)"
   ]
  },
  {
   "cell_type": "code",
   "execution_count": 83,
   "id": "11eb1d00-0c53-43cd-9dc5-99d8e101e959",
   "metadata": {
    "tags": []
   },
   "outputs": [],
   "source": [
    "tau=0.4"
   ]
  },
  {
   "cell_type": "code",
   "execution_count": 84,
   "id": "815298d2-12a4-401d-ac22-f17f3fa43eb6",
   "metadata": {
    "tags": []
   },
   "outputs": [
    {
     "data": {
      "text/plain": [
       "0.2630344058337938"
      ]
     },
     "execution_count": 84,
     "metadata": {},
     "output_type": "execute_result"
    }
   ],
   "source": [
    "log2(q*(1-tau))"
   ]
  },
  {
   "cell_type": "code",
   "execution_count": 76,
   "id": "bb716489-e985-4849-9351-923105b8221c",
   "metadata": {
    "tags": []
   },
   "outputs": [
    {
     "data": {
      "text/plain": [
       "-32.94109927882571"
      ]
     },
     "execution_count": 76,
     "metadata": {},
     "output_type": "execute_result"
    }
   ],
   "source": [
    "k/log2(1-tau)"
   ]
  },
  {
   "cell_type": "code",
   "execution_count": 46,
   "id": "f97a5321-0a87-4998-aad5-95a4153919b3",
   "metadata": {
    "tags": []
   },
   "outputs": [
    {
     "data": {
      "text/plain": [
       "156.43316069333443"
      ]
     },
     "execution_count": 46,
     "metadata": {},
     "output_type": "execute_result"
    }
   ],
   "source": [
    "cf_mitm_concrete(n,k,q)"
   ]
  },
  {
   "cell_type": "code",
   "execution_count": 6,
   "id": "74e97813-cd8c-4625-8494-d239aac5953b",
   "metadata": {
    "tags": []
   },
   "outputs": [],
   "source": [
    "n,k,q=252,126,30"
   ]
  },
  {
   "cell_type": "code",
   "execution_count": 7,
   "id": "af634c56-ff9c-4c59-910e-3aa3612077b6",
   "metadata": {
    "tags": []
   },
   "outputs": [
    {
     "name": "stdout",
     "output_type": "stream",
     "text": [
      "116.44969285629563 (116.44969285629563, 85.28627215463096, 88.95855764322776, 1.0073835731172949, 87.95117407011047) 117\n"
     ]
    },
    {
     "data": {
      "text/plain": [
       "116.44969285629563"
      ]
     },
     "execution_count": 7,
     "metadata": {},
     "output_type": "execute_result"
    }
   ],
   "source": [
    "time_perm(n,k,q)"
   ]
  },
  {
   "cell_type": "code",
   "execution_count": 4,
   "id": "95048c4e-12d6-436b-94ec-596de62c6619",
   "metadata": {
    "tags": []
   },
   "outputs": [],
   "source": [
    "n=252\n",
    "k=n//2\n",
    "q=n//2\n",
    "w=n-k\n",
    "Nw =log2(binom(n,w))+log2(q-1)*w-log2(q)*(n-k)"
   ]
  },
  {
   "cell_type": "code",
   "execution_count": 7,
   "id": "def246ae-10cd-4dd8-8316-078b0c521fbb",
   "metadata": {
    "tags": []
   },
   "outputs": [
    {
     "data": {
      "text/plain": [
       "94"
      ]
     },
     "execution_count": 7,
     "metadata": {},
     "output_type": "execute_result"
    }
   ],
   "source": [
    "gv_distance(n,k,q)"
   ]
  },
  {
   "cell_type": "code",
   "execution_count": 5,
   "id": "dac31893-85b4-41db-8a93-a89f56704cf0",
   "metadata": {
    "tags": []
   },
   "outputs": [
    {
     "data": {
      "text/plain": [
       "246.23573023862332"
      ]
     },
     "execution_count": 5,
     "metadata": {},
     "output_type": "execute_result"
    }
   ],
   "source": [
    "Nw"
   ]
  },
  {
   "cell_type": "code",
   "execution_count": 11,
   "id": "c43206c5-0e67-484e-bdbd-ea432ac3d320",
   "metadata": {
    "tags": []
   },
   "outputs": [
    {
     "data": {
      "text/plain": [
       "126"
      ]
     },
     "execution_count": 11,
     "metadata": {},
     "output_type": "execute_result"
    }
   ],
   "source": [
    "q\n"
   ]
  },
  {
   "cell_type": "code",
   "execution_count": 33,
   "id": "bdfdf87e-53f0-4a34-afdd-2753873a6693",
   "metadata": {
    "tags": []
   },
   "outputs": [
    {
     "ename": "KeyboardInterrupt",
     "evalue": "",
     "output_type": "error",
     "traceback": [
      "\u001b[0;31m---------------------------------------------------------------------------\u001b[0m",
      "\u001b[0;31mKeyboardInterrupt\u001b[0m                         Traceback (most recent call last)",
      "Cell \u001b[0;32mIn[33], line 4\u001b[0m\n\u001b[1;32m      2\u001b[0m k\u001b[38;5;241m=\u001b[39mn\u001b[38;5;241m/\u001b[39m\u001b[38;5;241m/\u001b[39m\u001b[38;5;241m2\u001b[39m\n\u001b[1;32m      3\u001b[0m q\u001b[38;5;241m=\u001b[39mn\n\u001b[0;32m----> 4\u001b[0m \u001b[43mgv_distance\u001b[49m\u001b[43m(\u001b[49m\u001b[43mn\u001b[49m\u001b[43m,\u001b[49m\u001b[43mk\u001b[49m\u001b[43m,\u001b[49m\u001b[43mq\u001b[49m\u001b[43m)\u001b[49m,n\u001b[38;5;241m-\u001b[39mk\n",
      "Cell \u001b[0;32mIn[1], line 12\u001b[0m, in \u001b[0;36mgv_distance\u001b[0;34m(n, k, q)\u001b[0m\n\u001b[1;32m     10\u001b[0m left_term \u001b[38;5;241m=\u001b[39m \u001b[38;5;241m0\u001b[39m\n\u001b[1;32m     11\u001b[0m \u001b[38;5;28;01mwhile\u001b[39;00m left_term \u001b[38;5;241m<\u001b[39m\u001b[38;5;241m=\u001b[39m right_term:\n\u001b[0;32m---> 12\u001b[0m     left_term \u001b[38;5;241m+\u001b[39m\u001b[38;5;241m=\u001b[39m \u001b[43mbinom\u001b[49m\u001b[43m(\u001b[49m\u001b[43mn\u001b[49m\u001b[43m,\u001b[49m\u001b[43md\u001b[49m\u001b[43m)\u001b[49m\u001b[38;5;241;43m*\u001b[39;49m\u001b[43m(\u001b[49m\u001b[43mq\u001b[49m\u001b[38;5;241;43m-\u001b[39;49m\u001b[38;5;241;43m1\u001b[39;49m\u001b[43m)\u001b[49m\u001b[38;5;241;43m*\u001b[39;49m\u001b[38;5;241;43m*\u001b[39;49m\u001b[43md\u001b[49m\n\u001b[1;32m     13\u001b[0m     d\u001b[38;5;241m+\u001b[39m\u001b[38;5;241m=\u001b[39m\u001b[38;5;241m1\u001b[39m\n\u001b[1;32m     15\u001b[0m \u001b[38;5;28;01mreturn\u001b[39;00m d\n",
      "\u001b[0;31mKeyboardInterrupt\u001b[0m: "
     ]
    }
   ],
   "source": [
    "n=100000\n",
    "k=n//2\n",
    "q=n\n",
    "gv_distance(n,k,q),n-k"
   ]
  },
  {
   "cell_type": "code",
   "execution_count": 12,
   "id": "bacb1b41-2651-4c3d-bc34-4679ddf5e0bb",
   "metadata": {
    "tags": []
   },
   "outputs": [],
   "source": [
    "R=1/2\n",
    "wn=94/n\n",
    "\n",
    "Nw = binomH(1,wn)+log2(q-1)*wn-log2(q)*(1-R)"
   ]
  },
  {
   "cell_type": "code",
   "execution_count": null,
   "id": "9e35d88f-205c-4b31-892e-3fbe1f983cdb",
   "metadata": {},
   "outputs": [],
   "source": []
  },
  {
   "cell_type": "code",
   "execution_count": 152,
   "id": "abad82da-26a9-43be-bd5e-f6a40a869be7",
   "metadata": {
    "tags": []
   },
   "outputs": [],
   "source": [
    "from math import e\n",
    "n=20\n",
    "q=127\n",
    "R=1/10\n",
    "w=Hqi(1-R,q)\n",
    "\n",
    "ell = w**2\n",
    "qc=0.5\n",
    "c=ell/qc\n"
   ]
  },
  {
   "cell_type": "code",
   "execution_count": 155,
   "id": "8e5116b5-c17f-453f-a2c5-120ef1dc075d",
   "metadata": {
    "tags": []
   },
   "outputs": [
    {
     "data": {
      "text/plain": [
       "0.7972071549055123"
      ]
     },
     "execution_count": 155,
     "metadata": {},
     "output_type": "execute_result"
    }
   ],
   "source": [
    "w"
   ]
  },
  {
   "cell_type": "code",
   "execution_count": 153,
   "id": "c54b5941-4717-4e88-b81d-76241e71480c",
   "metadata": {
    "tags": []
   },
   "outputs": [
    {
     "data": {
      "text/plain": [
       "True"
      ]
     },
     "execution_count": 153,
     "metadata": {},
     "output_type": "execute_result"
    }
   ],
   "source": [
    "ell*(c+1-e**(-c))>(ell+1-R-w)"
   ]
  },
  {
   "cell_type": "code",
   "execution_count": 154,
   "id": "fd9a2659-842d-40b4-bbfb-a0a07fb586a6",
   "metadata": {
    "tags": []
   },
   "outputs": [
    {
     "data": {
      "text/plain": [
       "0.945344978412628"
      ]
     },
     "execution_count": 154,
     "metadata": {},
     "output_type": "execute_result"
    }
   ],
   "source": [
    "# fsolve(ell*(ell/qc+1-e**(-ell/qc)))>(ell+1-R-w)\n",
    "fsolve(lambda x:ell*(ell/x[0]+1-e**(-ell/x[0]))-(ell+1-R-w),0.0000001)[0]"
   ]
  },
  {
   "cell_type": "code",
   "execution_count": 117,
   "id": "02c1fc72-a646-464e-8739-23e68426658d",
   "metadata": {
    "tags": []
   },
   "outputs": [
    {
     "data": {
      "text/plain": [
       "1.7225128798012541"
      ]
     },
     "execution_count": 117,
     "metadata": {},
     "output_type": "execute_result"
    }
   ],
   "source": [
    "(c+1-e**(-c))"
   ]
  },
  {
   "cell_type": "code",
   "execution_count": 119,
   "id": "3d43ca5d-c0d9-41c6-9b61-80b6934128f7",
   "metadata": {
    "tags": []
   },
   "outputs": [
    {
     "data": {
      "text/plain": [
       "0.234375"
      ]
     },
     "execution_count": 119,
     "metadata": {},
     "output_type": "execute_result"
    }
   ],
   "source": [
    "(n-k-w+1)/ell"
   ]
  },
  {
   "cell_type": "code",
   "execution_count": 116,
   "id": "c752e805-611f-430e-aac5-4298018b2c13",
   "metadata": {
    "tags": []
   },
   "outputs": [
    {
     "data": {
      "text/plain": [
       "True"
      ]
     },
     "execution_count": 116,
     "metadata": {},
     "output_type": "execute_result"
    }
   ],
   "source": [
    "ell*(c+1-e**(-c))>ell+n-k-w+1"
   ]
  },
  {
   "cell_type": "code",
   "execution_count": null,
   "id": "b93b2fdf-683d-4d7c-a654-7eff9ffc8e2c",
   "metadata": {},
   "outputs": [],
   "source": [
    "ℓ(c + 1 − e^(−c)) > ℓ+n−k−w+1 where c = ell/(q-1)"
   ]
  },
  {
   "cell_type": "code",
   "execution_count": null,
   "id": "f1af89ab-f398-4a56-b26a-f5fc743684b5",
   "metadata": {},
   "outputs": [],
   "source": [
    "ell = w^2/n\n"
   ]
  },
  {
   "cell_type": "code",
   "execution_count": 71,
   "id": "30c85538-3316-4c42-a303-ff26e5640343",
   "metadata": {
    "tags": []
   },
   "outputs": [],
   "source": [
    "w= Hqi(1/2,2**100)"
   ]
  },
  {
   "cell_type": "code",
   "execution_count": 72,
   "id": "81916cb1-8ae7-40d3-b866-d9287ecbab22",
   "metadata": {
    "tags": []
   },
   "outputs": [
    {
     "data": {
      "text/plain": [
       "0.49000288391824415"
      ]
     },
     "execution_count": 72,
     "metadata": {},
     "output_type": "execute_result"
    }
   ],
   "source": [
    "w"
   ]
  },
  {
   "cell_type": "code",
   "execution_count": 48,
   "id": "0234901b-1c04-4774-ab6c-dc875db7b7db",
   "metadata": {
    "tags": []
   },
   "outputs": [],
   "source": [
    "from math import sqrt"
   ]
  },
  {
   "cell_type": "code",
   "execution_count": 100,
   "id": "a972501a-78bd-40b0-ae6e-8b67310c9493",
   "metadata": {
    "tags": []
   },
   "outputs": [
    {
     "data": {
      "text/plain": [
       "(468, 1.5496704294455412)"
      ]
     },
     "execution_count": 100,
     "metadata": {},
     "output_type": "execute_result"
    }
   ],
   "source": [
    "n=1000\n",
    "gv_distance2(n,n//2,2**30)"
   ]
  },
  {
   "cell_type": "code",
   "execution_count": 74,
   "id": "4c0dc096-6aa4-4880-bd8a-24a3fd751d0e",
   "metadata": {
    "tags": []
   },
   "outputs": [],
   "source": [
    "def gv_distance2(n,k,q):\n",
    "    \"\"\"\n",
    "    Gilbert - Varshamov distance of a code over Fq, with length n and dimension k\n",
    "    \"\"\"\n",
    "    d = 1\n",
    "    right_term = q**(n-k)\n",
    "    left_term = 0\n",
    "    while left_term <= right_term:\n",
    "        left_term += binom(n,d)*(q-1)**d\n",
    "        d+=1\n",
    "\n",
    "    return d,log2(left_term)-log2(right_term)"
   ]
  },
  {
   "cell_type": "code",
   "execution_count": 63,
   "id": "5d4c470a-e3b2-4539-bccf-23665f9c1d49",
   "metadata": {
    "tags": []
   },
   "outputs": [],
   "source": [
    "Ltest=[]\n",
    "Lreal=[]\n",
    "Ltheory=[]\n",
    "Lasym=[]\n",
    "for n in range(500,10000,500):\n",
    "    k=n//10\n",
    "    R=k/n\n",
    "    q=int(sqrt(n))\n",
    "    w_real = gv_distance(n,k,q)\n",
    "    w_theory = Hqi(1-R,q)*n\n",
    "    w_asym = n-k\n",
    "    Lreal.append([n,w_real])\n",
    "    Ltheory.append([n,w_theory])\n",
    "    Lasym.append([n,w_asym])\n",
    "    Ltest.append([n,w_theory/w_asym])"
   ]
  },
  {
   "cell_type": "code",
   "execution_count": 64,
   "id": "a20453f0-3cfc-49d6-8e7e-ce06e9047ef9",
   "metadata": {
    "tags": []
   },
   "outputs": [
    {
     "name": "stderr",
     "output_type": "stream",
     "text": [
      "No artists with labels found to put in legend.  Note that artists whose label start with an underscore are ignored when legend() is called with no argument.\n"
     ]
    },
    {
     "data": {
      "image/png": "[encoded data removed]",
      "text/plain": [
       "<Figure size 640x480 with 1 Axes>"
      ]
     },
     "metadata": {},
     "output_type": "display_data"
    }
   ],
   "source": [
    "plot([Ltest],[\"\"])"
   ]
  },
  {
   "cell_type": "code",
   "execution_count": 60,
   "id": "5da2b4e3-08e2-4a2f-a9db-e6bb02ccd5e2",
   "metadata": {
    "tags": []
   },
   "outputs": [
    {
     "data": {
      "image/png": "[encoded data removed]",
      "text/plain": [
       "<Figure size 640x480 with 1 Axes>"
      ]
     },
     "metadata": {},
     "output_type": "display_data"
    }
   ],
   "source": [
    "plot([Lreal,Ltheory,Lasym],[\"real\",\"theory\",\"asym\"])"
   ]
  },
  {
   "cell_type": "code",
   "execution_count": null,
   "id": "adddd470-390d-479f-88ce-e363f55ff817",
   "metadata": {},
   "outputs": [],
   "source": [
    "L"
   ]
  },
  {
   "cell_type": "code",
   "execution_count": 23,
   "id": "abeff497-b317-4653-ad8f-3cec27cf6227",
   "metadata": {
    "tags": []
   },
   "outputs": [
    {
     "data": {
      "text/plain": [
       "[[50, 18],\n",
       " [100, 36],\n",
       " [150, 55],\n",
       " [200, 74],\n",
       " [250, 93],\n",
       " [300, 113],\n",
       " [350, 132],\n",
       " [400, 152],\n",
       " [450, 172],\n",
       " [500, 192],\n",
       " [550, 212],\n",
       " [600, 232],\n",
       " [650, 252],\n",
       " [700, 272],\n",
       " [750, 293],\n",
       " [800, 313],\n",
       " [850, 333],\n",
       " [900, 354],\n",
       " [950, 374]]"
      ]
     },
     "execution_count": 23,
     "metadata": {},
     "output_type": "execute_result"
    }
   ],
   "source": [
    "Lreal"
   ]
  },
  {
   "cell_type": "code",
   "execution_count": 19,
   "id": "8208b159-e499-4be3-bfc6-4a8fbe2a5013",
   "metadata": {
    "tags": []
   },
   "outputs": [
    {
     "data": {
      "text/plain": [
       "91.95965955115184"
      ]
     },
     "execution_count": 19,
     "metadata": {},
     "output_type": "execute_result"
    }
   ],
   "source": [
    "w*n"
   ]
  },
  {
   "cell_type": "code",
   "execution_count": null,
   "id": "bb273740-3b4d-4ce7-8e66-dccbadf56c6a",
   "metadata": {},
   "outputs": [],
   "source": [
    "116.44969285629563"
   ]
  },
  {
   "cell_type": "code",
   "execution_count": 17,
   "id": "939c80b1-c8b8-42de-9b4f-0bb4267f9c12",
   "metadata": {
    "tags": []
   },
   "outputs": [],
   "source": [
    "A= SDFqEstimator(n,k,w,q,nsolutions=0)\n",
    "B=A.problem"
   ]
  },
  {
   "cell_type": "code",
   "execution_count": 22,
   "id": "4f104d92-3004-455a-9f72-05180a20fc40",
   "metadata": {
    "tags": []
   },
   "outputs": [
    {
     "data": {
      "text/plain": [
       "{'p': 2, 'l': 4}"
      ]
     },
     "execution_count": 22,
     "metadata": {},
     "output_type": "execute_result"
    }
   ],
   "source": [
    "A.stern.optimal_parameters()"
   ]
  },
  {
   "cell_type": "code",
   "execution_count": 25,
   "id": "fe8c92b4-2aea-4e4f-9382-15df050ee51d",
   "metadata": {
    "tags": []
   },
   "outputs": [
    {
     "name": "stdout",
     "output_type": "stream",
     "text": [
      "+-------------+-----------------------------------+\n",
      "|             |              estimate             |\n",
      "+-------------+-------+--------+------------------+\n",
      "| algorithm   |  time | memory |    parameters    |\n",
      "+-------------+-------+--------+------------------+\n",
      "| Prange      | 227.6 |   17.8 |        {}        |\n",
      "| Stern       | 216.0 |   38.7 | {'p': 2, 'l': 4} |\n",
      "| LeeBrickell | 213.7 |   17.8 |     {'p': 2}     |\n",
      "+-------------+-------+--------+------------------+\n"
     ]
    }
   ],
   "source": [
    "A.table(show_all_parameters=1)"
   ]
  },
  {
   "cell_type": "code",
   "execution_count": 38,
   "id": "4e9e1e41-7b46-469b-b554-47d413d506eb",
   "metadata": {
    "tags": []
   },
   "outputs": [],
   "source": [
    "p=2\n",
    "l=4\n",
    "k1=k//2"
   ]
  },
  {
   "cell_type": "code",
   "execution_count": null,
   "id": "5a40160a-72d7-4dd5-b248-b9c261f2aa73",
   "metadata": {},
   "outputs": [],
   "source": []
  },
  {
   "cell_type": "code",
   "execution_count": 39,
   "id": "8fe6c38f-0701-4c12-ac93-e9859c5543a0",
   "metadata": {
    "tags": []
   },
   "outputs": [
    {
     "data": {
      "text/plain": [
       "181.42512642918433"
      ]
     },
     "execution_count": 39,
     "metadata": {},
     "output_type": "execute_result"
    }
   ],
   "source": [
    "max(0,log2(binom(n, w)) - log2(binom(n - k - l, w - 2 * p)) - log2(binom(k1, p)**2))"
   ]
  },
  {
   "cell_type": "code",
   "execution_count": 16,
   "id": "af354a9f-ba3c-4544-b784-6e8508348245",
   "metadata": {
    "tags": []
   },
   "outputs": [
    {
     "data": {
      "text/plain": [
       "182.52710415626177"
      ]
     },
     "execution_count": 16,
     "metadata": {},
     "output_type": "execute_result"
    }
   ],
   "source": [
    "B.expected_number_solutions()"
   ]
  },
  {
   "cell_type": "code",
   "execution_count": 4,
   "id": "48c2b7b3-5b85-484e-94bd-7c462fa6e081",
   "metadata": {},
   "outputs": [],
   "source": [
    "\n",
    "def time_perm(n,k,q, verbose=1, lowerbound=-1):\n",
    "    \"\"\"\n",
    "    Concrete time complexity of \n",
    "    - Algorithm 4 (lowerbound=-1)\n",
    "    - Lowerbound for codeword-finding based algorithms(lowerbound=1)\n",
    "    - Semi-Lowerbound assuming |Z|<|V| (lowerbound = 0)    \n",
    "    \"\"\"\n",
    "    mini=100000000\n",
    "    prev=2**12\n",
    "    wmin=gv_distance(n,k,q)\n",
    "    for w in range(wmin,n-k-2):\n",
    "        \n",
    "        Nw =log2(binom(n,w))+log2(q-1)*w-log2(q)*(n-k)\n",
    "        \n",
    "        codewords = Nw/2+1-log2(q-1)\n",
    "        \n",
    "        # time to find codewords\n",
    "        time_codeword_finding = SDFqEstimator(n,k,w,q).fastest_algorithm().time_complexity()+codewords\n",
    "        \n",
    "\n",
    "        # upper bound on Z\n",
    "        perms = log2(factorial(w))\n",
    "        result_list =max(0,2*codewords+log2(q-1)+perms-w*log2(q-1))\n",
    "\n",
    "        time_per_pair = time_new(n-w,k-1,q,verbose =0)\n",
    "        tmp = max(time_codeword_finding,codewords,result_list+time_per_pair)\n",
    "        \n",
    "        #early abort\n",
    "#         if tmp>prev:\n",
    "#             break\n",
    "#         else:\n",
    "#             prev=tmp\n",
    "            \n",
    "        if tmp<mini:\n",
    "            mini=tmp\n",
    "            par=w\n",
    "            times = time_codeword_finding,codewords,result_list+time_per_pair,result_list,time_per_pair\n",
    "    if verbose:\n",
    "        print(mini,times, par)\n",
    "    return mini"
   ]
  },
  {
   "cell_type": "code",
   "execution_count": 65,
   "id": "c37d440a-7051-4e44-b8a4-e92f65257711",
   "metadata": {},
   "outputs": [],
   "source": [
    "from math import comb, inf\n",
    "mini = inf\n",
    "solutions = log2(comb(n, w)) + log2(q-1)*w + log2(q)*(k - n)\n",
    "for p in range(2,10):\n",
    "    for l in range(10):\n",
    "        \n",
    "        k1 = k // 2\n",
    "        L1 = binom(k1,p) * (q-1)**p\n",
    "        L2 = binom(k-k1,p) * (q-1)**p\n",
    "\n",
    "        memory = log2((L1 + L2) *l + n*(n-k)) + log2(n)\n",
    "\n",
    "        Tp = max(0,\n",
    "                 log2(binom(n, w)) - log2(binom(n - k -l, w - 2 *p)) - log2(binom(k1,p)**2) -solutions)\n",
    "        Tpwosol=log2(binom(n, w)) - log2(binom(n - k -l, w - 2 *p)) - log2(binom(k1,p)**2)\n",
    "        \n",
    "        in_one_go = solutions-Tpwosol\n",
    "        Tg = (n-k)**2 * (n+k) // 2\n",
    "\n",
    "        build = max(((k1 -p + 1) + (L2+L1)) *l, 1)\n",
    "        cost_early_exit = max(1,int(max(q/(q-1) * (w - 2 *p + 1) * 2*p *(1 + (q - 2)/(q - 1)), 1)))\n",
    "        L = L1*L2//q**l\n",
    "        ops = build + L*cost_early_exit\n",
    "        time = log2(Tg + ops) + Tp  +solutions-in_one_go\n",
    "        # print(p,l,time)\n",
    "        if time<mini:\n",
    "            mini=time\n",
    "            mem=memory\n",
    "            par=p,l\n",
    "            perms=Tp"
   ]
  },
  {
   "cell_type": "code",
   "execution_count": 66,
   "id": "e78efc96-2e74-4717-96da-f10558c9c8fc",
   "metadata": {
    "tags": []
   },
   "outputs": [
    {
     "data": {
      "text/plain": [
       "(213.18340952956916, (2, 4))"
      ]
     },
     "execution_count": 66,
     "metadata": {},
     "output_type": "execute_result"
    }
   ],
   "source": [
    "mini,par"
   ]
  },
  {
   "cell_type": "code",
   "execution_count": 48,
   "id": "25188463-f1a6-42b6-af9b-4ab1d67328a4",
   "metadata": {
    "tags": []
   },
   "outputs": [
    {
     "data": {
      "text/plain": [
       "0"
      ]
     },
     "execution_count": 48,
     "metadata": {},
     "output_type": "execute_result"
    }
   ],
   "source": [
    "Tp"
   ]
  },
  {
   "cell_type": "code",
   "execution_count": 52,
   "id": "05776524-1cfd-4cfe-aab9-6d555d2ed232",
   "metadata": {
    "tags": []
   },
   "outputs": [
    {
     "data": {
      "text/plain": [
       "(252, 126, 127, 117)"
      ]
     },
     "execution_count": 52,
     "metadata": {},
     "output_type": "execute_result"
    }
   ],
   "source": [
    "n,k,q,w"
   ]
  },
  {
   "cell_type": "code",
   "execution_count": 69,
   "id": "ff4671e3-d75c-4eec-9171-f7c210a64e49",
   "metadata": {
    "tags": []
   },
   "outputs": [],
   "source": [
    "A= SDFqEstimator(n,k,w,q,nsolutions=0)"
   ]
  },
  {
   "cell_type": "code",
   "execution_count": 70,
   "id": "493a4afb-d401-49d1-ac81-f800cffe63de",
   "metadata": {
    "tags": []
   },
   "outputs": [
    {
     "data": {
      "text/plain": [
       "215.98843048668212"
      ]
     },
     "execution_count": 70,
     "metadata": {},
     "output_type": "execute_result"
    }
   ],
   "source": [
    "A.stern.time_complexity()"
   ]
  },
  {
   "cell_type": "code",
   "execution_count": 6,
   "id": "eb7afec3-77ac-4b8f-a2e7-5217ee700889",
   "metadata": {},
   "outputs": [],
   "source": [
    "from scipy.optimize import fsolve\n",
    "from math import log, log2\n",
    "import matplotlib.pyplot as plt\n",
    "\n",
    "def plot(L,label_list):\n",
    "    \"\"\"\n",
    "    function to plot list of lists of the form L=[L1,L2,...] with Li=[[x1,y1],[x2,y2],...]\n",
    "    \"\"\"\n",
    "    c=0\n",
    "    for Li in L:\n",
    "        x,y=zip(*Li)\n",
    "        plt.scatter(x,y, label=label_list[c],s=1)\n",
    "        c+=1\n",
    "    plt.legend(bbox_to_anchor=(1.05, 1), loc='upper left')\n",
    "    \n",
    "def Hqi(v,q):\n",
    "    \"\"\"\n",
    "    inverse of q-ary entropy function\n",
    "    \"\"\"\n",
    "    if v==1:\n",
    "        return 1-1/q\n",
    "    return fsolve(lambda x:v -(x[0]*log(q-1,q)-x[0]*log(x[0],q)-(1-x[0])*log(1-x[0],q)),0.0000001)[0]\n",
    "\n",
    "def H(q,x):\n",
    "    \"\"\"\n",
    "    q-ary entropy function\n",
    "    \"\"\"\n",
    "    if x<=0 or x>=1:\n",
    "        return 0\n",
    "    return x * log(q-1,q) - x * log(x,q) - (1-x) * log(1-x,q)\n",
    "\n",
    "def binomH(n,k):\n",
    "    \"\"\"\n",
    "    asymptotic approximation of binomial coefficients (Eq. (1))\n",
    "    \"\"\"\n",
    "    return n*H(2,k/n)\n"
   ]
  },
  {
   "cell_type": "code",
   "execution_count": 18,
   "id": "494322cd-5594-47c1-bed8-b8cc072338e8",
   "metadata": {},
   "outputs": [],
   "source": [
    "from math import inf, comb as binom, log2, factorial\n",
    "from cryptographic_estimators.SDFqEstimator import SDFqEstimator\n",
    "\n",
    "def gv_distance(n,k,q):\n",
    "    \"\"\"\n",
    "    Gilbert - Varshamov distance of a code over Fq, with length n and dimension k\n",
    "    \"\"\"\n",
    "    d = 1\n",
    "    right_term = q**(n-k)\n",
    "    left_term = 0\n",
    "    while left_term <= right_term:\n",
    "        left_term += binom(n,d)*(q-1)**d\n",
    "        d+=1\n",
    "\n",
    "    return d\n",
    "\n",
    "def avg_expect(n,d):\n",
    "    \"\"\"\n",
    "    Value of the sum from Lemma 3\n",
    "    \"\"\"\n",
    "    return [round(float(d*binom(n,k)*(d-1)**(n-k)/d**n),3) for k in range(n+1)]\n",
    "\n",
    "\n",
    "def compute_exp_cols(n,w,ell,q):\n",
    "    \"\"\"\n",
    "    Expected number of columns of Ared (defining the reduced linear system)\n",
    "    \"\"\"\n",
    "    v = avg_expect(ell,q-1)\n",
    "    indeterminate = 0\n",
    "    for i in range(2,ell):\n",
    "        indeterminate += i**2 * v[i]\n",
    "\n",
    "    return 2*(w-ell)**2 + (n-2*w+ell)**2 + indeterminate\n",
    "\n",
    "def prob(n,k,w,ell):\n",
    "    \"\"\"\n",
    "    probability of intersection of the support of two random weight w codwors beeing larger than ell\n",
    "    \"\"\"\n",
    "    return log2(sum([binom(w,i)*binom(n-w,w-i)/binom(n,w) for i in range(ell,min(w+1,ell+20))]))\n",
    "\n",
    "def time_new2(n,k,q, verbose=1, lowerbound=-1,params=0):\n",
    "    \"\"\"\n",
    "    Concrete time complexity of \n",
    "    - Algorithm 4 (lowerbound=-1)\n",
    "    - Lowerbound for codeword-finding based algorithms(lowerbound=1)\n",
    "    - Semi-Lowerbound assuming |Z|<|V| (lowerbound = 0)    \n",
    "    \"\"\"\n",
    "    mini=2**25\n",
    "    prev=2**12\n",
    "    count=0\n",
    "    wmin_save=wmin=int(Hqi(1-k/n,q)*n)#\n",
    "    #wmin_save=wmin=gv_distance(n,k,q)\n",
    "\n",
    "\n",
    "    for w in range(int(wmin),n-k):\n",
    "        ell=int(w**2/n)  \n",
    "        Nw =log2(binom(n,w))+log2(q-1)*w-log2(q)*(n-k)\n",
    "        pr=prob(n,k,w,ell)\n",
    "        \n",
    "        # required number of codewords\n",
    "        codewords = max(Nw/2-log2(q-1)/2-pr/2,0)\n",
    "        \n",
    "        # time to find codewords\n",
    "        time_codeword_finding = max(SDFqEstimator(n,k,w,q,nsolutions=0).stern.time_complexity()-Nw+codewords,codewords)#max(log2(binom(n,w))-log2(binom(n-k,w))-Nw+codewords,codewords)#\n",
    "        \n",
    "        # list size of all pairs\n",
    "        list_of_pairs =codewords\n",
    "        \n",
    "        list_of_pairs += min(log2(binom(n-w,k-w))/2,log2(binom(n-w,n-k-w))/2)\n",
    "        \n",
    "        # upper bound on Z\n",
    "        perms = log2(factorial(ell))\n",
    "        list_minus = min(0,perms-ell*log2(q-1))\n",
    "        # list_minus = log2(factorial(ell)/(factorial(ell//(q-1))**(q-1)*(q-1)**ell))\n",
    "        # list_minus=0\n",
    "        result_list = 0#max(0,2*list_of_pairs+list_minus)\n",
    "\n",
    "        # number of columns of Ared\n",
    "        exp_cols = compute_exp_cols(n,w,ell,q)\n",
    "\n",
    "        \n",
    "        time_monomial_reconstruction = log2(k)*3#log2(exp_cols)*4#\n",
    "        field_operation = log2(log2(q))*2\n",
    "        time_per_pair = time_monomial_reconstruction\n",
    "        time_recovery =  field_operation + max(result_list + time_monomial_reconstruction,list_of_pairs+ time_per_pair)\n",
    "        if lowerbound == -1:\n",
    "            #regular algorithm\n",
    "            pass\n",
    "        elif lowerbound ==0:\n",
    "            #compatibility linear\n",
    "            time_recovery = min(time_recovery,field_operation + list_of_pairs + max(time_per_pair, time_monomial_reconstruction))\n",
    "        elif lowerbound ==1:\n",
    "            #lower bound\n",
    "            time_recovery = field_operation + codewords + log2(n)\n",
    "                                                             \n",
    "        tmp = max(time_codeword_finding,time_recovery)\n",
    "        \n",
    "        #early abort\n",
    "        if tmp>mini+100:\n",
    "            count+=1\n",
    "            break\n",
    "        \n",
    "        if tmp<mini:\n",
    "            mini=tmp\n",
    "            par=w\n",
    "            paramint=w,codewords,list_of_pairs,result_list,time_monomial_reconstruction,time_per_pair, SDFqEstimator(n,k,w,q,nsolutions=0).stern.time_complexity()-Nw,time_recovery,mini\n",
    "            times = time_codeword_finding,time_recovery#,SDFqEstimator(n,k,w,q).fastest_algorithm().time_complexity(),codewords\n",
    "            lists = Nw,list_of_pairs,perms-ell*log2(q-1),result_list\n",
    "            prange=max(log2(binom(n,w))-log2(binom(n-k,w))-codewords/2,0)#\n",
    "\n",
    "    if verbose:\n",
    "        print(mini,times, par)\n",
    "        print(lists)\n",
    "    \n",
    "    t=True\n",
    "    for i in paramint:\n",
    "        if t:\n",
    "            print(\"LESS-\\t&\\t\",i,\"\\t&\\t\",end=\"\")\n",
    "            t=False\n",
    "        else:\n",
    "            print(round(i,2),\"\\t&\\t\",end=\"\")\n",
    "\n",
    "    print(\"\\\\\\\\\")\n",
    "    # prange_wmin=SDFqEstimator(n,k,w,q).prange.time_complexity()+codewords\n",
    "    # stern_wmin=SDFqEstimator(n,k,w,q).stern.time_complexity()+codewords\n",
    "    # print((prange-time_codeword_finding)/n,(prange_wmin-stern_wmin)/n)\n",
    "    # print(int(wmin_save*1.1),par)\n",
    "    # print(par/n)\n",
    "    if params:\n",
    "        return par\n",
    "    return mini,par"
   ]
  },
  {
   "cell_type": "code",
   "execution_count": 19,
   "id": "70812cc5-bc35-4f03-98ac-ffd9b071a3e9",
   "metadata": {
    "tags": []
   },
   "outputs": [
    {
     "name": "stdout",
     "output_type": "stream",
     "text": [
      "126.00365918312214 (126.00365918312214, 115.38343581078357, 107.34652282528985, 75.43740313129018) 106\n"
     ]
    },
    {
     "ename": "TypeError",
     "evalue": "'float' object is not subscriptable",
     "output_type": "error",
     "traceback": [
      "\u001b[0;31m---------------------------------------------------------------------------\u001b[0m",
      "\u001b[0;31mTypeError\u001b[0m                                 Traceback (most recent call last)",
      "Cell \u001b[0;32mIn[19], line 4\u001b[0m\n\u001b[1;32m      2\u001b[0m k\u001b[38;5;241m=\u001b[39mn\u001b[38;5;241m/\u001b[39m\u001b[38;5;241m/\u001b[39m\u001b[38;5;241m2\u001b[39m\n\u001b[1;32m      3\u001b[0m q\u001b[38;5;241m=\u001b[39mk\n\u001b[0;32m----> 4\u001b[0m \u001b[43mtime_new\u001b[49m\u001b[43m(\u001b[49m\u001b[43mn\u001b[49m\u001b[43m,\u001b[49m\u001b[43mk\u001b[49m\u001b[43m,\u001b[49m\u001b[43mq\u001b[49m\u001b[43m)\u001b[49m\u001b[43m[\u001b[49m\u001b[38;5;241;43m0\u001b[39;49m\u001b[43m]\u001b[49m,time_new2(n,k,q)[\u001b[38;5;241m0\u001b[39m]\n",
      "\u001b[0;31mTypeError\u001b[0m: 'float' object is not subscriptable"
     ]
    }
   ],
   "source": [
    "n=252\n",
    "k=n//2\n",
    "q=k\n",
    "time_new(n,k,q)[0],time_new2(n,k,q)[0]"
   ]
  },
  {
   "cell_type": "code",
   "execution_count": 1583,
   "id": "584fa6f9-9fe7-4c76-b6d4-8f25959a5822",
   "metadata": {
    "tags": []
   },
   "outputs": [
    {
     "data": {
      "text/plain": [
       "151"
      ]
     },
     "execution_count": 1583,
     "metadata": {},
     "output_type": "execute_result"
    }
   ],
   "source": [
    "252-101"
   ]
  },
  {
   "cell_type": "code",
   "execution_count": 1584,
   "id": "4e74bf80-c6e5-415b-8142-4f79c884d4ef",
   "metadata": {
    "tags": []
   },
   "outputs": [
    {
     "data": {
      "text/plain": [
       "26"
      ]
     },
     "execution_count": 1584,
     "metadata": {},
     "output_type": "execute_result"
    }
   ],
   "source": [
    "127-101"
   ]
  },
  {
   "cell_type": "code",
   "execution_count": 1585,
   "id": "504e2b74-c194-4c97-a5a3-c4314449418f",
   "metadata": {
    "tags": []
   },
   "outputs": [
    {
     "data": {
      "text/plain": [
       "108"
      ]
     },
     "execution_count": 1585,
     "metadata": {},
     "output_type": "execute_result"
    }
   ],
   "source": [
    "gv_distance(151,26,127)"
   ]
  },
  {
   "cell_type": "code",
   "execution_count": 1612,
   "id": "243b86a3-e444-49c8-95f1-36c1148ebd30",
   "metadata": {
    "tags": []
   },
   "outputs": [],
   "source": [
    "n,k,w=252,126,109"
   ]
  },
  {
   "cell_type": "code",
   "execution_count": 1613,
   "id": "979df508-9175-4488-bdc6-be817fea39d1",
   "metadata": {
    "tags": []
   },
   "outputs": [
    {
     "data": {
      "text/plain": [
       "35.97604703366799"
      ]
     },
     "execution_count": 1613,
     "metadata": {},
     "output_type": "execute_result"
    }
   ],
   "source": [
    "min(log2(binom(n-w,k-w))/2,log2(binom(n-w,n-k-w))/2)"
   ]
  },
  {
   "cell_type": "code",
   "execution_count": 1616,
   "id": "cecc0864-581c-45c5-b994-f63d0c48ee4c",
   "metadata": {
    "tags": []
   },
   "outputs": [
    {
     "data": {
      "text/plain": [
       "35.97604703366799"
      ]
     },
     "execution_count": 1616,
     "metadata": {},
     "output_type": "execute_result"
    }
   ],
   "source": [
    "log2(binom(n-w,k-w))/2"
   ]
  },
  {
   "cell_type": "code",
   "execution_count": 1618,
   "id": "b40fba9d-f505-4721-a813-9e65c524cfe8",
   "metadata": {
    "tags": []
   },
   "outputs": [
    {
     "data": {
      "text/plain": [
       "35.97604703366799"
      ]
     },
     "execution_count": 1618,
     "metadata": {},
     "output_type": "execute_result"
    }
   ],
   "source": [
    "log2(binom(n-w,n-k-w))/2"
   ]
  },
  {
   "cell_type": "code",
   "execution_count": 1619,
   "id": "7ace67ac-73f6-4882-a398-5fcf8158943c",
   "metadata": {
    "tags": []
   },
   "outputs": [
    {
     "data": {
      "text/plain": [
       "(143, 17, 17, 126)"
      ]
     },
     "execution_count": 1619,
     "metadata": {},
     "output_type": "execute_result"
    }
   ],
   "source": [
    "n-w,k-w,n-k-w,k"
   ]
  },
  {
   "cell_type": "code",
   "execution_count": 1907,
   "id": "120724c7-a360-4b59-8125-7f76cfe1a195",
   "metadata": {
    "tags": []
   },
   "outputs": [],
   "source": [
    "from math import inf, comb as binom, log2, factorial\n",
    "from cryptographic_estimators.SDFqEstimator import SDFqEstimator\n",
    "\n",
    "def gv_distance(n,k,q):\n",
    "    \"\"\"\n",
    "    Gilbert - Varshamov distance of a code over Fq, with length n and dimension k\n",
    "    \"\"\"\n",
    "    d = 1\n",
    "    right_term = q**(n-k)\n",
    "    left_term = 0\n",
    "    while left_term <= right_term:\n",
    "        left_term += binom(n,d)*(q-1)**d\n",
    "        d+=1\n",
    "\n",
    "    return d\n",
    "\n",
    "def avg_expect(n,d):\n",
    "    \"\"\"\n",
    "    Value of the sum from Lemma 3\n",
    "    \"\"\"\n",
    "    return [round(float(d*binom(n,k)*(d-1)**(n-k)/d**n),3) for k in range(n+1)]\n",
    "\n",
    "\n",
    "def compute_exp_cols(n,w,ell,q):\n",
    "    \"\"\"\n",
    "    Expected number of columns of Ared (defining the reduced linear system)\n",
    "    \"\"\"\n",
    "    v = avg_expect(ell,q-1)\n",
    "    indeterminate = 0\n",
    "    for i in range(2,ell):\n",
    "        indeterminate += i**2 * v[i]\n",
    "\n",
    "    return 2*(w-ell)**2 + (n-2*w+ell)**2 + indeterminate\n",
    "\n",
    "def prob(n,k,w,ell):\n",
    "    \"\"\"\n",
    "    probability of intersection of the support of two random weight w codwors beeing larger than ell\n",
    "    \"\"\"\n",
    "    return log2(sum([binom(w,i)*binom(n-w,w-i)/binom(n,w) for i in range(ell,min(w+1,ell+20))]))\n",
    "\n",
    "def time_new3(n,k,q, verbose=1, lowerbound=-1,params=0):\n",
    "    \"\"\"\n",
    "    Concrete time complexity of \n",
    "    - Algorithm 4 (lowerbound=-1)\n",
    "    - Lowerbound for codeword-finding based algorithms(lowerbound=1)\n",
    "    - Semi-Lowerbound assuming |Z|<|V| (lowerbound = 0)    \n",
    "    \"\"\"\n",
    "    mini=2**25\n",
    "    prev=2**12\n",
    "    count=0\n",
    "    wmin_save=wmin=int(Hqi(1-k/n,q)*n)#\n",
    "    #wmin_save=wmin=gv_distance(n,k,q)\n",
    "\n",
    "\n",
    "    for w in range(int(wmin),n-k):\n",
    "        ell=int(w**2/n)  \n",
    "        Nw =log2(binom(n,w))+log2(q-1)*w-log2(q)*(n-k)\n",
    "        pr=prob(n,k,w,ell)\n",
    "        \n",
    "        # required number of codewords\n",
    "        codewords = max(Nw/2-log2(q-1)/2-pr/2,0)\n",
    "        \n",
    "        # time to find codewords\n",
    "        time_codeword_finding = max(SDFqEstimator(n,k,w,q,nsolutions=0).stern.time_complexity()-Nw+codewords,codewords)#max(log2(binom(n,w))-log2(binom(n-k,w))-Nw+codewords,codewords)#\n",
    "        \n",
    "        # list size of all pairs\n",
    "        list_of_pairs =codewords\n",
    "        \n",
    "        \n",
    "        new_n = n-w\n",
    "        new_w = gv_distance(new_n,k,q)-1\n",
    "        new_k = k-1\n",
    "        if new_w>new_n-new_k:\n",
    "            continue\n",
    "        mem = codewords + log2(n)\n",
    "        time_leon = SDFqEstimator(new_n,new_k,new_w,q,nsolutions=0).stern.time_complexity()\n",
    "        # list_of_pairs += min(log2(binom(n-w,k-w))/2,log2(binom(n-w,n-k-w))/2)\n",
    "        \n",
    "        time_monomial_reconstruction = log2(k)*3#log2(exp_cols)*4#\n",
    "        field_operation = log2(log2(q))*2\n",
    "        time_per_pair = time_monomial_reconstruction\n",
    "        time_recovery =  list_of_pairs+max(field_operation +time_monomial_reconstruction,time_leon)\n",
    "\n",
    "        tmp = max(time_codeword_finding,time_recovery)\n",
    "        \n",
    "        #early abort\n",
    "        if tmp>mini+100:\n",
    "            count+=1\n",
    "            break\n",
    "        \n",
    "        if tmp<mini and mem<30:\n",
    "            mini=tmp\n",
    "            par=w,new_n,new_w\n",
    "            times = time_codeword_finding,time_recovery,time_leon,codewords#,SDFqEstimator(n,k,w,q).fastest_algorithm().time_complexity(),codewords\n",
    "\n",
    "\n",
    "    if verbose:\n",
    "        print(mini,times, par)\n",
    "    \n",
    "    # t=True\n",
    "    # for i in paramint:\n",
    "    #     if t:\n",
    "    #         print(\"LESS-\\t&\\t\",i,\"\\t&\\t\",end=\"\")\n",
    "    #         t=False\n",
    "    #     else:\n",
    "    #         print(round(i,2),\"\\t&\\t\",end=\"\")\n",
    "\n",
    "    # print(\"\\\\\\\\\")\n",
    "    # prange_wmin=SDFqEstimator(n,k,w,q).prange.time_complexity()+codewords\n",
    "    # stern_wmin=SDFqEstimator(n,k,w,q).stern.time_complexity()+codewords\n",
    "    # print((prange-time_codeword_finding)/n,(prange_wmin-stern_wmin)/n)\n",
    "    # print(int(wmin_save*1.1),par)\n",
    "    # print(par/n)\n",
    "    if params:\n",
    "        return par\n",
    "    return mini,par"
   ]
  },
  {
   "cell_type": "code",
   "execution_count": 1908,
   "id": "db63ccac-c4cc-476f-97b4-710538d7cc5f",
   "metadata": {
    "tags": []
   },
   "outputs": [
    {
     "name": "stdout",
     "output_type": "stream",
     "text": [
      "133.33027129887554 (133.33027129887554, 81.80705907624764, 60.23574844433883, 21.571310631908805) (99, 153, 17)\n"
     ]
    },
    {
     "data": {
      "text/plain": [
       "(133.33027129887554, (99, 153, 17))"
      ]
     },
     "execution_count": 1908,
     "metadata": {},
     "output_type": "execute_result"
    }
   ],
   "source": [
    "time_new3(n,k,q)"
   ]
  },
  {
   "cell_type": "code",
   "execution_count": null,
   "id": "ea4ca906-1b6d-4b10-bc9c-0f9529b59ae0",
   "metadata": {},
   "outputs": [],
   "source": []
  },
  {
   "cell_type": "code",
   "execution_count": 1897,
   "id": "6c92b58d-7253-4ecd-9072-71a1c309f2d4",
   "metadata": {
    "tags": []
   },
   "outputs": [],
   "source": [
    "#version with enumeration\n",
    "from math import inf, comb as binom, log2, factorial\n",
    "from cryptographic_estimators.SDFqEstimator import SDFqEstimator\n",
    "\n",
    "def gv_distance(n,k,q):\n",
    "    \"\"\"\n",
    "    Gilbert - Varshamov distance of a code over Fq, with length n and dimension k\n",
    "    \"\"\"\n",
    "    d = 1\n",
    "    right_term = q**(n-k)\n",
    "    left_term = 0\n",
    "    while left_term <= right_term:\n",
    "        left_term += binom(n,d)*(q-1)**d\n",
    "        d+=1\n",
    "\n",
    "    return d\n",
    "\n",
    "def avg_expect(n,d):\n",
    "    \"\"\"\n",
    "    Value of the sum from Lemma 3\n",
    "    \"\"\"\n",
    "    return [round(float(d*binom(n,k)*(d-1)**(n-k)/d**n),3) for k in range(n+1)]\n",
    "\n",
    "\n",
    "def compute_exp_cols(n,w,ell,q):\n",
    "    \"\"\"\n",
    "    Expected number of columns of Ared (defining the reduced linear system)\n",
    "    \"\"\"\n",
    "    v = avg_expect(ell,q-1)\n",
    "    indeterminate = 0\n",
    "    for i in range(2,ell):\n",
    "        indeterminate += i**2 * v[i]\n",
    "\n",
    "    return 2*(w-ell)**2 + (n-2*w+ell)**2 + indeterminate\n",
    "\n",
    "def prob(n,k,w,ell):\n",
    "    \"\"\"\n",
    "    probability of intersection of the support of two random weight w codwors beeing larger than ell\n",
    "    \"\"\"\n",
    "    return log2(sum([binom(w,i)*binom(n-w,w-i)/binom(n,w) for i in range(ell,min(w+1,ell+20))]))\n",
    "\n",
    "def time_new4_enum(n,k,q, verbose=1, lowerbound=-1,params=0):\n",
    "    \"\"\"\n",
    "    Concrete time complexity of \n",
    "    - Algorithm 4 (lowerbound=-1)\n",
    "    - Lowerbound for codeword-finding based algorithms(lowerbound=1)\n",
    "    - Semi-Lowerbound assuming |Z|<|V| (lowerbound = 0)    \n",
    "    \"\"\"\n",
    "    mini=2**25\n",
    "    prev=2**12\n",
    "    count=0\n",
    "    # wmin_save=wmin=int(Hqi(1-k/n,q)*n)#\n",
    "    #wmin_save=wmin=gv_distance(n,k,q)\n",
    "\n",
    "\n",
    "    for w in range(0,n-k):\n",
    "\n",
    "        Nw =log2(binom(n,w))\n",
    "        # required number of codewords\n",
    "        codewords = Nw/2\n",
    "       \n",
    "        # time to find codewords\n",
    "        time_codeword_finding = Nw/2\n",
    "        \n",
    "        # list size of all pairs\n",
    "        list_of_pairs =codewords\n",
    "        \n",
    "        \n",
    "        new_n = n-w\n",
    "        new_w = gv_distance(new_n,k,q)\n",
    "        if new_w>new_n-k:\n",
    "            continue\n",
    "        time_leon = SDFqEstimator(new_n,k,new_w,q,nsolutions=0).stern.time_complexity()\n",
    "        # list_of_pairs += min(log2(binom(n-w,k-w))/2,log2(binom(n-w,n-k-w))/2)\n",
    "        \n",
    "        time_monomial_reconstruction = log2(k)*3#log2(exp_cols)*4#\n",
    "        field_operation = log2(log2(q))*2\n",
    "        time_per_pair = time_monomial_reconstruction\n",
    "        time_recovery =  list_of_pairs+max(field_operation +time_monomial_reconstruction,time_leon)\n",
    "\n",
    "        tmp = max(time_codeword_finding,time_recovery)\n",
    "        \n",
    "        #early abort\n",
    "        if tmp>mini+100:\n",
    "            count+=1\n",
    "            break\n",
    "        \n",
    "        if tmp<mini:\n",
    "            mini=tmp\n",
    "            par=w,new_n,new_w\n",
    "            times = time_codeword_finding,time_recovery,time_leon,codewords#,SDFqEstimator(n,k,w,q).fastest_algorithm().time_complexity(),codewords\n",
    "\n",
    "\n",
    "    if verbose:\n",
    "        print(mini,times, par)\n",
    "    \n",
    "    # t=True\n",
    "    # for i in paramint:\n",
    "    #     if t:\n",
    "    #         print(\"LESS-\\t&\\t\",i,\"\\t&\\t\",end=\"\")\n",
    "    #         t=False\n",
    "    #     else:\n",
    "    #         print(round(i,2),\"\\t&\\t\",end=\"\")\n",
    "\n",
    "    # print(\"\\\\\\\\\")\n",
    "    # prange_wmin=SDFqEstimator(n,k,w,q).prange.time_complexity()+codewords\n",
    "    # stern_wmin=SDFqEstimator(n,k,w,q).stern.time_complexity()+codewords\n",
    "    # print((prange-time_codeword_finding)/n,(prange_wmin-stern_wmin)/n)\n",
    "    # print(int(wmin_save*1.1),par)\n",
    "    # print(par/n)\n",
    "    if params:\n",
    "        return par\n",
    "    return mini,par"
   ]
  },
  {
   "cell_type": "code",
   "execution_count": 1898,
   "id": "124c4ee2-b2f3-4267-93f8-8e5c384e249e",
   "metadata": {
    "tags": []
   },
   "outputs": [],
   "source": [
    "n,k,q=(252,126,127)"
   ]
  },
  {
   "cell_type": "code",
   "execution_count": 1899,
   "id": "947b9727-8806-4f32-af51-d913335d7c1d",
   "metadata": {
    "tags": []
   },
   "outputs": [
    {
     "name": "stdout",
     "output_type": "stream",
     "text": [
      "149.39458837776485 (0.0, 149.39458837776485, 149.39458837776485, 0.0) (0, 252, 94)\n"
     ]
    },
    {
     "data": {
      "text/plain": [
       "(149.39458837776485, (0, 252, 94))"
      ]
     },
     "execution_count": 1899,
     "metadata": {},
     "output_type": "execute_result"
    }
   ],
   "source": [
    "time_new4_enum(n,k,q)"
   ]
  },
  {
   "cell_type": "code",
   "execution_count": 1901,
   "id": "168e5cad-b124-4e83-9ad7-a93472f2eae2",
   "metadata": {
    "tags": []
   },
   "outputs": [
    {
     "data": {
      "text/plain": [
       "93"
      ]
     },
     "execution_count": 1901,
     "metadata": {},
     "output_type": "execute_result"
    }
   ],
   "source": [
    "gv_distance(n,k,q)-1"
   ]
  },
  {
   "cell_type": "code",
   "execution_count": 1659,
   "id": "38cedac8-7c83-412b-b302-ff55b1b4132b",
   "metadata": {
    "tags": []
   },
   "outputs": [
    {
     "data": {
      "text/plain": [
       "123.84209036609494"
      ]
     },
     "execution_count": 1659,
     "metadata": {},
     "output_type": "execute_result"
    }
   ],
   "source": [
    "log2(binom(252,126))/2"
   ]
  },
  {
   "cell_type": "code",
   "execution_count": 1689,
   "id": "da6e24b6-43ef-444d-9e50-315027e8c040",
   "metadata": {
    "tags": []
   },
   "outputs": [
    {
     "name": "stdout",
     "output_type": "stream",
     "text": [
      "107 16.78052175825087\n"
     ]
    }
   ],
   "source": [
    "w = k\n",
    "for i in range(w,0,-1):\n",
    "    amount = log2(binom(n,i))+log2(binom(n,w-i))*log2(q-2)\n",
    "    if amount >(n-k)*log2(q):\n",
    "        print(i,amount-(n-k)*log2(q))\n",
    "        break"
   ]
  },
  {
   "cell_type": "code",
   "execution_count": null,
   "id": "eb783c4a-6b39-4882-af11-8c053af65176",
   "metadata": {},
   "outputs": [],
   "source": []
  },
  {
   "cell_type": "code",
   "execution_count": 1762,
   "id": "4804b171-95e7-4ef9-8adf-5a1b28f4a9dd",
   "metadata": {
    "tags": []
   },
   "outputs": [
    {
     "data": {
      "text/plain": [
       "(129.18298411485233,\n",
       " (4, 0, 14),\n",
       " (107.32003164707874,\n",
       "  10.93147623388679,\n",
       "  21.86295246777358,\n",
       "  214.64006329415747))"
      ]
     },
     "execution_count": 1762,
     "metadata": {},
     "output_type": "execute_result"
    }
   ],
   "source": [
    "def find_smallest_r(n,k):\n",
    "    \"\"\"\n",
    "    finds the largest value r such that we expect there to be at least one codeword of weight k\n",
    "    with r coordinates equal to a, for a \\in Fq\\{0}\n",
    "    \"\"\"\n",
    "    for i in range(k,0,-1):\n",
    "        amount = log2(multinom(n,[i,k-i]))+log2(q-1)+log2(q-2)*(k-i) #log2(binom(n,i))+log2(q-1)+log2(binom(n,k-i))*log2(q-2)\n",
    "        if amount >(n-k)*log2(q):\n",
    "            return i,amount-(n-k)*log2(q)\n",
    "\n",
    "        \n",
    "def multinom(n,c):\n",
    "    res=1\n",
    "    cur = n\n",
    "    for i in c:\n",
    "        res*= binom(cur,i)\n",
    "        cur-=i\n",
    "    return res\n",
    "\n",
    "def find_rep(n,k):\n",
    "    mini=2**100\n",
    "    w=k\n",
    "    max_r,N = find_smallest_r(n,k)\n",
    "    for r in range(max_r,0,-1):\n",
    "        N = log2(multinom(n,[r,k-r]))+log2(q-1)+log2(q-2)*(k-r)-(n-k)*log2(q)\n",
    "        # print(r,N)\n",
    "        for p in range(0,r,2):\n",
    "            for ell in range(k):\n",
    "                try:\n",
    "                    iterations = max(log2(multinom(n,[r,w-r]))-log2(multinom(n-k-ell,[r-p,w-r]))-log2(binom(k+ell,p))-N,0)+N/2\n",
    "                    L = log2(binom(k//2,p//2))\n",
    "                    cost = max(L,L*2-ell)\n",
    "                    total = iterations+max(cost,log2(k)*3)\n",
    "\n",
    "                except:\n",
    "                    continue\n",
    "                if total <mini:\n",
    "                    mini=total\n",
    "                    par = p,ell,r\n",
    "                    time = iterations,L,L*2-ell,N\n",
    "    return mini,par,time\n",
    "\n",
    "\n",
    "find_rep(252,126)"
   ]
  },
  {
   "cell_type": "code",
   "execution_count": 1754,
   "id": "431087de-2c92-4645-a251-dd9cd38b3a26",
   "metadata": {
    "tags": []
   },
   "outputs": [
    {
     "data": {
      "text/plain": [
       "(53, 3.070377073318923)"
      ]
     },
     "execution_count": 1754,
     "metadata": {},
     "output_type": "execute_result"
    }
   ],
   "source": [
    "find_smallest_r(252,126)"
   ]
  },
  {
   "cell_type": "code",
   "execution_count": 1766,
   "id": "e21c386f-e630-4f73-a12b-ab8347deb380",
   "metadata": {
    "tags": []
   },
   "outputs": [
    {
     "name": "stdout",
     "output_type": "stream",
     "text": [
      "353.23042097238044 (131.31102583694636, 353.23042097238044) 125\n",
      "(239.25849587311438, 237.63101526321273, -148.5734912387707, 326.68853928765475)\n"
     ]
    },
    {
     "data": {
      "text/plain": [
       "(353.23042097238044, 125)"
      ]
     },
     "execution_count": 1766,
     "metadata": {},
     "output_type": "execute_result"
    }
   ],
   "source": [
    "time_new(n,k,127,w_pre=125)"
   ]
  },
  {
   "cell_type": "code",
   "execution_count": 1743,
   "id": "1c49d617-e9b6-4b1e-9642-e91837351c91",
   "metadata": {
    "tags": []
   },
   "outputs": [
    {
     "data": {
      "text/plain": [
       "(252, 126)"
      ]
     },
     "execution_count": 1743,
     "metadata": {},
     "output_type": "execute_result"
    }
   ],
   "source": [
    "n,k"
   ]
  },
  {
   "cell_type": "code",
   "execution_count": 1744,
   "id": "003637f6-b36f-41c0-bfa5-11a86c60baaf",
   "metadata": {
    "tags": []
   },
   "outputs": [
    {
     "data": {
      "text/plain": [
       "179"
      ]
     },
     "execution_count": 1744,
     "metadata": {},
     "output_type": "execute_result"
    }
   ],
   "source": [
    "126+53"
   ]
  },
  {
   "cell_type": "code",
   "execution_count": 1747,
   "id": "8418c10c-09c5-4f97-9f71-4708e2416b2b",
   "metadata": {
    "tags": []
   },
   "outputs": [
    {
     "data": {
      "text/plain": [
       "(86.06867337346925,\n",
       " (88, 53),\n",
       " (33.623590882678826, 52.445082490790426, 51.89016498158085))"
      ]
     },
     "execution_count": 1747,
     "metadata": {},
     "output_type": "execute_result"
    }
   ],
   "source": []
  },
  {
   "cell_type": "code",
   "execution_count": 1729,
   "id": "ed5e786e-fdd3-4f00-9715-7134319ae264",
   "metadata": {
    "tags": []
   },
   "outputs": [
    {
     "data": {
      "text/plain": [
       "247.68418073218987"
      ]
     },
     "execution_count": 1729,
     "metadata": {},
     "output_type": "execute_result"
    }
   ],
   "source": [
    "w=k\n",
    "log2(binom(n,w))-log2(binom(n-k,w))"
   ]
  },
  {
   "cell_type": "code",
   "execution_count": 1692,
   "id": "ab21c9b9-f112-4bb3-9163-351519b8ffb5",
   "metadata": {
    "tags": []
   },
   "outputs": [],
   "source": [
    "def multinom(n,c):\n",
    "    res=1\n",
    "    cur = n\n",
    "    for i in c:\n",
    "        res*= binom(cur,i)\n",
    "        cur-=i\n",
    "    return res"
   ]
  },
  {
   "cell_type": "code",
   "execution_count": 1695,
   "id": "1a7fe5f9-f627-49bf-8375-4a454706e59d",
   "metadata": {
    "tags": []
   },
   "outputs": [
    {
     "data": {
      "text/plain": [
       "20"
      ]
     },
     "execution_count": 1695,
     "metadata": {},
     "output_type": "execute_result"
    }
   ],
   "source": [
    "multinom(5,[3,1])"
   ]
  },
  {
   "cell_type": "code",
   "execution_count": 1696,
   "id": "9e8e0c39-d3c7-416f-8975-fc8a8f2d4f16",
   "metadata": {
    "tags": []
   },
   "outputs": [
    {
     "data": {
      "text/plain": [
       "20"
      ]
     },
     "execution_count": 1696,
     "metadata": {},
     "output_type": "execute_result"
    }
   ],
   "source": [
    "binom(5,3)*binom(2,1)"
   ]
  },
  {
   "cell_type": "code",
   "execution_count": null,
   "id": "c39eceda-d76b-4353-b1bd-ebbe8496d3c2",
   "metadata": {},
   "outputs": [],
   "source": [
    "q=127\n",
    "L=[]\n",
    "for i in range(1,400):\n",
    "    L=[]\n",
    "    "
   ]
  },
  {
   "cell_type": "code",
   "execution_count": null,
   "id": "c4eed513-8abf-4c04-9a76-95823a23057f",
   "metadata": {},
   "outputs": [],
   "source": [
    "n=252\n",
    "k=n//2\n",
    "q=127\n",
    "for i in range(k):\n",
    "    amount = log2(binom)"
   ]
  }
 ],
 "metadata": {
  "kernelspec": {
   "display_name": "Python 3 (ipykernel)",
   "language": "python",
   "name": "python3"
  },
  "language_info": {
   "codemirror_mode": {
    "name": "ipython",
    "version": 3
   },
   "file_extension": ".py",
   "mimetype": "text/x-python",
   "name": "python",
   "nbconvert_exporter": "python",
   "pygments_lexer": "ipython3",
   "version": "3.11.4"
  }
 },
 "nbformat": 4,
 "nbformat_minor": 5
}
