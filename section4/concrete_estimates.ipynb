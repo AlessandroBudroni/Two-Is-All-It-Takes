{
 "cells": [
  {
   "cell_type": "markdown",
   "id": "b86fa515-1150-4b06-94c8-f2fe46bea188",
   "metadata": {},
   "source": [
    "# Concrete Complexities"
   ]
  },
  {
   "cell_type": "code",
   "execution_count": 7,
   "id": "90d9f701-26de-4a54-a869-d90ee648d844",
   "metadata": {
    "tags": []
   },
   "outputs": [],
   "source": [
    "from math import inf, comb as binom, log2, factorial\n",
    "from cryptographic_estimators.SDFqEstimator import SDFqEstimator\n",
    "\n",
    "def gv_distance(n,k,q):\n",
    "    \"\"\"\n",
    "    Gilbert - Varshamov distance of a code over Fq, with length n and dimension k\n",
    "    \"\"\"\n",
    "    d = 1\n",
    "    right_term = q**(n-k)\n",
    "    left_term = 0\n",
    "    while left_term <= right_term:\n",
    "        left_term += binom(n,d)*(q-1)**d\n",
    "        d+=1\n",
    "\n",
    "    return d\n",
    "\n",
    "def avg_expect(n,d):\n",
    "    \"\"\"\n",
    "    Value of the sum from Lemma 3\n",
    "    \"\"\"\n",
    "    return [round(float(d*binom(n,k)*(d-1)**(n-k)/d**n),3) for k in range(n+1)]\n",
    "\n",
    "\n",
    "def compute_exp_cols(n,w,ell,q):\n",
    "    \"\"\"\n",
    "    Expected number of columns of Ared (defining the reduced linear system)\n",
    "    \"\"\"\n",
    "    v = avg_expect(ell,q-1)\n",
    "    indeterminate = 0\n",
    "    for i in range(2,ell):\n",
    "        indeterminate += i**2 * v[i]\n",
    "\n",
    "    return 2*(w-ell)**2 + (n-2*w+ell)**2 + indeterminate\n",
    "\n",
    "def prob(n,k,w,ell):\n",
    "    \"\"\"\n",
    "    probability of intersection of the support of two random weight w codwors beeing larger than ell\n",
    "    \"\"\"\n",
    "    return log2(sum([binom(w,i)*binom(n-w,w-i)/binom(n,w) for i in range(ell,ell+20)]))\n",
    "\n",
    "def time_new(n,k,q, verbose=1, lowerbound=-1):\n",
    "    \"\"\"\n",
    "    Concrete time complexity of \n",
    "    - Algorithm 4 (lowerbound=-1)\n",
    "    - Lowerbound for codeword-finding based algorithms(lowerbound=1)\n",
    "    - Semi-Lowerbound assuming |Z|<|V| (lowerbound = 0)    \n",
    "    \"\"\"\n",
    "    mini=100000000\n",
    "    prev=2**12\n",
    "    wmin=gv_distance(n,k,q)\n",
    "    for w in range(wmin,n-k):\n",
    "        ell=int(w**2/n)  \n",
    "        Nw =log2(binom(n,w))+log2(q-1)*w-log2(q)*(n-k)\n",
    "        pr=prob(n,k,w,ell)\n",
    "        \n",
    "        # required number of codewords\n",
    "        codewords = Nw/2+0.5-log2(q-1)/2-pr/2 \n",
    "        \n",
    "        # time to find codewords\n",
    "        time_codeword_finding = SDFqEstimator(n,k,w,q).fastest_algorithm().time_complexity()+codewords\n",
    "        \n",
    "        # list size of all pairs\n",
    "        list_of_pairs =2*codewords\n",
    "        \n",
    "        # meet in the middle on scalar\n",
    "        list_of_pairs +=  log2(q-1)/2\n",
    "\n",
    "        # upper bound on Z\n",
    "        perms = log2(factorial(ell))\n",
    "        result_list =max(0,2*list_of_pairs+perms-ell*log2(q-1))\n",
    "\n",
    "        # number of columns of Ared\n",
    "        exp_cols = compute_exp_cols(n,w,ell,q)\n",
    "\n",
    "        \n",
    "        time_monomial_reconstruction = log2(exp_cols)*4\n",
    "        field_operation = log2(log2(q))*2\n",
    "        time_per_pair = log2(2*(n+ell))\n",
    "        if lowerbound == -1:\n",
    "            #regular algorithm\n",
    "            time_recovery =  field_operation + max(result_list + time_monomial_reconstruction,list_of_pairs+ time_per_pair)\n",
    "        elif lowerbound ==0:\n",
    "            #compatibility linear\n",
    "            time_recovery = field_operation + list_of_pairs+ time_per_pair\n",
    "        elif lowerbound ==1:\n",
    "            #lower bound\n",
    "            time_recovery = field_operation + codewords + log2(n)\n",
    "                                                             \n",
    "        tmp = max(time_codeword_finding,time_recovery)\n",
    "        \n",
    "        #early abort\n",
    "        if tmp>prev:\n",
    "            break\n",
    "        else:\n",
    "            prev=tmp\n",
    "            \n",
    "        if tmp<mini:\n",
    "            mini=tmp\n",
    "            par=w\n",
    "            times = time_codeword_finding,time_recovery\n",
    "    if verbose:\n",
    "        print(mini,times, par)\n",
    "    return mini"
   ]
  },
  {
   "cell_type": "code",
   "execution_count": 8,
   "id": "b14748dc-2a1d-4750-9d5f-49831f97608d",
   "metadata": {
    "tags": []
   },
   "outputs": [],
   "source": [
    "def cf_mitm_concrete(n,k,q):\n",
    "    \"\"\"\n",
    "    Concrete complexity of CFMITM algorithm\n",
    "    \"\"\"\n",
    "    return log2(binom(n,n-k))/2+log2(k)*2 + log2(n)+2*log2(log2(q))"
   ]
  },
  {
   "cell_type": "markdown",
   "id": "ef423755-6af4-4e8f-b0aa-1ec311772d52",
   "metadata": {},
   "source": [
    "### LCE instances"
   ]
  },
  {
   "cell_type": "code",
   "execution_count": 9,
   "id": "67709487-7834-40cd-b4a1-93ad5b7d4e24",
   "metadata": {
    "tags": []
   },
   "outputs": [
    {
     "name": "stdout",
     "output_type": "stream",
     "text": [
      "+---------------+--------+------+----------+------+-----+\n",
      "|    (n,k,q)    | CFMITM | Leon | Beullens | BBPS | New |\n",
      "+---------------+--------+------+----------+------+-----+\n",
      "| (252,126,127) |  151   | 153  |   142    | 139  | 127 |\n",
      "| (400,200,127) |  227   | 230  |   232    | 214  | 196 |\n",
      "| (548,274,127) |  302   | 307  |   324    | 290  | 266 |\n",
      "|  (198,94,251) |  123   | 134  |   113    | 114  | 105 |\n",
      "+---------------+--------+------+----------+------+-----+\n"
     ]
    }
   ],
   "source": [
    "from cryptographic_estimators.LEEstimator import LEEstimator\n",
    "from prettytable import PrettyTable\n",
    "def ri(x):\n",
    "    if x == inf:\n",
    "        return \"-\"\n",
    "    return int(round(x))\n",
    "\n",
    "row_header = [\"(n,k,q)\",\"CFMITM\",\"Leon\",\"Beullens\",\"BBPS\", \"New\"]\n",
    "t = PrettyTable(row_header)\n",
    "\n",
    "for par in [[252,126,127],[400,200,127],[548,274,127],[198,94,251]]:\n",
    "    n,k,q=par\n",
    "    new = time_new(n,k,q,verbose=0,lowerbound=-1)\n",
    "    low0 = time_new(n,k,q,verbose=0,lowerbound=0)\n",
    "    low1 = time_new(n,k,q,verbose=0,lowerbound=1)\n",
    "    \n",
    "    A=LEEstimator(n,k,q)\n",
    "    beu = A.beullens.time_complexity()\n",
    "    leo = A.leon.time_complexity()\n",
    "    bbps = A.bbps.time_complexity()\n",
    "    cf = cf_mitm_concrete(n,k,q)\n",
    "        \n",
    "    name = params= \"(\"+str(n)+\",\"+str(k)+\",\"+str(q)+\")\"\n",
    "    row = [name,ri(cf),ri(leo),ri(beu),ri(bbps),ri(new)]\n",
    "    t.add_row(row)\n",
    "\n",
    "print(t)"
   ]
  },
  {
   "cell_type": "markdown",
   "id": "3370c964-ab67-45b4-8c03-3515139575b5",
   "metadata": {},
   "source": [
    "### Permutation Equivalence Instances"
   ]
  },
  {
   "cell_type": "code",
   "execution_count": 10,
   "id": "cbcaa89b-5759-45a2-8747-c1599eb05340",
   "metadata": {
    "tags": []
   },
   "outputs": [
    {
     "name": "stdout",
     "output_type": "stream",
     "text": [
      "+---------------+--------+------+----------+-----+\n",
      "|    (n,k,q)    | CFMITM | Leon | Beullens | New |\n",
      "+---------------+--------+------+----------+-----+\n",
      "| (252,126,127) |  151   | 153  |   129    | 127 |\n",
      "| (400,200,127) |  227   | 230  |    -     | 196 |\n",
      "| (548,274,127) |  302   | 307  |   263    | 266 |\n",
      "| (235,108,251) |  142   | 154  |   125    | 123 |\n",
      "| (230,115,127) |  140   | 142  |   119    | 117 |\n",
      "+---------------+--------+------+----------+-----+\n"
     ]
    }
   ],
   "source": [
    "from cryptographic_estimators.PEEstimator import PEEstimator\n",
    "\n",
    "perm_eq= [[252,126,127],[400,200,127],[548,274,127],[235,108,251],[230,115,127]]\n",
    "row_header = [\"(n,k,q)\",\"CFMITM\",\"Leon\",\"Beullens\", \"New\"]\n",
    "t = PrettyTable(row_header)\n",
    "\n",
    "for i in perm_eq:\n",
    "    n,k,q=i\n",
    "    \n",
    "    new = time_new(n,k,q,verbose=0,lowerbound=-1)\n",
    "    low0 = time_new(n,k,q,verbose=0,lowerbound=0)\n",
    "    low1 = time_new(n,k,q,verbose=0,lowerbound=1)\n",
    "    \n",
    "    A=PEEstimator(n,k,q)\n",
    "    beu = A.beullens.time_complexity()\n",
    "    leo = A.leon.time_complexity()\n",
    "    cf = cf_mitm_concrete(n,k,q)\n",
    "\n",
    "    name= \"(\"+str(n)+\",\"+str(k)+\",\"+str(q)+\")\"\n",
    "    row =[name,ri(cf),ri(leo),ri(beu),ri(new)]\n",
    "    t.add_row(row)\n",
    "print(t)"
   ]
  },
  {
   "cell_type": "markdown",
   "id": "2a428d9e-b472-4550-85bd-d500a709b5b6",
   "metadata": {},
   "source": [
    "### Plot Concrete Complexities"
   ]
  },
  {
   "cell_type": "code",
   "execution_count": 12,
   "id": "b6644d1b-b5b5-4d1c-b8ac-c97da4a18985",
   "metadata": {
    "tags": []
   },
   "outputs": [],
   "source": [
    "Lnew=[]\n",
    "Llow1=[]\n",
    "Llow0=[]\n",
    "Lbeu=[]\n",
    "Lleo=[]\n",
    "Lbbps=[]\n",
    "Lcf=[]\n",
    "\n",
    "n=252\n",
    "k=126\n",
    "\n",
    "for i in range(5,250,2):\n",
    "    new = time_new(n,k,i,verbose=0,lowerbound=-1)\n",
    "    low0 = time_new(n,k,i,verbose=0,lowerbound=0)\n",
    "    low1 = time_new(n,k,i,verbose=0,lowerbound=1)\n",
    "    Lnew.append([i,new])\n",
    "    Llow0.append([i,low0])\n",
    "    Llow1.append([i,low1])\n",
    "    \n",
    "    A=LEEstimator(n,k,i)\n",
    "    beu = A.beullens.time_complexity()\n",
    "    leo = A.leon.time_complexity()\n",
    "    bbps = A.bbps.time_complexity()\n",
    "    Lbeu.append([i,beu])\n",
    "    Lleo.append([i,leo])\n",
    "    Lbbps.append([i,bbps])\n",
    "    \n",
    "    cf = cf_mitm_concrete(n,k,i)\n",
    "    Lcf.append([i,cf])"
   ]
  },
  {
   "cell_type": "code",
   "execution_count": 13,
   "id": "1142bdf6-9188-46ad-88fa-d9eadebe682e",
   "metadata": {
    "tags": []
   },
   "outputs": [],
   "source": [
    "Lbeu= [[j[0],j[1]] for j in Lbeu if j[1]!=inf]\n",
    "Lbbps= [[j[0],j[1]] for j in Lbbps if j[1]!=inf]"
   ]
  },
  {
   "cell_type": "code",
   "execution_count": 14,
   "id": "a5463d01-0f33-4d6d-98dd-0f16b58f035a",
   "metadata": {
    "tags": []
   },
   "outputs": [
    {
     "data": {
      "image/png": "[encoded data removed]",
      "text/plain": [
       "<Figure size 640x480 with 1 Axes>"
      ]
     },
     "metadata": {},
     "output_type": "display_data"
    }
   ],
   "source": [
    "import matplotlib.pyplot as plt\n",
    "def plot(L,label_list):\n",
    "    \"\"\"\n",
    "    function to plot list of lists of the form L=[L1,L2,...] with Li=[[x1,y1],[x2,y2],...]\n",
    "    \"\"\"\n",
    "    c=0\n",
    "    for Li in L:\n",
    "        x,y=zip(*Li)\n",
    "        plt.scatter(x,y, label=label_list[c],s=1)\n",
    "        c+=1\n",
    "    plt.legend(bbox_to_anchor=(1.05, 1), loc='upper left')\n",
    "    \n",
    "plot([Lnew,Llow1,Llow0,Lleo,Lbeu,Lbbps,Lcf],[\"New\",\"Lowerbound\", \"Semi-Lowerbound\",\"Leon\",\"Beullens\",\"BBPS\",\"CFMITM\"])"
   ]
  }
 ],
 "metadata": {
  "kernelspec": {
   "display_name": "Python 3 (ipykernel)",
   "language": "python",
   "name": "python3"
  },
  "language_info": {
   "codemirror_mode": {
    "name": "ipython",
    "version": 3
   },
   "file_extension": ".py",
   "mimetype": "text/x-python",
   "name": "python",
   "nbconvert_exporter": "python",
   "pygments_lexer": "ipython3",
   "version": "3.11.4"
  }
 },
 "nbformat": 4,
 "nbformat_minor": 5
}
